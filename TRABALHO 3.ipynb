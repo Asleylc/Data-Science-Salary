{
 "cells": [
  {
   "cell_type": "markdown",
   "metadata": {},
   "source": [
    "# Trabalho 3 - Machine Learning\n",
    "\n",
    "Autor: Asley Lioba Caldas\n"
   ]
  },
  {
   "cell_type": "code",
   "execution_count": null,
   "metadata": {},
   "outputs": [],
   "source": []
  },
  {
   "cell_type": "code",
   "execution_count": 116,
   "metadata": {},
   "outputs": [],
   "source": [
    "import pandas as pd\n",
    "import matplotlib.pyplot as plt\n",
    "from pandas.plotting import scatter_matrix\n",
    "import numpy as np\n",
    "import matplotlib.pyplot as plt\n",
    "import scipy.stats as stats\n",
    "import seaborn as sns\n",
    "import math\n",
    "import statsmodels.api as sm\n",
    "import pylab as py\n",
    "import random"
   ]
  },
  {
   "cell_type": "code",
   "execution_count": 117,
   "metadata": {},
   "outputs": [],
   "source": [
    "df = pd.read_csv('./dataset.csv')\n"
   ]
  },
  {
   "cell_type": "code",
   "execution_count": 118,
   "metadata": {},
   "outputs": [
    {
     "data": {
      "text/html": [
       "<div>\n",
       "<style scoped>\n",
       "    .dataframe tbody tr th:only-of-type {\n",
       "        vertical-align: middle;\n",
       "    }\n",
       "\n",
       "    .dataframe tbody tr th {\n",
       "        vertical-align: top;\n",
       "    }\n",
       "\n",
       "    .dataframe thead th {\n",
       "        text-align: right;\n",
       "    }\n",
       "</style>\n",
       "<table border=\"1\" class=\"dataframe\">\n",
       "  <thead>\n",
       "    <tr style=\"text-align: right;\">\n",
       "      <th></th>\n",
       "      <th>Empresa</th>\n",
       "      <th>Salario</th>\n",
       "      <th>Classe</th>\n",
       "      <th>Sede</th>\n",
       "      <th>Tamanho</th>\n",
       "      <th>Fundação</th>\n",
       "      <th>Tipo</th>\n",
       "      <th>Setor</th>\n",
       "      <th>Moeda</th>\n",
       "      <th>Valor_moeda</th>\n",
       "    </tr>\n",
       "  </thead>\n",
       "  <tbody>\n",
       "    <tr>\n",
       "      <th>0</th>\n",
       "      <td>Itaú Unibanco (Itaú BBA e Rede)</td>\n",
       "      <td>8580</td>\n",
       "      <td>Pleno</td>\n",
       "      <td>Rio de Janeiro, Brasil</td>\n",
       "      <td>25</td>\n",
       "      <td>NaN</td>\n",
       "      <td>Franquia</td>\n",
       "      <td>Desconhecido/Não se aplica</td>\n",
       "      <td>R$</td>\n",
       "      <td>1</td>\n",
       "    </tr>\n",
       "    <tr>\n",
       "      <th>1</th>\n",
       "      <td>Itaú Unibanco (Itaú BBA e Rede)</td>\n",
       "      <td>6874</td>\n",
       "      <td>Junior</td>\n",
       "      <td>São Paulo, Brasil</td>\n",
       "      <td>125</td>\n",
       "      <td>2016.0</td>\n",
       "      <td>Empresa: privada</td>\n",
       "      <td>Empréstimos</td>\n",
       "      <td>R$</td>\n",
       "      <td>1</td>\n",
       "    </tr>\n",
       "    <tr>\n",
       "      <th>2</th>\n",
       "      <td>Banco Bradesco</td>\n",
       "      <td>5984</td>\n",
       "      <td>Junior</td>\n",
       "      <td>Campinas, Brasil</td>\n",
       "      <td>25</td>\n",
       "      <td>NaN</td>\n",
       "      <td>Empresa: privada</td>\n",
       "      <td>Publicidade e marketing</td>\n",
       "      <td>R$</td>\n",
       "      <td>1</td>\n",
       "    </tr>\n",
       "    <tr>\n",
       "      <th>3</th>\n",
       "      <td>Itaú Unibanco (Itaú BBA e Rede)</td>\n",
       "      <td>11764</td>\n",
       "      <td>Senior</td>\n",
       "      <td>Massy, França</td>\n",
       "      <td>10000</td>\n",
       "      <td>1958.0</td>\n",
       "      <td>Empresa: privada</td>\n",
       "      <td>Lojas de artigos gerais e grandes lojas</td>\n",
       "      <td>R$</td>\n",
       "      <td>1</td>\n",
       "    </tr>\n",
       "    <tr>\n",
       "      <th>4</th>\n",
       "      <td>Semantix</td>\n",
       "      <td>3773</td>\n",
       "      <td>Junior</td>\n",
       "      <td>Brasília, Brasil</td>\n",
       "      <td>350</td>\n",
       "      <td>2017.0</td>\n",
       "      <td>Empresa: privada</td>\n",
       "      <td>Serviços de TI</td>\n",
       "      <td>R$</td>\n",
       "      <td>1</td>\n",
       "    </tr>\n",
       "    <tr>\n",
       "      <th>...</th>\n",
       "      <td>...</td>\n",
       "      <td>...</td>\n",
       "      <td>...</td>\n",
       "      <td>...</td>\n",
       "      <td>...</td>\n",
       "      <td>...</td>\n",
       "      <td>...</td>\n",
       "      <td>...</td>\n",
       "      <td>...</td>\n",
       "      <td>...</td>\n",
       "    </tr>\n",
       "    <tr>\n",
       "      <th>384</th>\n",
       "      <td>XP Inc.</td>\n",
       "      <td>9541</td>\n",
       "      <td>Senior</td>\n",
       "      <td>Fortaleza, Brasil</td>\n",
       "      <td>350</td>\n",
       "      <td>2001.0</td>\n",
       "      <td>Organização sem fins lucrativos</td>\n",
       "      <td>Serviços de TI</td>\n",
       "      <td>R$R$</td>\n",
       "      <td>1</td>\n",
       "    </tr>\n",
       "    <tr>\n",
       "      <th>385</th>\n",
       "      <td>Softplan</td>\n",
       "      <td>8958</td>\n",
       "      <td>Senior</td>\n",
       "      <td>Barueri, Brasil</td>\n",
       "      <td>350</td>\n",
       "      <td>2014.0</td>\n",
       "      <td>Empresa: privada</td>\n",
       "      <td>Processamento de transações financeiras</td>\n",
       "      <td>R$R$</td>\n",
       "      <td>1</td>\n",
       "    </tr>\n",
       "    <tr>\n",
       "      <th>386</th>\n",
       "      <td>Netflix</td>\n",
       "      <td>51333</td>\n",
       "      <td>Senior</td>\n",
       "      <td>Florianópolis, Brasil</td>\n",
       "      <td>350</td>\n",
       "      <td>2009.0</td>\n",
       "      <td>Empresa: privada</td>\n",
       "      <td>Hardware e software</td>\n",
       "      <td>R$R$</td>\n",
       "      <td>1</td>\n",
       "    </tr>\n",
       "    <tr>\n",
       "      <th>387</th>\n",
       "      <td>Technip</td>\n",
       "      <td>10041</td>\n",
       "      <td>Senior</td>\n",
       "      <td>Vitória, Brasil</td>\n",
       "      <td>2500</td>\n",
       "      <td>2012.0</td>\n",
       "      <td>Empresa: privada</td>\n",
       "      <td>Processamento de transações financeiras</td>\n",
       "      <td>R$R$</td>\n",
       "      <td>1</td>\n",
       "    </tr>\n",
       "    <tr>\n",
       "      <th>388</th>\n",
       "      <td>Helly Hansen</td>\n",
       "      <td>1120</td>\n",
       "      <td>Junior</td>\n",
       "      <td>Porto Alegre, Brasil</td>\n",
       "      <td>125</td>\n",
       "      <td>2015.0</td>\n",
       "      <td>Empresa: privada</td>\n",
       "      <td>Serviços de TI</td>\n",
       "      <td>R$R$</td>\n",
       "      <td>1</td>\n",
       "    </tr>\n",
       "  </tbody>\n",
       "</table>\n",
       "<p>389 rows × 10 columns</p>\n",
       "</div>"
      ],
      "text/plain": [
       "                             Empresa  Salario  Classe                    Sede  \\\n",
       "0    Itaú Unibanco (Itaú BBA e Rede)     8580   Pleno  Rio de Janeiro, Brasil   \n",
       "1    Itaú Unibanco (Itaú BBA e Rede)     6874  Junior       São Paulo, Brasil   \n",
       "2                     Banco Bradesco     5984  Junior        Campinas, Brasil   \n",
       "3    Itaú Unibanco (Itaú BBA e Rede)    11764  Senior           Massy, França   \n",
       "4                           Semantix     3773  Junior        Brasília, Brasil   \n",
       "..                               ...      ...     ...                     ...   \n",
       "384                          XP Inc.     9541  Senior       Fortaleza, Brasil   \n",
       "385                         Softplan     8958  Senior         Barueri, Brasil   \n",
       "386                          Netflix    51333  Senior   Florianópolis, Brasil   \n",
       "387                          Technip    10041  Senior         Vitória, Brasil   \n",
       "388                    Helly Hansen      1120  Junior    Porto Alegre, Brasil   \n",
       "\n",
       "     Tamanho  Fundação                             Tipo  \\\n",
       "0         25       NaN                         Franquia   \n",
       "1        125    2016.0                 Empresa: privada   \n",
       "2         25       NaN                 Empresa: privada   \n",
       "3      10000    1958.0                 Empresa: privada   \n",
       "4        350    2017.0                 Empresa: privada   \n",
       "..       ...       ...                              ...   \n",
       "384      350    2001.0  Organização sem fins lucrativos   \n",
       "385      350    2014.0                 Empresa: privada   \n",
       "386      350    2009.0                 Empresa: privada   \n",
       "387     2500    2012.0                 Empresa: privada   \n",
       "388      125    2015.0                 Empresa: privada   \n",
       "\n",
       "                                       Setor Moeda  Valor_moeda  \n",
       "0                 Desconhecido/Não se aplica    R$            1  \n",
       "1                                Empréstimos    R$            1  \n",
       "2                    Publicidade e marketing    R$            1  \n",
       "3    Lojas de artigos gerais e grandes lojas    R$            1  \n",
       "4                             Serviços de TI    R$            1  \n",
       "..                                       ...   ...          ...  \n",
       "384                           Serviços de TI  R$R$            1  \n",
       "385  Processamento de transações financeiras  R$R$            1  \n",
       "386                      Hardware e software  R$R$            1  \n",
       "387  Processamento de transações financeiras  R$R$            1  \n",
       "388                           Serviços de TI  R$R$            1  \n",
       "\n",
       "[389 rows x 10 columns]"
      ]
     },
     "execution_count": 118,
     "metadata": {},
     "output_type": "execute_result"
    }
   ],
   "source": [
    "df"
   ]
  },
  {
   "cell_type": "code",
   "execution_count": 5,
   "metadata": {},
   "outputs": [],
   "source": [
    "import numpy as np\n",
    "def remove_outliers(df, standard_deviations=2):\n",
    "    df_mean = df.mean()\n",
    "    df_std = df.std()\n",
    "    return df[df.apply(lambda x: np.abs(x - df_mean) <= standard_deviations*df_std)]"
   ]
  },
  {
   "cell_type": "code",
   "execution_count": 6,
   "metadata": {
    "scrolled": true
   },
   "outputs": [
    {
     "data": {
      "text/plain": [
       "<matplotlib.axes._subplots.AxesSubplot at 0x2044bb3bb08>"
      ]
     },
     "execution_count": 6,
     "metadata": {},
     "output_type": "execute_result"
    },
    {
     "data": {
      "image/png": "[encoded data removed]",
      "text/plain": [
       "<Figure size 432x288 with 1 Axes>"
      ]
     },
     "metadata": {
      "needs_background": "light"
     },
     "output_type": "display_data"
    }
   ],
   "source": [
    "remove_outliers(df['Salario'], standard_deviations=1).hist()"
   ]
  },
  {
   "cell_type": "code",
   "execution_count": 7,
   "metadata": {},
   "outputs": [
    {
     "data": {
      "text/plain": [
       "<matplotlib.axes._subplots.AxesSubplot at 0x2044dc28708>"
      ]
     },
     "execution_count": 7,
     "metadata": {},
     "output_type": "execute_result"
    },
    {
     "data": {
      "image/png": "[encoded data removed]",
      "text/plain": [
       "<Figure size 432x288 with 1 Axes>"
      ]
     },
     "metadata": {
      "needs_background": "light"
     },
     "output_type": "display_data"
    }
   ],
   "source": [
    "remove_outliers(df['Salario'], standard_deviations=2).hist()"
   ]
  },
  {
   "cell_type": "code",
   "execution_count": 8,
   "metadata": {},
   "outputs": [],
   "source": [
    "dfj = df[df['Classe'] == 'Junior']\n",
    "dfp = df[df['Classe'] == 'Pleno']\n",
    "dfs = df[df['Classe'] == 'Senior']\n"
   ]
  },
  {
   "cell_type": "code",
   "execution_count": 9,
   "metadata": {},
   "outputs": [
    {
     "data": {
      "text/plain": [
       "<matplotlib.axes._subplots.AxesSubplot at 0x2044dca6f88>"
      ]
     },
     "execution_count": 9,
     "metadata": {},
     "output_type": "execute_result"
    },
    {
     "data": {
      "image/png": "[encoded data removed]",
      "text/plain": [
       "<Figure size 432x288 with 1 Axes>"
      ]
     },
     "metadata": {
      "needs_background": "light"
     },
     "output_type": "display_data"
    }
   ],
   "source": [
    "remove_outliers(dfj['Salario'], standard_deviations=1).hist()"
   ]
  },
  {
   "cell_type": "code",
   "execution_count": 10,
   "metadata": {},
   "outputs": [
    {
     "data": {
      "text/plain": [
       "<matplotlib.axes._subplots.AxesSubplot at 0x2044dd51fc8>"
      ]
     },
     "execution_count": 10,
     "metadata": {},
     "output_type": "execute_result"
    },
    {
     "data": {
      "image/png": "[encoded data removed]",
      "text/plain": [
       "<Figure size 432x288 with 1 Axes>"
      ]
     },
     "metadata": {
      "needs_background": "light"
     },
     "output_type": "display_data"
    }
   ],
   "source": [
    "remove_outliers(dfj['Salario'], standard_deviations=2).hist()"
   ]
  },
  {
   "cell_type": "code",
   "execution_count": 11,
   "metadata": {},
   "outputs": [
    {
     "data": {
      "text/plain": [
       "<matplotlib.axes._subplots.AxesSubplot at 0x2044dde5a48>"
      ]
     },
     "execution_count": 11,
     "metadata": {},
     "output_type": "execute_result"
    },
    {
     "data": {
      "image/png": "[encoded data removed]",
      "text/plain": [
       "<Figure size 432x288 with 1 Axes>"
      ]
     },
     "metadata": {
      "needs_background": "light"
     },
     "output_type": "display_data"
    }
   ],
   "source": [
    "remove_outliers(dfp['Salario'], standard_deviations=1).hist()"
   ]
  },
  {
   "cell_type": "code",
   "execution_count": 12,
   "metadata": {},
   "outputs": [
    {
     "data": {
      "text/plain": [
       "<matplotlib.axes._subplots.AxesSubplot at 0x2044de33788>"
      ]
     },
     "execution_count": 12,
     "metadata": {},
     "output_type": "execute_result"
    },
    {
     "data": {
      "image/png": "[encoded data removed]",
      "text/plain": [
       "<Figure size 432x288 with 1 Axes>"
      ]
     },
     "metadata": {
      "needs_background": "light"
     },
     "output_type": "display_data"
    }
   ],
   "source": [
    "remove_outliers(dfp['Salario'], standard_deviations=2).hist()"
   ]
  },
  {
   "cell_type": "code",
   "execution_count": 13,
   "metadata": {},
   "outputs": [
    {
     "data": {
      "text/plain": [
       "<matplotlib.axes._subplots.AxesSubplot at 0x2044df06208>"
      ]
     },
     "execution_count": 13,
     "metadata": {},
     "output_type": "execute_result"
    },
    {
     "data": {
      "image/png": "[encoded data removed]",
      "text/plain": [
       "<Figure size 432x288 with 1 Axes>"
      ]
     },
     "metadata": {
      "needs_background": "light"
     },
     "output_type": "display_data"
    }
   ],
   "source": [
    "remove_outliers(dfs['Salario'], standard_deviations=1).hist()"
   ]
  },
  {
   "cell_type": "code",
   "execution_count": 14,
   "metadata": {},
   "outputs": [
    {
     "data": {
      "text/plain": [
       "<matplotlib.axes._subplots.AxesSubplot at 0x2044df836c8>"
      ]
     },
     "execution_count": 14,
     "metadata": {},
     "output_type": "execute_result"
    },
    {
     "data": {
      "image/png": "[encoded data removed]",
      "text/plain": [
       "<Figure size 432x288 with 1 Axes>"
      ]
     },
     "metadata": {
      "needs_background": "light"
     },
     "output_type": "display_data"
    }
   ],
   "source": [
    "remove_outliers(dfs['Salario'], standard_deviations=2).hist()"
   ]
  },
  {
   "cell_type": "code",
   "execution_count": 15,
   "metadata": {},
   "outputs": [],
   "source": [
    "df['Classe'] = [w.replace('Senior', '3') for w in df['Classe']]\n",
    "df['Classe'] = [w.replace('Pleno', '2') for w in df['Classe']]\n",
    "df['Classe'] = [w.replace('Junior', '1') for w in df['Classe']]\n",
    "df['Classe'] = df['Classe'].astype(int)"
   ]
  },
  {
   "cell_type": "code",
   "execution_count": 16,
   "metadata": {},
   "outputs": [],
   "source": [
    "from sklearn.linear_model import LinearRegression\n",
    "\n",
    "X= df[['Salario']]\n",
    "y = df['Tamanho']"
   ]
  },
  {
   "cell_type": "code",
   "execution_count": 17,
   "metadata": {},
   "outputs": [],
   "source": [
    "modelskl = LinearRegression()"
   ]
  },
  {
   "cell_type": "code",
   "execution_count": 18,
   "metadata": {},
   "outputs": [
    {
     "data": {
      "text/plain": [
       "LinearRegression()"
      ]
     },
     "execution_count": 18,
     "metadata": {},
     "output_type": "execute_result"
    }
   ],
   "source": [
    "modelskl.fit(X,y)"
   ]
  },
  {
   "cell_type": "code",
   "execution_count": 19,
   "metadata": {},
   "outputs": [
    {
     "data": {
      "text/plain": [
       "array([0.05814804])"
      ]
     },
     "execution_count": 19,
     "metadata": {},
     "output_type": "execute_result"
    }
   ],
   "source": [
    "modelskl.coef_"
   ]
  },
  {
   "cell_type": "code",
   "execution_count": 20,
   "metadata": {},
   "outputs": [
    {
     "data": {
      "text/plain": [
       "3116.6858491256803"
      ]
     },
     "execution_count": 20,
     "metadata": {},
     "output_type": "execute_result"
    }
   ],
   "source": [
    "modelskl.intercept_"
   ]
  },
  {
   "cell_type": "code",
   "execution_count": 21,
   "metadata": {},
   "outputs": [
    {
     "data": {
      "image/png": "[encoded data removed]",
      "text/plain": [
       "<Figure size 640x480 with 1 Axes>"
      ]
     },
     "metadata": {},
     "output_type": "display_data"
    },
    {
     "data": {
      "text/plain": [
       "<ggplot: (-9223371898256455484)>"
      ]
     },
     "execution_count": 21,
     "metadata": {},
     "output_type": "execute_result"
    }
   ],
   "source": [
    "from plotnine import *\n",
    "\n",
    "(ggplot(df,aes('Salario','Tamanho'))\n",
    " + geom_point()\n",
    " + theme_light()\n",
    " + geom_abline(intercept=modelskl.intercept_ , slope=modelskl.coef_[0], color='red')\n",
    ")"
   ]
  },
  {
   "cell_type": "code",
   "execution_count": null,
   "metadata": {},
   "outputs": [],
   "source": []
  },
  {
   "cell_type": "code",
   "execution_count": 22,
   "metadata": {},
   "outputs": [],
   "source": [
    "from sklearn.linear_model import LinearRegression\n",
    "\n",
    "X= df[['Salario']]\n",
    "y = df['Classe']"
   ]
  },
  {
   "cell_type": "code",
   "execution_count": 23,
   "metadata": {},
   "outputs": [],
   "source": [
    "modelskl = LinearRegression()"
   ]
  },
  {
   "cell_type": "code",
   "execution_count": 24,
   "metadata": {},
   "outputs": [
    {
     "data": {
      "text/plain": [
       "LinearRegression()"
      ]
     },
     "execution_count": 24,
     "metadata": {},
     "output_type": "execute_result"
    }
   ],
   "source": [
    "modelskl.fit(X,y)"
   ]
  },
  {
   "cell_type": "code",
   "execution_count": 25,
   "metadata": {},
   "outputs": [
    {
     "data": {
      "text/plain": [
       "array([0.000121])"
      ]
     },
     "execution_count": 25,
     "metadata": {},
     "output_type": "execute_result"
    }
   ],
   "source": [
    "modelskl.coef_"
   ]
  },
  {
   "cell_type": "code",
   "execution_count": 26,
   "metadata": {},
   "outputs": [
    {
     "data": {
      "text/plain": [
       "0.9751161806401484"
      ]
     },
     "execution_count": 26,
     "metadata": {},
     "output_type": "execute_result"
    }
   ],
   "source": [
    "modelskl.intercept_"
   ]
  },
  {
   "cell_type": "code",
   "execution_count": 27,
   "metadata": {},
   "outputs": [
    {
     "data": {
      "image/png": "[encoded data removed]",
      "text/plain": [
       "<Figure size 640x480 with 1 Axes>"
      ]
     },
     "metadata": {},
     "output_type": "display_data"
    },
    {
     "data": {
      "text/plain": [
       "<ggplot: (-9223371898256907024)>"
      ]
     },
     "execution_count": 27,
     "metadata": {},
     "output_type": "execute_result"
    }
   ],
   "source": [
    "from plotnine import *\n",
    "\n",
    "(ggplot(df,aes('Salario','Classe'))\n",
    " + geom_point()\n",
    " + theme_light()\n",
    " + geom_abline(intercept=modelskl.intercept_ , slope=modelskl.coef_[0], color='red')\n",
    ")"
   ]
  },
  {
   "cell_type": "code",
   "execution_count": null,
   "metadata": {},
   "outputs": [],
   "source": []
  },
  {
   "cell_type": "code",
   "execution_count": 28,
   "metadata": {},
   "outputs": [
    {
     "data": {
      "text/plain": [
       "array([2, 1, 3])"
      ]
     },
     "execution_count": 28,
     "metadata": {},
     "output_type": "execute_result"
    }
   ],
   "source": [
    "df['Classe'].unique()"
   ]
  },
  {
   "cell_type": "code",
   "execution_count": 29,
   "metadata": {},
   "outputs": [
    {
     "data": {
      "text/plain": [
       "count    389.000000\n",
       "mean       1.930591\n",
       "std        0.857240\n",
       "min        1.000000\n",
       "25%        1.000000\n",
       "50%        2.000000\n",
       "75%        3.000000\n",
       "max        3.000000\n",
       "Name: Classe, dtype: float64"
      ]
     },
     "execution_count": 29,
     "metadata": {},
     "output_type": "execute_result"
    }
   ],
   "source": [
    "df['Classe'].describe()"
   ]
  },
  {
   "cell_type": "markdown",
   "metadata": {},
   "source": [
    "# Regressão Linear Multivariada"
   ]
  },
  {
   "cell_type": "code",
   "execution_count": 30,
   "metadata": {},
   "outputs": [],
   "source": [
    "junior = []\n",
    "pleno = []\n",
    "senior = []\n",
    "\n",
    "juniorS = []\n",
    "plenoS = []\n",
    "seniorS = []\n",
    "\n",
    "juniorT = []\n",
    "plenoT = []\n",
    "seniorT = []"
   ]
  },
  {
   "cell_type": "code",
   "execution_count": 31,
   "metadata": {},
   "outputs": [],
   "source": [
    "dfj = df.loc[df['Classe']==1]\n",
    "dfp = df.loc[df['Classe']==2]\n",
    "dfs = df.loc[df['Classe']==3]\n"
   ]
  },
  {
   "cell_type": "code",
   "execution_count": 32,
   "metadata": {},
   "outputs": [],
   "source": [
    "j = list(dfj['Classe'])\n",
    "p = list(dfp['Classe'])\n",
    "s = list(dfs['Classe'])\n",
    "\n",
    "js = list(dfj['Salario'])\n",
    "ps = list(dfp['Salario'])\n",
    "ss = list(dfs['Salario'])\n",
    "\n",
    "jt = list(dfj['Tamanho'])\n",
    "pt = list(dfp['Tamanho'])\n",
    "st = list(dfs['Tamanho'])"
   ]
  },
  {
   "cell_type": "code",
   "execution_count": null,
   "metadata": {},
   "outputs": [],
   "source": []
  },
  {
   "cell_type": "code",
   "execution_count": 33,
   "metadata": {},
   "outputs": [
    {
     "data": {
      "text/plain": [
       "102"
      ]
     },
     "execution_count": 33,
     "metadata": {},
     "output_type": "execute_result"
    }
   ],
   "source": [
    "len(p)"
   ]
  },
  {
   "cell_type": "code",
   "execution_count": 34,
   "metadata": {},
   "outputs": [],
   "source": [
    "#Undersampling\n",
    "for x in range(102):\n",
    "    junior.append(j[x])\n",
    "    juniorS.append(js[x])\n",
    "    juniorT.append(jt[x])\n",
    "    \n",
    "    pleno.append(p[x])\n",
    "    plenoS.append(ps[x])\n",
    "    plenoT.append(pt[x])\n",
    "    \n",
    "    senior.append(s[x])\n",
    "    seniorS.append(ss[x])\n",
    "    seniorT.append(st[x])"
   ]
  },
  {
   "cell_type": "code",
   "execution_count": null,
   "metadata": {},
   "outputs": [],
   "source": []
  },
  {
   "cell_type": "code",
   "execution_count": 35,
   "metadata": {},
   "outputs": [],
   "source": [
    "df_j = pd.DataFrame(list(zip(junior,juniorS,juniorT)), columns = ['Classe','Salario','Tamanho'])"
   ]
  },
  {
   "cell_type": "code",
   "execution_count": 36,
   "metadata": {},
   "outputs": [],
   "source": [
    "df_p = pd.DataFrame(list(zip(pleno,plenoS,plenoT)), columns = ['Classe','Salario','Tamanho'])"
   ]
  },
  {
   "cell_type": "code",
   "execution_count": 37,
   "metadata": {},
   "outputs": [],
   "source": [
    "df_s = pd.DataFrame(list(zip(senior,seniorS,seniorT)), columns = ['Classe','Salario','Tamanho'])"
   ]
  },
  {
   "cell_type": "code",
   "execution_count": 38,
   "metadata": {},
   "outputs": [],
   "source": [
    "df_total = pd.concat([df_j, df_p, df_s])"
   ]
  },
  {
   "cell_type": "code",
   "execution_count": 39,
   "metadata": {},
   "outputs": [
    {
     "data": {
      "text/plain": [
       "306"
      ]
     },
     "execution_count": 39,
     "metadata": {},
     "output_type": "execute_result"
    }
   ],
   "source": [
    "len(df_total)"
   ]
  },
  {
   "cell_type": "code",
   "execution_count": 40,
   "metadata": {},
   "outputs": [],
   "source": [
    "#usando a eliminação de outliers\n",
    "import numpy as np\n",
    "def remove_outliers(df, standard_deviations=2):\n",
    "    df_mean = df.mean()\n",
    "    df_std = df.std()\n",
    "    return df[df.apply(lambda x: np.abs(x - df_mean) <= standard_deviations*df_std)]"
   ]
  },
  {
   "cell_type": "code",
   "execution_count": 41,
   "metadata": {},
   "outputs": [],
   "source": [
    "xj = remove_outliers(df_j['Salario'], standard_deviations=1)\n",
    "yj = remove_outliers(df_j['Tamanho'], standard_deviations=1)\n",
    "\n",
    "xp = remove_outliers(df_p['Salario'], standard_deviations=1)\n",
    "yp = remove_outliers(df_p['Tamanho'], standard_deviations=1)\n",
    "\n",
    "xs = remove_outliers(df_s['Salario'], standard_deviations=1)\n",
    "ys = remove_outliers(df_s['Tamanho'], standard_deviations=1)"
   ]
  },
  {
   "cell_type": "code",
   "execution_count": 42,
   "metadata": {},
   "outputs": [],
   "source": [
    "jun = pd.DataFrame(list(zip(junior,xj,yj)), columns = ['Classe','Salario','Tamanho'])\n",
    "ple = pd.DataFrame(list(zip(pleno,xp,yp)), columns = ['Classe','Salario','Tamanho'])\n",
    "sen = pd.DataFrame(list(zip(senior,xs,ys)), columns = ['Classe','Salario','Tamanho'])"
   ]
  },
  {
   "cell_type": "code",
   "execution_count": 43,
   "metadata": {},
   "outputs": [
    {
     "data": {
      "text/plain": [
       "63"
      ]
     },
     "execution_count": 43,
     "metadata": {},
     "output_type": "execute_result"
    }
   ],
   "source": [
    "len(sen)"
   ]
  },
  {
   "cell_type": "code",
   "execution_count": 44,
   "metadata": {},
   "outputs": [],
   "source": [
    "df_total = pd.concat([jun, ple, sen])"
   ]
  },
  {
   "cell_type": "code",
   "execution_count": 45,
   "metadata": {},
   "outputs": [
    {
     "data": {
      "text/plain": [
       "215"
      ]
     },
     "execution_count": 45,
     "metadata": {},
     "output_type": "execute_result"
    }
   ],
   "source": [
    "len(df_total)"
   ]
  },
  {
   "cell_type": "code",
   "execution_count": 47,
   "metadata": {},
   "outputs": [],
   "source": [
    "j2 = list(jun['Classe'])\n",
    "p2 = list(ple['Classe'])\n",
    "s2 = list(sen['Classe'])\n",
    "\n",
    "js2 = list(jun['Salario'])\n",
    "ps2 = list(ple['Salario'])\n",
    "ss2 = list(sen['Salario'])\n",
    "\n",
    "jt2 = list(jun['Tamanho'])\n",
    "pt2 = list(ple['Tamanho'])\n",
    "st2 = list(sen['Tamanho'])"
   ]
  },
  {
   "cell_type": "code",
   "execution_count": 48,
   "metadata": {},
   "outputs": [
    {
     "data": {
      "text/plain": [
       "63"
      ]
     },
     "execution_count": 48,
     "metadata": {},
     "output_type": "execute_result"
    }
   ],
   "source": [
    "len(st2)"
   ]
  },
  {
   "cell_type": "code",
   "execution_count": 49,
   "metadata": {},
   "outputs": [],
   "source": [
    "junior2 = []\n",
    "pleno2 = []\n",
    "senior2 = []\n",
    "\n",
    "juniorS2 = []\n",
    "plenoS2 = []\n",
    "seniorS2 = []\n",
    "\n",
    "juniorT2 = []\n",
    "plenoT2 = []\n",
    "seniorT2 = []"
   ]
  },
  {
   "cell_type": "code",
   "execution_count": 50,
   "metadata": {},
   "outputs": [],
   "source": [
    "#Undersampling\n",
    "\n",
    "for x in range(63):\n",
    "    junior2.append(j2[x])\n",
    "    juniorS2.append(js2[x])\n",
    "    juniorT2.append(jt2[x])\n",
    "    \n",
    "    pleno2.append(p2[x])\n",
    "    plenoS2.append(ps2[x])\n",
    "    plenoT2.append(pt2[x])\n",
    "    \n",
    "    senior2.append(s2[x])\n",
    "    seniorS2.append(ss2[x])\n",
    "    seniorT2.append(st2[x])"
   ]
  },
  {
   "cell_type": "code",
   "execution_count": 51,
   "metadata": {},
   "outputs": [],
   "source": [
    "df_j2 = pd.DataFrame(list(zip(junior2,juniorS2,juniorT2)), columns = ['Classe','Salario','Tamanho'])\n",
    "\n",
    "df_p2 = pd.DataFrame(list(zip(pleno2,plenoS2,plenoT2)), columns = ['Classe','Salario','Tamanho'])\n",
    "\n",
    "df_s2 = pd.DataFrame(list(zip(senior2,seniorS2,seniorT2)), columns = ['Classe','Salario','Tamanho'])"
   ]
  },
  {
   "cell_type": "code",
   "execution_count": 52,
   "metadata": {},
   "outputs": [
    {
     "data": {
      "text/plain": [
       "63"
      ]
     },
     "execution_count": 52,
     "metadata": {},
     "output_type": "execute_result"
    }
   ],
   "source": [
    "len(df_j2)"
   ]
  },
  {
   "cell_type": "code",
   "execution_count": 53,
   "metadata": {},
   "outputs": [],
   "source": [
    "df_total2 = pd.concat([df_j2, df_p2, df_s2])"
   ]
  },
  {
   "cell_type": "code",
   "execution_count": 54,
   "metadata": {},
   "outputs": [
    {
     "data": {
      "text/plain": [
       "189"
      ]
     },
     "execution_count": 54,
     "metadata": {},
     "output_type": "execute_result"
    }
   ],
   "source": [
    "len(df_total2)"
   ]
  },
  {
   "cell_type": "code",
   "execution_count": 55,
   "metadata": {},
   "outputs": [],
   "source": [
    "import sklearn\n",
    "df_shuffled2=sklearn.utils.shuffle(df_total2)\n",
    "#print(df_shuffled)"
   ]
  },
  {
   "cell_type": "code",
   "execution_count": null,
   "metadata": {},
   "outputs": [],
   "source": []
  },
  {
   "cell_type": "code",
   "execution_count": 56,
   "metadata": {},
   "outputs": [],
   "source": [
    "#fim da remodalegem teste"
   ]
  },
  {
   "cell_type": "code",
   "execution_count": 57,
   "metadata": {},
   "outputs": [],
   "source": [
    "X = df_shuffled2[['Classe', 'Tamanho']] #antes seria apenas df\n",
    "y = df_shuffled2['Salario']"
   ]
  },
  {
   "cell_type": "code",
   "execution_count": 58,
   "metadata": {},
   "outputs": [
    {
     "data": {
      "text/plain": [
       "189"
      ]
     },
     "execution_count": 58,
     "metadata": {},
     "output_type": "execute_result"
    }
   ],
   "source": [
    "len(df_shuffled2)"
   ]
  },
  {
   "cell_type": "code",
   "execution_count": 59,
   "metadata": {},
   "outputs": [],
   "source": [
    "X = pd.get_dummies(X, columns=['Tamanho', 'Classe'], prefix=\"\", prefix_sep='') # 74, sem 79"
   ]
  },
  {
   "cell_type": "code",
   "execution_count": 60,
   "metadata": {},
   "outputs": [
    {
     "data": {
      "text/html": [
       "<div>\n",
       "<style scoped>\n",
       "    .dataframe tbody tr th:only-of-type {\n",
       "        vertical-align: middle;\n",
       "    }\n",
       "\n",
       "    .dataframe tbody tr th {\n",
       "        vertical-align: top;\n",
       "    }\n",
       "\n",
       "    .dataframe thead th {\n",
       "        text-align: right;\n",
       "    }\n",
       "</style>\n",
       "<table border=\"1\" class=\"dataframe\">\n",
       "  <thead>\n",
       "    <tr style=\"text-align: right;\">\n",
       "      <th></th>\n",
       "      <th>25</th>\n",
       "      <th>125</th>\n",
       "      <th>350</th>\n",
       "      <th>750</th>\n",
       "      <th>2500</th>\n",
       "      <th>7500</th>\n",
       "      <th>1</th>\n",
       "      <th>2</th>\n",
       "      <th>3</th>\n",
       "    </tr>\n",
       "  </thead>\n",
       "  <tbody>\n",
       "    <tr>\n",
       "      <th>18</th>\n",
       "      <td>0</td>\n",
       "      <td>0</td>\n",
       "      <td>0</td>\n",
       "      <td>0</td>\n",
       "      <td>1</td>\n",
       "      <td>0</td>\n",
       "      <td>1</td>\n",
       "      <td>0</td>\n",
       "      <td>0</td>\n",
       "    </tr>\n",
       "    <tr>\n",
       "      <th>39</th>\n",
       "      <td>0</td>\n",
       "      <td>0</td>\n",
       "      <td>1</td>\n",
       "      <td>0</td>\n",
       "      <td>0</td>\n",
       "      <td>0</td>\n",
       "      <td>1</td>\n",
       "      <td>0</td>\n",
       "      <td>0</td>\n",
       "    </tr>\n",
       "    <tr>\n",
       "      <th>13</th>\n",
       "      <td>1</td>\n",
       "      <td>0</td>\n",
       "      <td>0</td>\n",
       "      <td>0</td>\n",
       "      <td>0</td>\n",
       "      <td>0</td>\n",
       "      <td>1</td>\n",
       "      <td>0</td>\n",
       "      <td>0</td>\n",
       "    </tr>\n",
       "    <tr>\n",
       "      <th>16</th>\n",
       "      <td>0</td>\n",
       "      <td>0</td>\n",
       "      <td>0</td>\n",
       "      <td>0</td>\n",
       "      <td>1</td>\n",
       "      <td>0</td>\n",
       "      <td>1</td>\n",
       "      <td>0</td>\n",
       "      <td>0</td>\n",
       "    </tr>\n",
       "    <tr>\n",
       "      <th>38</th>\n",
       "      <td>0</td>\n",
       "      <td>1</td>\n",
       "      <td>0</td>\n",
       "      <td>0</td>\n",
       "      <td>0</td>\n",
       "      <td>0</td>\n",
       "      <td>0</td>\n",
       "      <td>1</td>\n",
       "      <td>0</td>\n",
       "    </tr>\n",
       "    <tr>\n",
       "      <th>...</th>\n",
       "      <td>...</td>\n",
       "      <td>...</td>\n",
       "      <td>...</td>\n",
       "      <td>...</td>\n",
       "      <td>...</td>\n",
       "      <td>...</td>\n",
       "      <td>...</td>\n",
       "      <td>...</td>\n",
       "      <td>...</td>\n",
       "    </tr>\n",
       "    <tr>\n",
       "      <th>44</th>\n",
       "      <td>0</td>\n",
       "      <td>0</td>\n",
       "      <td>0</td>\n",
       "      <td>0</td>\n",
       "      <td>1</td>\n",
       "      <td>0</td>\n",
       "      <td>1</td>\n",
       "      <td>0</td>\n",
       "      <td>0</td>\n",
       "    </tr>\n",
       "    <tr>\n",
       "      <th>23</th>\n",
       "      <td>0</td>\n",
       "      <td>1</td>\n",
       "      <td>0</td>\n",
       "      <td>0</td>\n",
       "      <td>0</td>\n",
       "      <td>0</td>\n",
       "      <td>0</td>\n",
       "      <td>1</td>\n",
       "      <td>0</td>\n",
       "    </tr>\n",
       "    <tr>\n",
       "      <th>11</th>\n",
       "      <td>0</td>\n",
       "      <td>1</td>\n",
       "      <td>0</td>\n",
       "      <td>0</td>\n",
       "      <td>0</td>\n",
       "      <td>0</td>\n",
       "      <td>1</td>\n",
       "      <td>0</td>\n",
       "      <td>0</td>\n",
       "    </tr>\n",
       "    <tr>\n",
       "      <th>27</th>\n",
       "      <td>0</td>\n",
       "      <td>0</td>\n",
       "      <td>0</td>\n",
       "      <td>0</td>\n",
       "      <td>1</td>\n",
       "      <td>0</td>\n",
       "      <td>1</td>\n",
       "      <td>0</td>\n",
       "      <td>0</td>\n",
       "    </tr>\n",
       "    <tr>\n",
       "      <th>61</th>\n",
       "      <td>1</td>\n",
       "      <td>0</td>\n",
       "      <td>0</td>\n",
       "      <td>0</td>\n",
       "      <td>0</td>\n",
       "      <td>0</td>\n",
       "      <td>0</td>\n",
       "      <td>0</td>\n",
       "      <td>1</td>\n",
       "    </tr>\n",
       "  </tbody>\n",
       "</table>\n",
       "<p>189 rows × 9 columns</p>\n",
       "</div>"
      ],
      "text/plain": [
       "    25  125  350  750  2500  7500  1  2  3\n",
       "18   0    0    0    0     1     0  1  0  0\n",
       "39   0    0    1    0     0     0  1  0  0\n",
       "13   1    0    0    0     0     0  1  0  0\n",
       "16   0    0    0    0     1     0  1  0  0\n",
       "38   0    1    0    0     0     0  0  1  0\n",
       "..  ..  ...  ...  ...   ...   ... .. .. ..\n",
       "44   0    0    0    0     1     0  1  0  0\n",
       "23   0    1    0    0     0     0  0  1  0\n",
       "11   0    1    0    0     0     0  1  0  0\n",
       "27   0    0    0    0     1     0  1  0  0\n",
       "61   1    0    0    0     0     0  0  0  1\n",
       "\n",
       "[189 rows x 9 columns]"
      ]
     },
     "execution_count": 60,
     "metadata": {},
     "output_type": "execute_result"
    }
   ],
   "source": [
    "X"
   ]
  },
  {
   "cell_type": "code",
   "execution_count": 61,
   "metadata": {},
   "outputs": [
    {
     "data": {
      "text/plain": [
       "0.8179377330439119"
      ]
     },
     "execution_count": 61,
     "metadata": {},
     "output_type": "execute_result"
    }
   ],
   "source": [
    "from sklearn.linear_model import LogisticRegression, LinearRegression\n",
    "from sklearn.model_selection import train_test_split\n",
    "from sklearn.svm import SVC\n",
    "from sklearn.preprocessing import StandardScaler\n",
    "from sklearn.datasets import make_classification\n",
    "from sklearn.model_selection import train_test_split\n",
    "from sklearn.pipeline import Pipeline\n",
    "\n",
    "\n",
    "pipe = Pipeline([('scaler', StandardScaler()), ('LR', LinearRegression())])\n",
    "\n",
    "#r2_score\n",
    "X_train, X_test, y_train, y_test = train_test_split(X, y, test_size=0.3, random_state=0) \n",
    "pipe.fit(X_train, y_train)\n",
    "pipe.score(X_test, y_test)"
   ]
  },
  {
   "cell_type": "code",
   "execution_count": 62,
   "metadata": {},
   "outputs": [],
   "source": [
    "output = pipe.predict(X_test)"
   ]
  },
  {
   "cell_type": "code",
   "execution_count": 63,
   "metadata": {},
   "outputs": [
    {
     "data": {
      "text/plain": [
       "array([ 7864.76577146,  7528.87956533,  7528.87956533,  4917.56948339,\n",
       "        6715.54514233,  4978.35934333,  7864.76577146,  7864.76577146,\n",
       "       10729.11979728,  5049.35860814, 11603.24408022,  4917.56948339,\n",
       "       10729.11979728,  4978.35934333,  4978.35934333,  7528.87956533,\n",
       "       11542.45422028,  7589.66942527, 10729.11979728,  7589.66942527,\n",
       "        7864.76577146,  4104.23506039,  7589.66942527, 11542.45422028,\n",
       "        6715.54514233,  4917.56948339, 11603.24408022,  7589.66942527,\n",
       "       11542.45422028,  4917.56948339,  7528.87956533, 11674.24334503,\n",
       "        4917.56948339, 11542.45422028, 10729.11979728,  4917.56948339,\n",
       "       10729.11979728, 11542.45422028,  4978.35934333, 11878.34042641,\n",
       "        4978.35934333, 10333.33333333,  4978.35934333, 11878.34042641,\n",
       "        4978.35934333,  4104.23506039, 11878.34042641, 11542.45422028,\n",
       "       11878.34042641,  4104.23506039, 11603.24408022,  4978.35934333,\n",
       "        4917.56948339,  7589.66942527,  5253.45568953, 11603.24408022,\n",
       "       11603.24408022])"
      ]
     },
     "execution_count": 63,
     "metadata": {},
     "output_type": "execute_result"
    }
   ],
   "source": [
    "output"
   ]
  },
  {
   "cell_type": "code",
   "execution_count": 64,
   "metadata": {},
   "outputs": [],
   "source": [
    "classe = X_test[['1', '2', '3']].idxmax(axis=1)\n",
    "tamanho = X_test[['25',  '125',  '350', '750', '2500', '7500']].idxmax(axis=1)"
   ]
  },
  {
   "cell_type": "code",
   "execution_count": 65,
   "metadata": {},
   "outputs": [],
   "source": [
    "output =output.astype(int)"
   ]
  },
  {
   "cell_type": "code",
   "execution_count": 66,
   "metadata": {},
   "outputs": [],
   "source": [
    "results = pd.DataFrame(list(zip(output, y_test, classe, tamanho)), columns = ['Salario_Pred','Salario','Classe', 'Tamanho'])"
   ]
  },
  {
   "cell_type": "code",
   "execution_count": 67,
   "metadata": {},
   "outputs": [],
   "source": [
    "results[['Classe', 'Tamanho']] = results[['Classe', 'Tamanho']].astype(int)"
   ]
  },
  {
   "cell_type": "code",
   "execution_count": 68,
   "metadata": {},
   "outputs": [],
   "source": [
    "results_sort = results.sort_values(['Tamanho', 'Classe'])"
   ]
  },
  {
   "cell_type": "code",
   "execution_count": 69,
   "metadata": {},
   "outputs": [
    {
     "data": {
      "text/html": [
       "<div>\n",
       "<style scoped>\n",
       "    .dataframe tbody tr th:only-of-type {\n",
       "        vertical-align: middle;\n",
       "    }\n",
       "\n",
       "    .dataframe tbody tr th {\n",
       "        vertical-align: top;\n",
       "    }\n",
       "\n",
       "    .dataframe thead th {\n",
       "        text-align: right;\n",
       "    }\n",
       "</style>\n",
       "<table border=\"1\" class=\"dataframe\">\n",
       "  <thead>\n",
       "    <tr style=\"text-align: right;\">\n",
       "      <th></th>\n",
       "      <th>Salario_Pred</th>\n",
       "      <th>Salario</th>\n",
       "      <th>Classe</th>\n",
       "      <th>Tamanho</th>\n",
       "    </tr>\n",
       "  </thead>\n",
       "  <tbody>\n",
       "    <tr>\n",
       "      <th>54</th>\n",
       "      <td>5253</td>\n",
       "      <td>7000</td>\n",
       "      <td>1</td>\n",
       "      <td>25</td>\n",
       "    </tr>\n",
       "    <tr>\n",
       "      <th>0</th>\n",
       "      <td>7864</td>\n",
       "      <td>8000</td>\n",
       "      <td>2</td>\n",
       "      <td>25</td>\n",
       "    </tr>\n",
       "    <tr>\n",
       "      <th>6</th>\n",
       "      <td>7864</td>\n",
       "      <td>5500</td>\n",
       "      <td>2</td>\n",
       "      <td>25</td>\n",
       "    </tr>\n",
       "    <tr>\n",
       "      <th>7</th>\n",
       "      <td>7864</td>\n",
       "      <td>6500</td>\n",
       "      <td>2</td>\n",
       "      <td>25</td>\n",
       "    </tr>\n",
       "    <tr>\n",
       "      <th>20</th>\n",
       "      <td>7864</td>\n",
       "      <td>6500</td>\n",
       "      <td>2</td>\n",
       "      <td>25</td>\n",
       "    </tr>\n",
       "    <tr>\n",
       "      <th>39</th>\n",
       "      <td>11878</td>\n",
       "      <td>11764</td>\n",
       "      <td>3</td>\n",
       "      <td>25</td>\n",
       "    </tr>\n",
       "    <tr>\n",
       "      <th>43</th>\n",
       "      <td>11878</td>\n",
       "      <td>12500</td>\n",
       "      <td>3</td>\n",
       "      <td>25</td>\n",
       "    </tr>\n",
       "    <tr>\n",
       "      <th>46</th>\n",
       "      <td>11878</td>\n",
       "      <td>13500</td>\n",
       "      <td>3</td>\n",
       "      <td>25</td>\n",
       "    </tr>\n",
       "    <tr>\n",
       "      <th>48</th>\n",
       "      <td>11878</td>\n",
       "      <td>11676</td>\n",
       "      <td>3</td>\n",
       "      <td>25</td>\n",
       "    </tr>\n",
       "    <tr>\n",
       "      <th>3</th>\n",
       "      <td>4917</td>\n",
       "      <td>6500</td>\n",
       "      <td>1</td>\n",
       "      <td>125</td>\n",
       "    </tr>\n",
       "    <tr>\n",
       "      <th>11</th>\n",
       "      <td>4917</td>\n",
       "      <td>3000</td>\n",
       "      <td>1</td>\n",
       "      <td>125</td>\n",
       "    </tr>\n",
       "    <tr>\n",
       "      <th>25</th>\n",
       "      <td>4917</td>\n",
       "      <td>4000</td>\n",
       "      <td>1</td>\n",
       "      <td>125</td>\n",
       "    </tr>\n",
       "    <tr>\n",
       "      <th>29</th>\n",
       "      <td>4917</td>\n",
       "      <td>3500</td>\n",
       "      <td>1</td>\n",
       "      <td>125</td>\n",
       "    </tr>\n",
       "    <tr>\n",
       "      <th>32</th>\n",
       "      <td>4917</td>\n",
       "      <td>3500</td>\n",
       "      <td>1</td>\n",
       "      <td>125</td>\n",
       "    </tr>\n",
       "    <tr>\n",
       "      <th>35</th>\n",
       "      <td>4917</td>\n",
       "      <td>5500</td>\n",
       "      <td>1</td>\n",
       "      <td>125</td>\n",
       "    </tr>\n",
       "    <tr>\n",
       "      <th>52</th>\n",
       "      <td>4917</td>\n",
       "      <td>3000</td>\n",
       "      <td>1</td>\n",
       "      <td>125</td>\n",
       "    </tr>\n",
       "    <tr>\n",
       "      <th>1</th>\n",
       "      <td>7528</td>\n",
       "      <td>10086</td>\n",
       "      <td>2</td>\n",
       "      <td>125</td>\n",
       "    </tr>\n",
       "    <tr>\n",
       "      <th>2</th>\n",
       "      <td>7528</td>\n",
       "      <td>6000</td>\n",
       "      <td>2</td>\n",
       "      <td>125</td>\n",
       "    </tr>\n",
       "    <tr>\n",
       "      <th>15</th>\n",
       "      <td>7528</td>\n",
       "      <td>10000</td>\n",
       "      <td>2</td>\n",
       "      <td>125</td>\n",
       "    </tr>\n",
       "    <tr>\n",
       "      <th>30</th>\n",
       "      <td>7528</td>\n",
       "      <td>7500</td>\n",
       "      <td>2</td>\n",
       "      <td>125</td>\n",
       "    </tr>\n",
       "    <tr>\n",
       "      <th>16</th>\n",
       "      <td>11542</td>\n",
       "      <td>13500</td>\n",
       "      <td>3</td>\n",
       "      <td>125</td>\n",
       "    </tr>\n",
       "    <tr>\n",
       "      <th>23</th>\n",
       "      <td>11542</td>\n",
       "      <td>10500</td>\n",
       "      <td>3</td>\n",
       "      <td>125</td>\n",
       "    </tr>\n",
       "    <tr>\n",
       "      <th>28</th>\n",
       "      <td>11542</td>\n",
       "      <td>13000</td>\n",
       "      <td>3</td>\n",
       "      <td>125</td>\n",
       "    </tr>\n",
       "    <tr>\n",
       "      <th>33</th>\n",
       "      <td>11542</td>\n",
       "      <td>9000</td>\n",
       "      <td>3</td>\n",
       "      <td>125</td>\n",
       "    </tr>\n",
       "    <tr>\n",
       "      <th>37</th>\n",
       "      <td>11542</td>\n",
       "      <td>14000</td>\n",
       "      <td>3</td>\n",
       "      <td>125</td>\n",
       "    </tr>\n",
       "    <tr>\n",
       "      <th>47</th>\n",
       "      <td>11542</td>\n",
       "      <td>13500</td>\n",
       "      <td>3</td>\n",
       "      <td>125</td>\n",
       "    </tr>\n",
       "    <tr>\n",
       "      <th>21</th>\n",
       "      <td>4104</td>\n",
       "      <td>6000</td>\n",
       "      <td>1</td>\n",
       "      <td>350</td>\n",
       "    </tr>\n",
       "    <tr>\n",
       "      <th>45</th>\n",
       "      <td>4104</td>\n",
       "      <td>4500</td>\n",
       "      <td>1</td>\n",
       "      <td>350</td>\n",
       "    </tr>\n",
       "    <tr>\n",
       "      <th>49</th>\n",
       "      <td>4104</td>\n",
       "      <td>5000</td>\n",
       "      <td>1</td>\n",
       "      <td>350</td>\n",
       "    </tr>\n",
       "    <tr>\n",
       "      <th>4</th>\n",
       "      <td>6715</td>\n",
       "      <td>5500</td>\n",
       "      <td>2</td>\n",
       "      <td>350</td>\n",
       "    </tr>\n",
       "    <tr>\n",
       "      <th>24</th>\n",
       "      <td>6715</td>\n",
       "      <td>10000</td>\n",
       "      <td>2</td>\n",
       "      <td>350</td>\n",
       "    </tr>\n",
       "    <tr>\n",
       "      <th>8</th>\n",
       "      <td>10729</td>\n",
       "      <td>10000</td>\n",
       "      <td>3</td>\n",
       "      <td>350</td>\n",
       "    </tr>\n",
       "    <tr>\n",
       "      <th>12</th>\n",
       "      <td>10729</td>\n",
       "      <td>12500</td>\n",
       "      <td>3</td>\n",
       "      <td>350</td>\n",
       "    </tr>\n",
       "    <tr>\n",
       "      <th>18</th>\n",
       "      <td>10729</td>\n",
       "      <td>13500</td>\n",
       "      <td>3</td>\n",
       "      <td>350</td>\n",
       "    </tr>\n",
       "    <tr>\n",
       "      <th>34</th>\n",
       "      <td>10729</td>\n",
       "      <td>12500</td>\n",
       "      <td>3</td>\n",
       "      <td>350</td>\n",
       "    </tr>\n",
       "    <tr>\n",
       "      <th>36</th>\n",
       "      <td>10729</td>\n",
       "      <td>11500</td>\n",
       "      <td>3</td>\n",
       "      <td>350</td>\n",
       "    </tr>\n",
       "    <tr>\n",
       "      <th>9</th>\n",
       "      <td>5049</td>\n",
       "      <td>5000</td>\n",
       "      <td>1</td>\n",
       "      <td>750</td>\n",
       "    </tr>\n",
       "    <tr>\n",
       "      <th>31</th>\n",
       "      <td>11674</td>\n",
       "      <td>13500</td>\n",
       "      <td>3</td>\n",
       "      <td>750</td>\n",
       "    </tr>\n",
       "    <tr>\n",
       "      <th>5</th>\n",
       "      <td>4978</td>\n",
       "      <td>5500</td>\n",
       "      <td>1</td>\n",
       "      <td>2500</td>\n",
       "    </tr>\n",
       "    <tr>\n",
       "      <th>13</th>\n",
       "      <td>4978</td>\n",
       "      <td>3000</td>\n",
       "      <td>1</td>\n",
       "      <td>2500</td>\n",
       "    </tr>\n",
       "    <tr>\n",
       "      <th>14</th>\n",
       "      <td>4978</td>\n",
       "      <td>3000</td>\n",
       "      <td>1</td>\n",
       "      <td>2500</td>\n",
       "    </tr>\n",
       "    <tr>\n",
       "      <th>38</th>\n",
       "      <td>4978</td>\n",
       "      <td>3500</td>\n",
       "      <td>1</td>\n",
       "      <td>2500</td>\n",
       "    </tr>\n",
       "    <tr>\n",
       "      <th>40</th>\n",
       "      <td>4978</td>\n",
       "      <td>3000</td>\n",
       "      <td>1</td>\n",
       "      <td>2500</td>\n",
       "    </tr>\n",
       "    <tr>\n",
       "      <th>42</th>\n",
       "      <td>4978</td>\n",
       "      <td>5000</td>\n",
       "      <td>1</td>\n",
       "      <td>2500</td>\n",
       "    </tr>\n",
       "    <tr>\n",
       "      <th>44</th>\n",
       "      <td>4978</td>\n",
       "      <td>3966</td>\n",
       "      <td>1</td>\n",
       "      <td>2500</td>\n",
       "    </tr>\n",
       "    <tr>\n",
       "      <th>51</th>\n",
       "      <td>4978</td>\n",
       "      <td>4000</td>\n",
       "      <td>1</td>\n",
       "      <td>2500</td>\n",
       "    </tr>\n",
       "    <tr>\n",
       "      <th>17</th>\n",
       "      <td>7589</td>\n",
       "      <td>8000</td>\n",
       "      <td>2</td>\n",
       "      <td>2500</td>\n",
       "    </tr>\n",
       "    <tr>\n",
       "      <th>19</th>\n",
       "      <td>7589</td>\n",
       "      <td>8000</td>\n",
       "      <td>2</td>\n",
       "      <td>2500</td>\n",
       "    </tr>\n",
       "    <tr>\n",
       "      <th>22</th>\n",
       "      <td>7589</td>\n",
       "      <td>5500</td>\n",
       "      <td>2</td>\n",
       "      <td>2500</td>\n",
       "    </tr>\n",
       "    <tr>\n",
       "      <th>27</th>\n",
       "      <td>7589</td>\n",
       "      <td>8000</td>\n",
       "      <td>2</td>\n",
       "      <td>2500</td>\n",
       "    </tr>\n",
       "    <tr>\n",
       "      <th>53</th>\n",
       "      <td>7589</td>\n",
       "      <td>8000</td>\n",
       "      <td>2</td>\n",
       "      <td>2500</td>\n",
       "    </tr>\n",
       "    <tr>\n",
       "      <th>10</th>\n",
       "      <td>11603</td>\n",
       "      <td>11500</td>\n",
       "      <td>3</td>\n",
       "      <td>2500</td>\n",
       "    </tr>\n",
       "    <tr>\n",
       "      <th>26</th>\n",
       "      <td>11603</td>\n",
       "      <td>13500</td>\n",
       "      <td>3</td>\n",
       "      <td>2500</td>\n",
       "    </tr>\n",
       "    <tr>\n",
       "      <th>50</th>\n",
       "      <td>11603</td>\n",
       "      <td>10500</td>\n",
       "      <td>3</td>\n",
       "      <td>2500</td>\n",
       "    </tr>\n",
       "    <tr>\n",
       "      <th>55</th>\n",
       "      <td>11603</td>\n",
       "      <td>12500</td>\n",
       "      <td>3</td>\n",
       "      <td>2500</td>\n",
       "    </tr>\n",
       "    <tr>\n",
       "      <th>56</th>\n",
       "      <td>11603</td>\n",
       "      <td>13000</td>\n",
       "      <td>3</td>\n",
       "      <td>2500</td>\n",
       "    </tr>\n",
       "    <tr>\n",
       "      <th>41</th>\n",
       "      <td>10333</td>\n",
       "      <td>13148</td>\n",
       "      <td>3</td>\n",
       "      <td>7500</td>\n",
       "    </tr>\n",
       "  </tbody>\n",
       "</table>\n",
       "</div>"
      ],
      "text/plain": [
       "    Salario_Pred  Salario  Classe  Tamanho\n",
       "54          5253     7000       1       25\n",
       "0           7864     8000       2       25\n",
       "6           7864     5500       2       25\n",
       "7           7864     6500       2       25\n",
       "20          7864     6500       2       25\n",
       "39         11878    11764       3       25\n",
       "43         11878    12500       3       25\n",
       "46         11878    13500       3       25\n",
       "48         11878    11676       3       25\n",
       "3           4917     6500       1      125\n",
       "11          4917     3000       1      125\n",
       "25          4917     4000       1      125\n",
       "29          4917     3500       1      125\n",
       "32          4917     3500       1      125\n",
       "35          4917     5500       1      125\n",
       "52          4917     3000       1      125\n",
       "1           7528    10086       2      125\n",
       "2           7528     6000       2      125\n",
       "15          7528    10000       2      125\n",
       "30          7528     7500       2      125\n",
       "16         11542    13500       3      125\n",
       "23         11542    10500       3      125\n",
       "28         11542    13000       3      125\n",
       "33         11542     9000       3      125\n",
       "37         11542    14000       3      125\n",
       "47         11542    13500       3      125\n",
       "21          4104     6000       1      350\n",
       "45          4104     4500       1      350\n",
       "49          4104     5000       1      350\n",
       "4           6715     5500       2      350\n",
       "24          6715    10000       2      350\n",
       "8          10729    10000       3      350\n",
       "12         10729    12500       3      350\n",
       "18         10729    13500       3      350\n",
       "34         10729    12500       3      350\n",
       "36         10729    11500       3      350\n",
       "9           5049     5000       1      750\n",
       "31         11674    13500       3      750\n",
       "5           4978     5500       1     2500\n",
       "13          4978     3000       1     2500\n",
       "14          4978     3000       1     2500\n",
       "38          4978     3500       1     2500\n",
       "40          4978     3000       1     2500\n",
       "42          4978     5000       1     2500\n",
       "44          4978     3966       1     2500\n",
       "51          4978     4000       1     2500\n",
       "17          7589     8000       2     2500\n",
       "19          7589     8000       2     2500\n",
       "22          7589     5500       2     2500\n",
       "27          7589     8000       2     2500\n",
       "53          7589     8000       2     2500\n",
       "10         11603    11500       3     2500\n",
       "26         11603    13500       3     2500\n",
       "50         11603    10500       3     2500\n",
       "55         11603    12500       3     2500\n",
       "56         11603    13000       3     2500\n",
       "41         10333    13148       3     7500"
      ]
     },
     "execution_count": 69,
     "metadata": {},
     "output_type": "execute_result"
    }
   ],
   "source": [
    "results_sort"
   ]
  },
  {
   "cell_type": "code",
   "execution_count": 70,
   "metadata": {},
   "outputs": [
    {
     "name": "stderr",
     "output_type": "stream",
     "text": [
      "C:\\Users\\Azzy\\AppData\\Local\\Continuum\\anaconda3\\lib\\site-packages\\matplotlib\\cbook\\__init__.py:1402: FutureWarning: Support for multi-dimensional indexing (e.g. `obj[:, None]`) is deprecated and will be removed in a future version.  Convert to a numpy array before indexing instead.\n",
      "C:\\Users\\Azzy\\AppData\\Local\\Continuum\\anaconda3\\lib\\site-packages\\matplotlib\\axes\\_base.py:278: FutureWarning: Support for multi-dimensional indexing (e.g. `obj[:, None]`) is deprecated and will be removed in a future version.  Convert to a numpy array before indexing instead.\n"
     ]
    },
    {
     "data": {
      "image/png": "[encoded data removed]",
      "text/plain": [
       "<Figure size 432x288 with 1 Axes>"
      ]
     },
     "metadata": {
      "needs_background": "light"
     },
     "output_type": "display_data"
    }
   ],
   "source": [
    "import numpy as np\n",
    "import matplotlib.pyplot as plt\n",
    "\n",
    "\n",
    "data1 = output\n",
    "data2 = y_test\n",
    "x = 1000*np.array(range(len(data1)))\n",
    "\n",
    "#plt.plot( x, data1, 'go') # green bolinha\n",
    "plt.plot( x, data1, 'k:', color='red') # linha pontilha orange\n",
    "\n",
    "#original\n",
    "#plt.plot( x, data2, 'r^') # red triangulo\n",
    "plt.plot( x, data2, 'k--', color='blue')  # linha tracejada azul\n",
    "\n",
    "#plt.axis([800, 20000, 800, 16000])\n",
    "plt.title(\"Salario x Salario Predito\")\n",
    "\n",
    "plt.grid(True)\n",
    "plt.xlabel(\"eixo horizontal\")\n",
    "plt.ylabel(\"Salario\")\n",
    "plt.show()"
   ]
  },
  {
   "cell_type": "code",
   "execution_count": 71,
   "metadata": {},
   "outputs": [],
   "source": [
    "# teste com ordenado"
   ]
  },
  {
   "cell_type": "code",
   "execution_count": 72,
   "metadata": {},
   "outputs": [
    {
     "data": {
      "text/plain": [
       "57"
      ]
     },
     "execution_count": 72,
     "metadata": {},
     "output_type": "execute_result"
    }
   ],
   "source": [
    "len(results_sort)"
   ]
  },
  {
   "cell_type": "code",
   "execution_count": 73,
   "metadata": {},
   "outputs": [],
   "source": [
    "results_sort = results_sort.iloc[:-1]"
   ]
  },
  {
   "cell_type": "code",
   "execution_count": 74,
   "metadata": {
    "scrolled": false
   },
   "outputs": [
    {
     "name": "stderr",
     "output_type": "stream",
     "text": [
      "C:\\Users\\Azzy\\AppData\\Local\\Continuum\\anaconda3\\lib\\site-packages\\matplotlib\\axes\\_base.py:276: FutureWarning: Support for multi-dimensional indexing (e.g. `obj[:, None]`) is deprecated and will be removed in a future version.  Convert to a numpy array before indexing instead.\n"
     ]
    },
    {
     "data": {
      "image/png": "[encoded data removed]",
      "text/plain": [
       "<Figure size 1440x648 with 1 Axes>"
      ]
     },
     "metadata": {
      "needs_background": "light"
     },
     "output_type": "display_data"
    }
   ],
   "source": [
    "import numpy as np\n",
    "import matplotlib.pyplot as plt\n",
    "\n",
    "data1 = results_sort['Salario_Pred']\n",
    "data2 = results_sort['Salario']\n",
    "\n",
    "colors = ['red', 'green', 'blue']\n",
    "\n",
    "import matplotlib.pyplot as plt\n",
    "plt.rcParams[\"figure.figsize\"] = (20, 9)\n",
    "\n",
    "for idx, classe in enumerate(results_sort['Classe'].unique()):\n",
    "    current_data = results_sort.loc[results_sort['Classe'] == classe]\n",
    "\n",
    "    x = 1000*np.array(range(len(current_data)))\n",
    "    x = current_data['Tamanho']\n",
    "\n",
    "    #plt.plot( x, data1, 'go') # green bolinha\n",
    "    plt.plot( x, current_data['Salario_Pred'], 'k:', color=colors[idx]) \n",
    "    plt.plot( x, current_data['Salario'], 'k*', color=colors[idx]) \n",
    "\n",
    "\n",
    "#plt.axis([0, 7, 800, 16000])\n",
    "plt.title(\"Predição salarios: Junior , Pleno e Senior\")\n",
    "\n",
    "plt.grid(True)\n",
    "plt.xlabel(\"Tamanho\")\n",
    "plt.ylabel(\"Salario\")\n",
    "\n",
    "plt.show()\n"
   ]
  },
  {
   "cell_type": "code",
   "execution_count": null,
   "metadata": {},
   "outputs": [],
   "source": []
  },
  {
   "cell_type": "code",
   "execution_count": null,
   "metadata": {},
   "outputs": [],
   "source": []
  },
  {
   "cell_type": "code",
   "execution_count": 75,
   "metadata": {},
   "outputs": [],
   "source": [
    "# outliers = 2"
   ]
  },
  {
   "cell_type": "code",
   "execution_count": 76,
   "metadata": {},
   "outputs": [],
   "source": [
    "df_j = pd.DataFrame(list(zip(junior,juniorS,juniorT)), columns = ['Classe','Salario','Tamanho'])\n",
    "\n",
    "df_p = pd.DataFrame(list(zip(pleno,plenoS,plenoT)), columns = ['Classe','Salario','Tamanho'])\n",
    "\n",
    "df_s = pd.DataFrame(list(zip(senior,seniorS,seniorT)), columns = ['Classe','Salario','Tamanho'])\n",
    "\n",
    "df_total = pd.concat([df_j, df_p, df_s])"
   ]
  },
  {
   "cell_type": "code",
   "execution_count": 77,
   "metadata": {},
   "outputs": [],
   "source": [
    "#usando a eliminação de outliers\n",
    "import numpy as np\n",
    "def remove_outliers(df, standard_deviations=2):\n",
    "    df_mean = df.mean()\n",
    "    df_std = df.std()\n",
    "    return df[df.apply(lambda x: np.abs(x - df_mean) <= standard_deviations*df_std)]"
   ]
  },
  {
   "cell_type": "code",
   "execution_count": 78,
   "metadata": {},
   "outputs": [],
   "source": [
    "xj = remove_outliers(df_j['Salario'], standard_deviations=2)\n",
    "yj = remove_outliers(df_j['Tamanho'], standard_deviations=2)\n",
    "\n",
    "xp = remove_outliers(df_p['Salario'], standard_deviations=2)\n",
    "yp = remove_outliers(df_p['Tamanho'], standard_deviations=2)\n",
    "\n",
    "xs = remove_outliers(df_s['Salario'], standard_deviations=2)\n",
    "ys = remove_outliers(df_s['Tamanho'], standard_deviations=2)"
   ]
  },
  {
   "cell_type": "code",
   "execution_count": 79,
   "metadata": {},
   "outputs": [],
   "source": [
    "jun = pd.DataFrame(list(zip(junior,xj,yj)), columns = ['Classe','Salario','Tamanho'])\n",
    "ple = pd.DataFrame(list(zip(pleno,xp,yp)), columns = ['Classe','Salario','Tamanho'])\n",
    "sen = pd.DataFrame(list(zip(senior,xs,ys)), columns = ['Classe','Salario','Tamanho'])"
   ]
  },
  {
   "cell_type": "code",
   "execution_count": 80,
   "metadata": {},
   "outputs": [],
   "source": [
    "df_total = pd.concat([jun, ple, sen])"
   ]
  },
  {
   "cell_type": "code",
   "execution_count": 81,
   "metadata": {},
   "outputs": [],
   "source": [
    "j2 = list(jun['Classe'])\n",
    "p2 = list(ple['Classe'])\n",
    "s2 = list(sen['Classe'])\n",
    "\n",
    "js2 = list(jun['Salario'])\n",
    "ps2 = list(ple['Salario'])\n",
    "ss2 = list(sen['Salario'])\n",
    "\n",
    "jt2 = list(jun['Tamanho'])\n",
    "pt2 = list(ple['Tamanho'])\n",
    "st2 = list(sen['Tamanho'])"
   ]
  },
  {
   "cell_type": "code",
   "execution_count": 82,
   "metadata": {},
   "outputs": [],
   "source": [
    "junior2 = []\n",
    "pleno2 = []\n",
    "senior2 = []\n",
    "\n",
    "juniorS2 = []\n",
    "plenoS2 = []\n",
    "seniorS2 = []\n",
    "\n",
    "juniorT2 = []\n",
    "plenoT2 = []\n",
    "seniorT2 = []"
   ]
  },
  {
   "cell_type": "code",
   "execution_count": 83,
   "metadata": {},
   "outputs": [
    {
     "data": {
      "text/plain": [
       "97"
      ]
     },
     "execution_count": 83,
     "metadata": {},
     "output_type": "execute_result"
    }
   ],
   "source": [
    "len(p2)"
   ]
  },
  {
   "cell_type": "code",
   "execution_count": 84,
   "metadata": {},
   "outputs": [],
   "source": [
    "for x in range(96):\n",
    "    junior2.append(j2[x])\n",
    "    juniorS2.append(js2[x])\n",
    "    juniorT2.append(jt2[x])\n",
    "    \n",
    "    pleno2.append(p2[x])\n",
    "    plenoS2.append(ps2[x])\n",
    "    plenoT2.append(pt2[x])\n",
    "    \n",
    "    senior2.append(s2[x])\n",
    "    seniorS2.append(ss2[x])\n",
    "    seniorT2.append(st2[x])"
   ]
  },
  {
   "cell_type": "code",
   "execution_count": 85,
   "metadata": {},
   "outputs": [],
   "source": [
    "df_j2 = pd.DataFrame(list(zip(junior2,juniorS2,juniorT2)), columns = ['Classe','Salario','Tamanho'])\n",
    "\n",
    "df_p2 = pd.DataFrame(list(zip(pleno2,plenoS2,plenoT2)), columns = ['Classe','Salario','Tamanho'])\n",
    "\n",
    "df_s2 = pd.DataFrame(list(zip(senior2,seniorS2,seniorT2)), columns = ['Classe','Salario','Tamanho'])"
   ]
  },
  {
   "cell_type": "code",
   "execution_count": 86,
   "metadata": {},
   "outputs": [],
   "source": [
    "df_total2 = pd.concat([df_j2, df_p2, df_s2])"
   ]
  },
  {
   "cell_type": "code",
   "execution_count": 87,
   "metadata": {},
   "outputs": [],
   "source": [
    "import sklearn\n",
    "df_shuffled2=sklearn.utils.shuffle(df_total2)"
   ]
  },
  {
   "cell_type": "code",
   "execution_count": 88,
   "metadata": {},
   "outputs": [],
   "source": [
    "X = df_shuffled2[['Classe', 'Tamanho']] #antes seria apenas df\n",
    "y = df_shuffled2['Salario']"
   ]
  },
  {
   "cell_type": "code",
   "execution_count": 89,
   "metadata": {},
   "outputs": [
    {
     "data": {
      "text/plain": [
       "288"
      ]
     },
     "execution_count": 89,
     "metadata": {},
     "output_type": "execute_result"
    }
   ],
   "source": [
    "len(df_shuffled2)"
   ]
  },
  {
   "cell_type": "code",
   "execution_count": 90,
   "metadata": {},
   "outputs": [],
   "source": [
    "X = pd.get_dummies(X, columns=['Tamanho', 'Classe'], prefix=\"\", prefix_sep='') # 74, sem 79"
   ]
  },
  {
   "cell_type": "code",
   "execution_count": 91,
   "metadata": {},
   "outputs": [
    {
     "data": {
      "text/html": [
       "<div>\n",
       "<style scoped>\n",
       "    .dataframe tbody tr th:only-of-type {\n",
       "        vertical-align: middle;\n",
       "    }\n",
       "\n",
       "    .dataframe tbody tr th {\n",
       "        vertical-align: top;\n",
       "    }\n",
       "\n",
       "    .dataframe thead th {\n",
       "        text-align: right;\n",
       "    }\n",
       "</style>\n",
       "<table border=\"1\" class=\"dataframe\">\n",
       "  <thead>\n",
       "    <tr style=\"text-align: right;\">\n",
       "      <th></th>\n",
       "      <th>25</th>\n",
       "      <th>125</th>\n",
       "      <th>350</th>\n",
       "      <th>750</th>\n",
       "      <th>2500</th>\n",
       "      <th>7500</th>\n",
       "      <th>10000</th>\n",
       "      <th>1</th>\n",
       "      <th>2</th>\n",
       "      <th>3</th>\n",
       "    </tr>\n",
       "  </thead>\n",
       "  <tbody>\n",
       "    <tr>\n",
       "      <th>60</th>\n",
       "      <td>0</td>\n",
       "      <td>0</td>\n",
       "      <td>0</td>\n",
       "      <td>0</td>\n",
       "      <td>0</td>\n",
       "      <td>0</td>\n",
       "      <td>1</td>\n",
       "      <td>1</td>\n",
       "      <td>0</td>\n",
       "      <td>0</td>\n",
       "    </tr>\n",
       "    <tr>\n",
       "      <th>43</th>\n",
       "      <td>0</td>\n",
       "      <td>1</td>\n",
       "      <td>0</td>\n",
       "      <td>0</td>\n",
       "      <td>0</td>\n",
       "      <td>0</td>\n",
       "      <td>0</td>\n",
       "      <td>0</td>\n",
       "      <td>1</td>\n",
       "      <td>0</td>\n",
       "    </tr>\n",
       "    <tr>\n",
       "      <th>9</th>\n",
       "      <td>0</td>\n",
       "      <td>0</td>\n",
       "      <td>0</td>\n",
       "      <td>0</td>\n",
       "      <td>0</td>\n",
       "      <td>0</td>\n",
       "      <td>1</td>\n",
       "      <td>0</td>\n",
       "      <td>1</td>\n",
       "      <td>0</td>\n",
       "    </tr>\n",
       "    <tr>\n",
       "      <th>53</th>\n",
       "      <td>0</td>\n",
       "      <td>0</td>\n",
       "      <td>0</td>\n",
       "      <td>0</td>\n",
       "      <td>1</td>\n",
       "      <td>0</td>\n",
       "      <td>0</td>\n",
       "      <td>1</td>\n",
       "      <td>0</td>\n",
       "      <td>0</td>\n",
       "    </tr>\n",
       "    <tr>\n",
       "      <th>27</th>\n",
       "      <td>0</td>\n",
       "      <td>0</td>\n",
       "      <td>1</td>\n",
       "      <td>0</td>\n",
       "      <td>0</td>\n",
       "      <td>0</td>\n",
       "      <td>0</td>\n",
       "      <td>1</td>\n",
       "      <td>0</td>\n",
       "      <td>0</td>\n",
       "    </tr>\n",
       "    <tr>\n",
       "      <th>...</th>\n",
       "      <td>...</td>\n",
       "      <td>...</td>\n",
       "      <td>...</td>\n",
       "      <td>...</td>\n",
       "      <td>...</td>\n",
       "      <td>...</td>\n",
       "      <td>...</td>\n",
       "      <td>...</td>\n",
       "      <td>...</td>\n",
       "      <td>...</td>\n",
       "    </tr>\n",
       "    <tr>\n",
       "      <th>65</th>\n",
       "      <td>0</td>\n",
       "      <td>0</td>\n",
       "      <td>0</td>\n",
       "      <td>0</td>\n",
       "      <td>1</td>\n",
       "      <td>0</td>\n",
       "      <td>0</td>\n",
       "      <td>1</td>\n",
       "      <td>0</td>\n",
       "      <td>0</td>\n",
       "    </tr>\n",
       "    <tr>\n",
       "      <th>77</th>\n",
       "      <td>0</td>\n",
       "      <td>1</td>\n",
       "      <td>0</td>\n",
       "      <td>0</td>\n",
       "      <td>0</td>\n",
       "      <td>0</td>\n",
       "      <td>0</td>\n",
       "      <td>1</td>\n",
       "      <td>0</td>\n",
       "      <td>0</td>\n",
       "    </tr>\n",
       "    <tr>\n",
       "      <th>71</th>\n",
       "      <td>0</td>\n",
       "      <td>1</td>\n",
       "      <td>0</td>\n",
       "      <td>0</td>\n",
       "      <td>0</td>\n",
       "      <td>0</td>\n",
       "      <td>0</td>\n",
       "      <td>0</td>\n",
       "      <td>0</td>\n",
       "      <td>1</td>\n",
       "    </tr>\n",
       "    <tr>\n",
       "      <th>88</th>\n",
       "      <td>0</td>\n",
       "      <td>1</td>\n",
       "      <td>0</td>\n",
       "      <td>0</td>\n",
       "      <td>0</td>\n",
       "      <td>0</td>\n",
       "      <td>0</td>\n",
       "      <td>1</td>\n",
       "      <td>0</td>\n",
       "      <td>0</td>\n",
       "    </tr>\n",
       "    <tr>\n",
       "      <th>26</th>\n",
       "      <td>0</td>\n",
       "      <td>1</td>\n",
       "      <td>0</td>\n",
       "      <td>0</td>\n",
       "      <td>0</td>\n",
       "      <td>0</td>\n",
       "      <td>0</td>\n",
       "      <td>0</td>\n",
       "      <td>1</td>\n",
       "      <td>0</td>\n",
       "    </tr>\n",
       "  </tbody>\n",
       "</table>\n",
       "<p>288 rows × 10 columns</p>\n",
       "</div>"
      ],
      "text/plain": [
       "    25  125  350  750  2500  7500  10000  1  2  3\n",
       "60   0    0    0    0     0     0      1  1  0  0\n",
       "43   0    1    0    0     0     0      0  0  1  0\n",
       "9    0    0    0    0     0     0      1  0  1  0\n",
       "53   0    0    0    0     1     0      0  1  0  0\n",
       "27   0    0    1    0     0     0      0  1  0  0\n",
       "..  ..  ...  ...  ...   ...   ...    ... .. .. ..\n",
       "65   0    0    0    0     1     0      0  1  0  0\n",
       "77   0    1    0    0     0     0      0  1  0  0\n",
       "71   0    1    0    0     0     0      0  0  0  1\n",
       "88   0    1    0    0     0     0      0  1  0  0\n",
       "26   0    1    0    0     0     0      0  0  1  0\n",
       "\n",
       "[288 rows x 10 columns]"
      ]
     },
     "execution_count": 91,
     "metadata": {},
     "output_type": "execute_result"
    }
   ],
   "source": [
    "X"
   ]
  },
  {
   "cell_type": "code",
   "execution_count": 92,
   "metadata": {},
   "outputs": [
    {
     "data": {
      "text/plain": [
       "0.5976128155463036"
      ]
     },
     "execution_count": 92,
     "metadata": {},
     "output_type": "execute_result"
    }
   ],
   "source": [
    "from sklearn.linear_model import LogisticRegression, LinearRegression\n",
    "from sklearn.model_selection import train_test_split\n",
    "from sklearn.svm import SVC\n",
    "from sklearn.preprocessing import StandardScaler\n",
    "from sklearn.datasets import make_classification\n",
    "from sklearn.model_selection import train_test_split\n",
    "from sklearn.pipeline import Pipeline\n",
    "\n",
    "\n",
    "pipe = Pipeline([('scaler', StandardScaler()), ('LR', LinearRegression())])\n",
    "\n",
    "\n",
    "X_train, X_test, y_train, y_test = train_test_split(X, y, test_size=0.3, random_state=0) \n",
    "pipe.fit(X_train, y_train)\n",
    "pipe.score(X_test, y_test)"
   ]
  },
  {
   "cell_type": "code",
   "execution_count": 93,
   "metadata": {},
   "outputs": [],
   "source": [
    "output = pipe.predict(X_test)\n",
    "\n",
    "classe = X_test[['1', '2', '3']].idxmax(axis=1)\n",
    "tamanho = X_test[['25',  '125',  '350', '750', '2500', '7500']].idxmax(axis=1)\n",
    "\n",
    "output =output.astype(int)\n",
    "\n",
    "results = pd.DataFrame(list(zip(output, y_test, classe, tamanho)), columns = ['Salario_Pred','Salario','Classe', 'Tamanho'])\n",
    "\n",
    "results[['Classe', 'Tamanho']] = results[['Classe', 'Tamanho']].astype(int)\n",
    "\n",
    "results_sort = results.sort_values(['Tamanho', 'Classe'])\n",
    "\n"
   ]
  },
  {
   "cell_type": "code",
   "execution_count": 94,
   "metadata": {},
   "outputs": [
    {
     "data": {
      "text/html": [
       "<div>\n",
       "<style scoped>\n",
       "    .dataframe tbody tr th:only-of-type {\n",
       "        vertical-align: middle;\n",
       "    }\n",
       "\n",
       "    .dataframe tbody tr th {\n",
       "        vertical-align: top;\n",
       "    }\n",
       "\n",
       "    .dataframe thead th {\n",
       "        text-align: right;\n",
       "    }\n",
       "</style>\n",
       "<table border=\"1\" class=\"dataframe\">\n",
       "  <thead>\n",
       "    <tr style=\"text-align: right;\">\n",
       "      <th></th>\n",
       "      <th>Salario_Pred</th>\n",
       "      <th>Salario</th>\n",
       "      <th>Classe</th>\n",
       "      <th>Tamanho</th>\n",
       "    </tr>\n",
       "  </thead>\n",
       "  <tbody>\n",
       "    <tr>\n",
       "      <th>0</th>\n",
       "      <td>4664</td>\n",
       "      <td>3500</td>\n",
       "      <td>1</td>\n",
       "      <td>25</td>\n",
       "    </tr>\n",
       "    <tr>\n",
       "      <th>6</th>\n",
       "      <td>4664</td>\n",
       "      <td>2500</td>\n",
       "      <td>1</td>\n",
       "      <td>25</td>\n",
       "    </tr>\n",
       "    <tr>\n",
       "      <th>9</th>\n",
       "      <td>4664</td>\n",
       "      <td>4500</td>\n",
       "      <td>1</td>\n",
       "      <td>25</td>\n",
       "    </tr>\n",
       "    <tr>\n",
       "      <th>10</th>\n",
       "      <td>4664</td>\n",
       "      <td>3500</td>\n",
       "      <td>1</td>\n",
       "      <td>25</td>\n",
       "    </tr>\n",
       "    <tr>\n",
       "      <th>21</th>\n",
       "      <td>3800</td>\n",
       "      <td>1500</td>\n",
       "      <td>1</td>\n",
       "      <td>25</td>\n",
       "    </tr>\n",
       "    <tr>\n",
       "      <th>...</th>\n",
       "      <td>...</td>\n",
       "      <td>...</td>\n",
       "      <td>...</td>\n",
       "      <td>...</td>\n",
       "    </tr>\n",
       "    <tr>\n",
       "      <th>57</th>\n",
       "      <td>11288</td>\n",
       "      <td>13500</td>\n",
       "      <td>3</td>\n",
       "      <td>2500</td>\n",
       "    </tr>\n",
       "    <tr>\n",
       "      <th>61</th>\n",
       "      <td>11288</td>\n",
       "      <td>11676</td>\n",
       "      <td>3</td>\n",
       "      <td>2500</td>\n",
       "    </tr>\n",
       "    <tr>\n",
       "      <th>81</th>\n",
       "      <td>11288</td>\n",
       "      <td>10500</td>\n",
       "      <td>3</td>\n",
       "      <td>2500</td>\n",
       "    </tr>\n",
       "    <tr>\n",
       "      <th>59</th>\n",
       "      <td>6776</td>\n",
       "      <td>8500</td>\n",
       "      <td>2</td>\n",
       "      <td>7500</td>\n",
       "    </tr>\n",
       "    <tr>\n",
       "      <th>33</th>\n",
       "      <td>11032</td>\n",
       "      <td>10000</td>\n",
       "      <td>3</td>\n",
       "      <td>7500</td>\n",
       "    </tr>\n",
       "  </tbody>\n",
       "</table>\n",
       "<p>87 rows × 4 columns</p>\n",
       "</div>"
      ],
      "text/plain": [
       "    Salario_Pred  Salario  Classe  Tamanho\n",
       "0           4664     3500       1       25\n",
       "6           4664     2500       1       25\n",
       "9           4664     4500       1       25\n",
       "10          4664     3500       1       25\n",
       "21          3800     1500       1       25\n",
       "..           ...      ...     ...      ...\n",
       "57         11288    13500       3     2500\n",
       "61         11288    11676       3     2500\n",
       "81         11288    10500       3     2500\n",
       "59          6776     8500       2     7500\n",
       "33         11032    10000       3     7500\n",
       "\n",
       "[87 rows x 4 columns]"
      ]
     },
     "execution_count": 94,
     "metadata": {},
     "output_type": "execute_result"
    }
   ],
   "source": [
    "results_sort"
   ]
  },
  {
   "cell_type": "code",
   "execution_count": null,
   "metadata": {},
   "outputs": [],
   "source": []
  },
  {
   "cell_type": "code",
   "execution_count": 95,
   "metadata": {},
   "outputs": [],
   "source": [
    "results_sort = results_sort.iloc[:-3]"
   ]
  },
  {
   "cell_type": "code",
   "execution_count": null,
   "metadata": {},
   "outputs": [],
   "source": []
  },
  {
   "cell_type": "code",
   "execution_count": 96,
   "metadata": {},
   "outputs": [
    {
     "name": "stderr",
     "output_type": "stream",
     "text": [
      "C:\\Users\\Azzy\\AppData\\Local\\Continuum\\anaconda3\\lib\\site-packages\\matplotlib\\cbook\\__init__.py:1402: FutureWarning: Support for multi-dimensional indexing (e.g. `obj[:, None]`) is deprecated and will be removed in a future version.  Convert to a numpy array before indexing instead.\n",
      "C:\\Users\\Azzy\\AppData\\Local\\Continuum\\anaconda3\\lib\\site-packages\\matplotlib\\axes\\_base.py:276: FutureWarning: Support for multi-dimensional indexing (e.g. `obj[:, None]`) is deprecated and will be removed in a future version.  Convert to a numpy array before indexing instead.\n",
      "C:\\Users\\Azzy\\AppData\\Local\\Continuum\\anaconda3\\lib\\site-packages\\matplotlib\\axes\\_base.py:278: FutureWarning: Support for multi-dimensional indexing (e.g. `obj[:, None]`) is deprecated and will be removed in a future version.  Convert to a numpy array before indexing instead.\n"
     ]
    },
    {
     "data": {
      "image/png": "[encoded data removed]",
      "text/plain": [
       "<Figure size 1440x648 with 1 Axes>"
      ]
     },
     "metadata": {
      "needs_background": "light"
     },
     "output_type": "display_data"
    }
   ],
   "source": [
    "import numpy as np\n",
    "import matplotlib.pyplot as plt\n",
    "\n",
    "data1 = results_sort['Salario_Pred']\n",
    "data2 = results_sort['Salario']\n",
    "\n",
    "\n",
    "colors = ['red', 'green', 'blue']\n",
    "\n",
    "import matplotlib.pyplot as plt\n",
    "plt.rcParams[\"figure.figsize\"] = (20, 9)\n",
    "\n",
    "for idx, classe in enumerate(results_sort['Classe'].unique()):\n",
    "    current_data = results_sort.loc[results_sort['Classe'] == classe]\n",
    "\n",
    "    x = 1000*np.array(range(len(current_data)))\n",
    "    x = current_data['Tamanho']\n",
    "\n",
    "    #plt.plot( x, data1, 'go') # green bolinha\n",
    "    plt.plot( x, current_data['Salario_Pred'], 'k:', color=colors[idx]) \n",
    "    plt.plot( x, current_data['Salario'], 'k*', color=colors[idx]) \n",
    "\n",
    "    \n",
    "#plt.axis([0,900,1000,20000])\n",
    "plt.title(\"Predição salarios: Junior , Pleno e Senior\")\n",
    "\n",
    "plt.grid(True)\n",
    "plt.xlabel(\"Tamanho\")\n",
    "plt.ylabel(\"Salario\")\n",
    "\n",
    "plt.show()\n"
   ]
  },
  {
   "cell_type": "code",
   "execution_count": 97,
   "metadata": {},
   "outputs": [],
   "source": [
    "# sem remoção de outliers"
   ]
  },
  {
   "cell_type": "code",
   "execution_count": 98,
   "metadata": {},
   "outputs": [],
   "source": [
    "df_j = pd.DataFrame(list(zip(junior,juniorS,juniorT)), columns = ['Classe','Salario','Tamanho'])\n",
    "\n",
    "df_p = pd.DataFrame(list(zip(pleno,plenoS,plenoT)), columns = ['Classe','Salario','Tamanho'])\n",
    "\n",
    "df_s = pd.DataFrame(list(zip(senior,seniorS,seniorT)), columns = ['Classe','Salario','Tamanho'])\n",
    "\n",
    "df_total = pd.concat([df_j, df_p, df_s])"
   ]
  },
  {
   "cell_type": "code",
   "execution_count": 99,
   "metadata": {},
   "outputs": [],
   "source": [
    "import sklearn\n",
    "df_shuffled=sklearn.utils.shuffle(df_total)"
   ]
  },
  {
   "cell_type": "code",
   "execution_count": 100,
   "metadata": {},
   "outputs": [],
   "source": [
    "X = df_shuffled[['Classe', 'Tamanho']] #antes seria apenas df\n",
    "y = df_shuffled['Salario']"
   ]
  },
  {
   "cell_type": "code",
   "execution_count": 101,
   "metadata": {},
   "outputs": [
    {
     "data": {
      "text/plain": [
       "306"
      ]
     },
     "execution_count": 101,
     "metadata": {},
     "output_type": "execute_result"
    }
   ],
   "source": [
    "len(df_shuffled)"
   ]
  },
  {
   "cell_type": "code",
   "execution_count": 102,
   "metadata": {},
   "outputs": [],
   "source": [
    "X = pd.get_dummies(X, columns=['Tamanho', 'Classe'], prefix=\"\", prefix_sep='') # 74, sem 79"
   ]
  },
  {
   "cell_type": "code",
   "execution_count": 103,
   "metadata": {},
   "outputs": [
    {
     "data": {
      "text/html": [
       "<div>\n",
       "<style scoped>\n",
       "    .dataframe tbody tr th:only-of-type {\n",
       "        vertical-align: middle;\n",
       "    }\n",
       "\n",
       "    .dataframe tbody tr th {\n",
       "        vertical-align: top;\n",
       "    }\n",
       "\n",
       "    .dataframe thead th {\n",
       "        text-align: right;\n",
       "    }\n",
       "</style>\n",
       "<table border=\"1\" class=\"dataframe\">\n",
       "  <thead>\n",
       "    <tr style=\"text-align: right;\">\n",
       "      <th></th>\n",
       "      <th>25</th>\n",
       "      <th>125</th>\n",
       "      <th>350</th>\n",
       "      <th>750</th>\n",
       "      <th>2500</th>\n",
       "      <th>7500</th>\n",
       "      <th>10000</th>\n",
       "      <th>1</th>\n",
       "      <th>2</th>\n",
       "      <th>3</th>\n",
       "    </tr>\n",
       "  </thead>\n",
       "  <tbody>\n",
       "    <tr>\n",
       "      <th>79</th>\n",
       "      <td>0</td>\n",
       "      <td>0</td>\n",
       "      <td>0</td>\n",
       "      <td>0</td>\n",
       "      <td>0</td>\n",
       "      <td>0</td>\n",
       "      <td>1</td>\n",
       "      <td>0</td>\n",
       "      <td>1</td>\n",
       "      <td>0</td>\n",
       "    </tr>\n",
       "    <tr>\n",
       "      <th>12</th>\n",
       "      <td>0</td>\n",
       "      <td>0</td>\n",
       "      <td>1</td>\n",
       "      <td>0</td>\n",
       "      <td>0</td>\n",
       "      <td>0</td>\n",
       "      <td>0</td>\n",
       "      <td>0</td>\n",
       "      <td>1</td>\n",
       "      <td>0</td>\n",
       "    </tr>\n",
       "    <tr>\n",
       "      <th>32</th>\n",
       "      <td>0</td>\n",
       "      <td>0</td>\n",
       "      <td>0</td>\n",
       "      <td>0</td>\n",
       "      <td>0</td>\n",
       "      <td>0</td>\n",
       "      <td>1</td>\n",
       "      <td>1</td>\n",
       "      <td>0</td>\n",
       "      <td>0</td>\n",
       "    </tr>\n",
       "    <tr>\n",
       "      <th>98</th>\n",
       "      <td>0</td>\n",
       "      <td>0</td>\n",
       "      <td>0</td>\n",
       "      <td>0</td>\n",
       "      <td>0</td>\n",
       "      <td>0</td>\n",
       "      <td>1</td>\n",
       "      <td>1</td>\n",
       "      <td>0</td>\n",
       "      <td>0</td>\n",
       "    </tr>\n",
       "    <tr>\n",
       "      <th>44</th>\n",
       "      <td>0</td>\n",
       "      <td>0</td>\n",
       "      <td>0</td>\n",
       "      <td>0</td>\n",
       "      <td>0</td>\n",
       "      <td>1</td>\n",
       "      <td>0</td>\n",
       "      <td>0</td>\n",
       "      <td>0</td>\n",
       "      <td>1</td>\n",
       "    </tr>\n",
       "    <tr>\n",
       "      <th>...</th>\n",
       "      <td>...</td>\n",
       "      <td>...</td>\n",
       "      <td>...</td>\n",
       "      <td>...</td>\n",
       "      <td>...</td>\n",
       "      <td>...</td>\n",
       "      <td>...</td>\n",
       "      <td>...</td>\n",
       "      <td>...</td>\n",
       "      <td>...</td>\n",
       "    </tr>\n",
       "    <tr>\n",
       "      <th>83</th>\n",
       "      <td>0</td>\n",
       "      <td>0</td>\n",
       "      <td>0</td>\n",
       "      <td>0</td>\n",
       "      <td>1</td>\n",
       "      <td>0</td>\n",
       "      <td>0</td>\n",
       "      <td>0</td>\n",
       "      <td>1</td>\n",
       "      <td>0</td>\n",
       "    </tr>\n",
       "    <tr>\n",
       "      <th>76</th>\n",
       "      <td>0</td>\n",
       "      <td>0</td>\n",
       "      <td>0</td>\n",
       "      <td>0</td>\n",
       "      <td>0</td>\n",
       "      <td>0</td>\n",
       "      <td>1</td>\n",
       "      <td>1</td>\n",
       "      <td>0</td>\n",
       "      <td>0</td>\n",
       "    </tr>\n",
       "    <tr>\n",
       "      <th>0</th>\n",
       "      <td>0</td>\n",
       "      <td>0</td>\n",
       "      <td>0</td>\n",
       "      <td>0</td>\n",
       "      <td>0</td>\n",
       "      <td>0</td>\n",
       "      <td>1</td>\n",
       "      <td>0</td>\n",
       "      <td>0</td>\n",
       "      <td>1</td>\n",
       "    </tr>\n",
       "    <tr>\n",
       "      <th>39</th>\n",
       "      <td>0</td>\n",
       "      <td>0</td>\n",
       "      <td>0</td>\n",
       "      <td>0</td>\n",
       "      <td>1</td>\n",
       "      <td>0</td>\n",
       "      <td>0</td>\n",
       "      <td>0</td>\n",
       "      <td>1</td>\n",
       "      <td>0</td>\n",
       "    </tr>\n",
       "    <tr>\n",
       "      <th>67</th>\n",
       "      <td>0</td>\n",
       "      <td>0</td>\n",
       "      <td>0</td>\n",
       "      <td>0</td>\n",
       "      <td>0</td>\n",
       "      <td>0</td>\n",
       "      <td>1</td>\n",
       "      <td>0</td>\n",
       "      <td>0</td>\n",
       "      <td>1</td>\n",
       "    </tr>\n",
       "  </tbody>\n",
       "</table>\n",
       "<p>306 rows × 10 columns</p>\n",
       "</div>"
      ],
      "text/plain": [
       "    25  125  350  750  2500  7500  10000  1  2  3\n",
       "79   0    0    0    0     0     0      1  0  1  0\n",
       "12   0    0    1    0     0     0      0  0  1  0\n",
       "32   0    0    0    0     0     0      1  1  0  0\n",
       "98   0    0    0    0     0     0      1  1  0  0\n",
       "44   0    0    0    0     0     1      0  0  0  1\n",
       "..  ..  ...  ...  ...   ...   ...    ... .. .. ..\n",
       "83   0    0    0    0     1     0      0  0  1  0\n",
       "76   0    0    0    0     0     0      1  1  0  0\n",
       "0    0    0    0    0     0     0      1  0  0  1\n",
       "39   0    0    0    0     1     0      0  0  1  0\n",
       "67   0    0    0    0     0     0      1  0  0  1\n",
       "\n",
       "[306 rows x 10 columns]"
      ]
     },
     "execution_count": 103,
     "metadata": {},
     "output_type": "execute_result"
    }
   ],
   "source": [
    "X"
   ]
  },
  {
   "cell_type": "code",
   "execution_count": 104,
   "metadata": {},
   "outputs": [
    {
     "data": {
      "text/plain": [
       "0.48141762617942263"
      ]
     },
     "execution_count": 104,
     "metadata": {},
     "output_type": "execute_result"
    }
   ],
   "source": [
    "from sklearn.linear_model import LogisticRegression, LinearRegression\n",
    "from sklearn.model_selection import train_test_split\n",
    "from sklearn.svm import SVC\n",
    "from sklearn.preprocessing import StandardScaler\n",
    "from sklearn.datasets import make_classification\n",
    "from sklearn.model_selection import train_test_split\n",
    "from sklearn.pipeline import Pipeline\n",
    "\n",
    "\n",
    "pipe = Pipeline([('scaler', StandardScaler()), ('LR', LinearRegression())])\n",
    "\n",
    "#com o dataset(nao remodelado, 103), com test 0,3 e sem dummies no tamanho, temos 81%\n",
    "# dataset remodelado, 93 ; 84%\n",
    "X_train, X_test, y_train, y_test = train_test_split(X, y, test_size=0.3, random_state=0) \n",
    "pipe.fit(X_train, y_train)\n",
    "pipe.score(X_test, y_test)"
   ]
  },
  {
   "cell_type": "code",
   "execution_count": 105,
   "metadata": {},
   "outputs": [],
   "source": [
    "output = pipe.predict(X_test)\n",
    "\n",
    "classe = X_test[['1', '2', '3']].idxmax(axis=1)\n",
    "tamanho = X_test[['25',  '125',  '350', '750', '2500', '7500']].idxmax(axis=1)\n",
    "\n",
    "output =output.astype(int)\n",
    "\n",
    "results = pd.DataFrame(list(zip(output, y_test, classe, tamanho)), columns = ['Salario_Pred','Salario','Classe', 'Tamanho'])\n",
    "\n",
    "results[['Classe', 'Tamanho']] = results[['Classe', 'Tamanho']].astype(int)\n",
    "\n",
    "results_sort = results.sort_values(['Tamanho', 'Classe'])"
   ]
  },
  {
   "cell_type": "code",
   "execution_count": 106,
   "metadata": {},
   "outputs": [
    {
     "data": {
      "text/html": [
       "<div>\n",
       "<style scoped>\n",
       "    .dataframe tbody tr th:only-of-type {\n",
       "        vertical-align: middle;\n",
       "    }\n",
       "\n",
       "    .dataframe tbody tr th {\n",
       "        vertical-align: top;\n",
       "    }\n",
       "\n",
       "    .dataframe thead th {\n",
       "        text-align: right;\n",
       "    }\n",
       "</style>\n",
       "<table border=\"1\" class=\"dataframe\">\n",
       "  <thead>\n",
       "    <tr style=\"text-align: right;\">\n",
       "      <th></th>\n",
       "      <th>Salario_Pred</th>\n",
       "      <th>Salario</th>\n",
       "      <th>Classe</th>\n",
       "      <th>Tamanho</th>\n",
       "    </tr>\n",
       "  </thead>\n",
       "  <tbody>\n",
       "    <tr>\n",
       "      <th>9</th>\n",
       "      <td>3444</td>\n",
       "      <td>4000</td>\n",
       "      <td>1</td>\n",
       "      <td>25</td>\n",
       "    </tr>\n",
       "    <tr>\n",
       "      <th>17</th>\n",
       "      <td>4724</td>\n",
       "      <td>4000</td>\n",
       "      <td>1</td>\n",
       "      <td>25</td>\n",
       "    </tr>\n",
       "    <tr>\n",
       "      <th>51</th>\n",
       "      <td>4724</td>\n",
       "      <td>6500</td>\n",
       "      <td>1</td>\n",
       "      <td>25</td>\n",
       "    </tr>\n",
       "    <tr>\n",
       "      <th>74</th>\n",
       "      <td>4724</td>\n",
       "      <td>5500</td>\n",
       "      <td>1</td>\n",
       "      <td>25</td>\n",
       "    </tr>\n",
       "    <tr>\n",
       "      <th>82</th>\n",
       "      <td>4724</td>\n",
       "      <td>6500</td>\n",
       "      <td>1</td>\n",
       "      <td>25</td>\n",
       "    </tr>\n",
       "    <tr>\n",
       "      <th>...</th>\n",
       "      <td>...</td>\n",
       "      <td>...</td>\n",
       "      <td>...</td>\n",
       "      <td>...</td>\n",
       "    </tr>\n",
       "    <tr>\n",
       "      <th>63</th>\n",
       "      <td>12148</td>\n",
       "      <td>8000</td>\n",
       "      <td>3</td>\n",
       "      <td>2500</td>\n",
       "    </tr>\n",
       "    <tr>\n",
       "      <th>81</th>\n",
       "      <td>12148</td>\n",
       "      <td>13500</td>\n",
       "      <td>3</td>\n",
       "      <td>2500</td>\n",
       "    </tr>\n",
       "    <tr>\n",
       "      <th>84</th>\n",
       "      <td>12148</td>\n",
       "      <td>9500</td>\n",
       "      <td>3</td>\n",
       "      <td>2500</td>\n",
       "    </tr>\n",
       "    <tr>\n",
       "      <th>85</th>\n",
       "      <td>9652</td>\n",
       "      <td>10500</td>\n",
       "      <td>2</td>\n",
       "      <td>7500</td>\n",
       "    </tr>\n",
       "    <tr>\n",
       "      <th>13</th>\n",
       "      <td>13812</td>\n",
       "      <td>10500</td>\n",
       "      <td>3</td>\n",
       "      <td>7500</td>\n",
       "    </tr>\n",
       "  </tbody>\n",
       "</table>\n",
       "<p>92 rows × 4 columns</p>\n",
       "</div>"
      ],
      "text/plain": [
       "    Salario_Pred  Salario  Classe  Tamanho\n",
       "9           3444     4000       1       25\n",
       "17          4724     4000       1       25\n",
       "51          4724     6500       1       25\n",
       "74          4724     5500       1       25\n",
       "82          4724     6500       1       25\n",
       "..           ...      ...     ...      ...\n",
       "63         12148     8000       3     2500\n",
       "81         12148    13500       3     2500\n",
       "84         12148     9500       3     2500\n",
       "85          9652    10500       2     7500\n",
       "13         13812    10500       3     7500\n",
       "\n",
       "[92 rows x 4 columns]"
      ]
     },
     "execution_count": 106,
     "metadata": {},
     "output_type": "execute_result"
    }
   ],
   "source": [
    "results_sort"
   ]
  },
  {
   "cell_type": "code",
   "execution_count": 107,
   "metadata": {},
   "outputs": [],
   "source": [
    "results_sort = results_sort.iloc[:-1]"
   ]
  },
  {
   "cell_type": "code",
   "execution_count": 108,
   "metadata": {},
   "outputs": [
    {
     "name": "stderr",
     "output_type": "stream",
     "text": [
      "C:\\Users\\Azzy\\AppData\\Local\\Continuum\\anaconda3\\lib\\site-packages\\matplotlib\\cbook\\__init__.py:1402: FutureWarning: Support for multi-dimensional indexing (e.g. `obj[:, None]`) is deprecated and will be removed in a future version.  Convert to a numpy array before indexing instead.\n",
      "C:\\Users\\Azzy\\AppData\\Local\\Continuum\\anaconda3\\lib\\site-packages\\matplotlib\\axes\\_base.py:276: FutureWarning: Support for multi-dimensional indexing (e.g. `obj[:, None]`) is deprecated and will be removed in a future version.  Convert to a numpy array before indexing instead.\n",
      "C:\\Users\\Azzy\\AppData\\Local\\Continuum\\anaconda3\\lib\\site-packages\\matplotlib\\axes\\_base.py:278: FutureWarning: Support for multi-dimensional indexing (e.g. `obj[:, None]`) is deprecated and will be removed in a future version.  Convert to a numpy array before indexing instead.\n"
     ]
    },
    {
     "data": {
      "image/png": "[encoded data removed]",
      "text/plain": [
       "<Figure size 1440x648 with 1 Axes>"
      ]
     },
     "metadata": {
      "needs_background": "light"
     },
     "output_type": "display_data"
    }
   ],
   "source": [
    "import numpy as np\n",
    "import matplotlib.pyplot as plt\n",
    "\n",
    "data1 = results_sort['Salario_Pred']\n",
    "data2 = results_sort['Salario']\n",
    "\n",
    "\n",
    "colors = ['red', 'green', 'blue']\n",
    "\n",
    "import matplotlib.pyplot as plt\n",
    "plt.rcParams[\"figure.figsize\"] = (20, 9)\n",
    "\n",
    "for idx, classe in enumerate(results_sort['Classe'].unique()):\n",
    "    current_data = results_sort.loc[results_sort['Classe'] == classe]\n",
    "\n",
    "    x = 1000*np.array(range(len(current_data)))\n",
    "    x = current_data['Tamanho']\n",
    "\n",
    "    #plt.plot( x, data1, 'go') # green bolinha\n",
    "    plt.plot( x, current_data['Salario_Pred'], 'k:', color=colors[idx]) \n",
    "    plt.plot( x, current_data['Salario'], 'k*', color=colors[idx]) \n",
    "\n",
    "    \n",
    "#plt.axis([0,900,1000,20000])\n",
    "plt.title(\"Predição salarios: Junior , Pleno e Senior\")\n",
    "\n",
    "plt.grid(True)\n",
    "plt.xlabel(\"Tamanho\")\n",
    "plt.ylabel(\"Salario\")\n",
    "\n",
    "plt.show()"
   ]
  },
  {
   "cell_type": "code",
   "execution_count": null,
   "metadata": {},
   "outputs": [],
   "source": []
  },
  {
   "cell_type": "code",
   "execution_count": 109,
   "metadata": {},
   "outputs": [],
   "source": [
    "import pandas as pd\n",
    "import seaborn as sns\n",
    "from sklearn.model_selection import train_test_split\n",
    "from sklearn.linear_model import LogisticRegression\n",
    "from sklearn.neighbors import KNeighborsClassifier\n",
    "from sklearn.tree import DecisionTreeClassifier\n",
    "from sklearn.metrics import classification_report"
   ]
  },
  {
   "cell_type": "code",
   "execution_count": 110,
   "metadata": {},
   "outputs": [],
   "source": [
    "clr = LogisticRegression()\n",
    "clr.fit(X_train, y_train)\n",
    "# Fazendo a predição nos dados de treino\n",
    "resultado_clr = clr.predict(X_test)"
   ]
  },
  {
   "cell_type": "code",
   "execution_count": 111,
   "metadata": {},
   "outputs": [
    {
     "name": "stdout",
     "output_type": "stream",
     "text": [
      "              precision    recall  f1-score   support\n",
      "\n",
      "        2500       0.00      0.00      0.00         1\n",
      "        3000       0.00      0.00      0.00         6\n",
      "        3500       0.00      0.00      0.00         5\n",
      "        3773       0.00      0.00      0.00         1\n",
      "        4000       0.00      0.00      0.00         7\n",
      "        4500       0.00      0.00      0.00         2\n",
      "        4946       0.00      0.00      0.00         1\n",
      "        5000       0.18      0.43      0.25         7\n",
      "        5500       0.00      0.00      0.00         6\n",
      "        6000       0.00      0.00      0.00         4\n",
      "        6500       0.11      0.80      0.20         5\n",
      "        6874       0.00      0.00      0.00         1\n",
      "        7000       0.00      0.00      0.00         2\n",
      "        7205       0.00      0.00      0.00         1\n",
      "        7500       0.00      0.00      0.00         5\n",
      "        8000       0.00      0.00      0.00         2\n",
      "        8166       0.00      0.00      0.00         1\n",
      "        8500       0.00      0.00      0.00         2\n",
      "        8743       0.00      0.00      0.00         1\n",
      "        9000       0.00      0.00      0.00         1\n",
      "        9500       0.09      0.33      0.14         3\n",
      "       10000       0.00      0.00      0.00         2\n",
      "       10119       0.00      0.00      0.00         1\n",
      "       10166       0.00      0.00      0.00         1\n",
      "       10500       0.00      0.00      0.00         4\n",
      "       11500       0.00      0.00      0.00         2\n",
      "       12500       0.00      0.00      0.00         6\n",
      "       13000       0.00      0.00      0.00         1\n",
      "       13500       0.17      0.14      0.15         7\n",
      "       14500       0.00      0.00      0.00         1\n",
      "       16500       0.00      0.00      0.00         1\n",
      "       18500       0.00      0.00      0.00         1\n",
      "       20000       0.00      0.00      0.00         1\n",
      "\n",
      "    accuracy                           0.10        92\n",
      "   macro avg       0.02      0.05      0.02        92\n",
      "weighted avg       0.04      0.10      0.05        92\n",
      "\n"
     ]
    },
    {
     "name": "stderr",
     "output_type": "stream",
     "text": [
      "C:\\Users\\Azzy\\AppData\\Local\\Continuum\\anaconda3\\lib\\site-packages\\sklearn\\metrics\\_classification.py:1248: UndefinedMetricWarning: Precision and F-score are ill-defined and being set to 0.0 in labels with no predicted samples. Use `zero_division` parameter to control this behavior.\n",
      "C:\\Users\\Azzy\\AppData\\Local\\Continuum\\anaconda3\\lib\\site-packages\\sklearn\\metrics\\_classification.py:1248: UndefinedMetricWarning: Precision and F-score are ill-defined and being set to 0.0 in labels with no predicted samples. Use `zero_division` parameter to control this behavior.\n",
      "C:\\Users\\Azzy\\AppData\\Local\\Continuum\\anaconda3\\lib\\site-packages\\sklearn\\metrics\\_classification.py:1248: UndefinedMetricWarning: Precision and F-score are ill-defined and being set to 0.0 in labels with no predicted samples. Use `zero_division` parameter to control this behavior.\n"
     ]
    }
   ],
   "source": [
    "print(classification_report(y_test, resultado_clr))"
   ]
  },
  {
   "cell_type": "code",
   "execution_count": 112,
   "metadata": {},
   "outputs": [],
   "source": [
    "# Criando modelo e treinando com os dados de treino\n",
    "knn = KNeighborsClassifier()\n",
    "knn.fit(X_train, y_train)\n",
    "# Fazendo a predição nos dados de treino\n",
    "resultado_knn = knn.predict(X_test)"
   ]
  },
  {
   "cell_type": "code",
   "execution_count": 113,
   "metadata": {},
   "outputs": [
    {
     "name": "stdout",
     "output_type": "stream",
     "text": [
      "              precision    recall  f1-score   support\n",
      "\n",
      "         978       0.00      0.00      0.00         0\n",
      "        2500       0.00      0.00      0.00         1\n",
      "        3000       0.14      0.33      0.20         6\n",
      "        3500       0.00      0.00      0.00         5\n",
      "        3773       0.00      0.00      0.00         1\n",
      "        4000       0.00      0.00      0.00         7\n",
      "        4500       0.00      0.00      0.00         2\n",
      "        4946       0.00      0.00      0.00         1\n",
      "        5000       0.07      0.14      0.09         7\n",
      "        5500       0.33      0.17      0.22         6\n",
      "        6000       0.08      0.25      0.12         4\n",
      "        6500       0.00      0.00      0.00         5\n",
      "        6874       0.00      0.00      0.00         1\n",
      "        7000       0.00      0.00      0.00         2\n",
      "        7205       0.00      0.00      0.00         1\n",
      "        7500       0.00      0.00      0.00         5\n",
      "        8000       0.00      0.00      0.00         2\n",
      "        8166       0.00      0.00      0.00         1\n",
      "        8500       0.00      0.00      0.00         2\n",
      "        8743       0.00      0.00      0.00         1\n",
      "        9000       0.00      0.00      0.00         1\n",
      "        9500       0.09      0.33      0.14         3\n",
      "       10000       0.00      0.00      0.00         2\n",
      "       10119       0.00      0.00      0.00         1\n",
      "       10166       0.00      0.00      0.00         1\n",
      "       10500       0.00      0.00      0.00         4\n",
      "       11500       0.00      0.00      0.00         2\n",
      "       12500       0.00      0.00      0.00         6\n",
      "       13000       0.00      0.00      0.00         1\n",
      "       13500       0.00      0.00      0.00         7\n",
      "       14500       0.00      0.00      0.00         1\n",
      "       16500       0.00      0.00      0.00         1\n",
      "       18500       0.00      0.00      0.00         1\n",
      "       20000       0.00      0.00      0.00         1\n",
      "\n",
      "    accuracy                           0.07        92\n",
      "   macro avg       0.02      0.04      0.02        92\n",
      "weighted avg       0.04      0.07      0.04        92\n",
      "\n"
     ]
    },
    {
     "name": "stderr",
     "output_type": "stream",
     "text": [
      "C:\\Users\\Azzy\\AppData\\Local\\Continuum\\anaconda3\\lib\\site-packages\\sklearn\\metrics\\_classification.py:1248: UndefinedMetricWarning: Precision and F-score are ill-defined and being set to 0.0 in labels with no predicted samples. Use `zero_division` parameter to control this behavior.\n",
      "C:\\Users\\Azzy\\AppData\\Local\\Continuum\\anaconda3\\lib\\site-packages\\sklearn\\metrics\\_classification.py:1248: UndefinedMetricWarning: Recall and F-score are ill-defined and being set to 0.0 in labels with no true samples. Use `zero_division` parameter to control this behavior.\n",
      "C:\\Users\\Azzy\\AppData\\Local\\Continuum\\anaconda3\\lib\\site-packages\\sklearn\\metrics\\_classification.py:1248: UndefinedMetricWarning: Precision and F-score are ill-defined and being set to 0.0 in labels with no predicted samples. Use `zero_division` parameter to control this behavior.\n",
      "C:\\Users\\Azzy\\AppData\\Local\\Continuum\\anaconda3\\lib\\site-packages\\sklearn\\metrics\\_classification.py:1248: UndefinedMetricWarning: Recall and F-score are ill-defined and being set to 0.0 in labels with no true samples. Use `zero_division` parameter to control this behavior.\n",
      "C:\\Users\\Azzy\\AppData\\Local\\Continuum\\anaconda3\\lib\\site-packages\\sklearn\\metrics\\_classification.py:1248: UndefinedMetricWarning: Precision and F-score are ill-defined and being set to 0.0 in labels with no predicted samples. Use `zero_division` parameter to control this behavior.\n",
      "C:\\Users\\Azzy\\AppData\\Local\\Continuum\\anaconda3\\lib\\site-packages\\sklearn\\metrics\\_classification.py:1248: UndefinedMetricWarning: Recall and F-score are ill-defined and being set to 0.0 in labels with no true samples. Use `zero_division` parameter to control this behavior.\n"
     ]
    }
   ],
   "source": [
    "print(classification_report(y_test, resultado_knn))"
   ]
  },
  {
   "cell_type": "code",
   "execution_count": 114,
   "metadata": {},
   "outputs": [],
   "source": [
    "# Criando modelo e treinando com os dados de treino\n",
    "dtc = DecisionTreeClassifier()\n",
    "dtc.fit(X_train, y_train)\n",
    "# Fazendo a predição nos dados de treino\n",
    "resultado_dtc = dtc.predict(X_test)"
   ]
  },
  {
   "cell_type": "code",
   "execution_count": 115,
   "metadata": {},
   "outputs": [
    {
     "name": "stdout",
     "output_type": "stream",
     "text": [
      "              precision    recall  f1-score   support\n",
      "\n",
      "        2500       0.00      0.00      0.00         1\n",
      "        3000       0.00      0.00      0.00         6\n",
      "        3500       0.00      0.00      0.00         5\n",
      "        3773       0.00      0.00      0.00         1\n",
      "        4000       0.00      0.00      0.00         7\n",
      "        4500       0.00      0.00      0.00         2\n",
      "        4946       0.00      0.00      0.00         1\n",
      "        5000       0.21      0.43      0.29         7\n",
      "        5500       0.00      0.00      0.00         6\n",
      "        6000       0.00      0.00      0.00         4\n",
      "        6500       0.05      0.20      0.08         5\n",
      "        6874       0.00      0.00      0.00         1\n",
      "        7000       0.00      0.00      0.00         2\n",
      "        7205       0.00      0.00      0.00         1\n",
      "        7500       0.00      0.00      0.00         5\n",
      "        8000       0.00      0.00      0.00         2\n",
      "        8166       0.00      0.00      0.00         1\n",
      "        8500       0.00      0.00      0.00         2\n",
      "        8743       0.00      0.00      0.00         1\n",
      "        9000       0.00      0.00      0.00         1\n",
      "        9500       0.06      0.33      0.10         3\n",
      "       10000       0.00      0.00      0.00         2\n",
      "       10119       0.00      0.00      0.00         1\n",
      "       10166       0.00      0.00      0.00         1\n",
      "       10500       0.00      0.00      0.00         4\n",
      "       11500       0.00      0.00      0.00         2\n",
      "       12500       0.00      0.00      0.00         6\n",
      "       13000       0.00      0.00      0.00         1\n",
      "       13500       0.00      0.00      0.00         7\n",
      "       14500       0.00      0.00      0.00         1\n",
      "       16500       0.00      0.00      0.00         1\n",
      "       18500       0.00      0.00      0.00         1\n",
      "       20000       0.00      0.00      0.00         1\n",
      "\n",
      "    accuracy                           0.05        92\n",
      "   macro avg       0.01      0.03      0.01        92\n",
      "weighted avg       0.02      0.05      0.03        92\n",
      "\n"
     ]
    },
    {
     "name": "stderr",
     "output_type": "stream",
     "text": [
      "C:\\Users\\Azzy\\AppData\\Local\\Continuum\\anaconda3\\lib\\site-packages\\sklearn\\metrics\\_classification.py:1248: UndefinedMetricWarning: Precision and F-score are ill-defined and being set to 0.0 in labels with no predicted samples. Use `zero_division` parameter to control this behavior.\n",
      "C:\\Users\\Azzy\\AppData\\Local\\Continuum\\anaconda3\\lib\\site-packages\\sklearn\\metrics\\_classification.py:1248: UndefinedMetricWarning: Precision and F-score are ill-defined and being set to 0.0 in labels with no predicted samples. Use `zero_division` parameter to control this behavior.\n",
      "C:\\Users\\Azzy\\AppData\\Local\\Continuum\\anaconda3\\lib\\site-packages\\sklearn\\metrics\\_classification.py:1248: UndefinedMetricWarning: Precision and F-score are ill-defined and being set to 0.0 in labels with no predicted samples. Use `zero_division` parameter to control this behavior.\n"
     ]
    }
   ],
   "source": [
    "print(classification_report(y_test, resultado_dtc))"
   ]
  },
  {
   "cell_type": "code",
   "execution_count": null,
   "metadata": {},
   "outputs": [],
   "source": []
  },
  {
   "cell_type": "code",
   "execution_count": null,
   "metadata": {},
   "outputs": [],
   "source": []
  },
  {
   "cell_type": "code",
   "execution_count": null,
   "metadata": {},
   "outputs": [],
   "source": []
  }
 ],
 "metadata": {
  "kernelspec": {
   "display_name": "Python 3",
   "language": "python",
   "name": "python3"
  },
  "language_info": {
   "codemirror_mode": {
    "name": "ipython",
    "version": 3
   },
   "file_extension": ".py",
   "mimetype": "text/x-python",
   "name": "python",
   "nbconvert_exporter": "python",
   "pygments_lexer": "ipython3",
   "version": "3.7.4"
  }
 },
 "nbformat": 4,
 "nbformat_minor": 2
}
