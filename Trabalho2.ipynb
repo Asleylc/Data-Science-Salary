{
 "cells": [
  {
   "cell_type": "code",
   "execution_count": 31,
   "metadata": {},
   "outputs": [],
   "source": [
    "import pandas as pd\n",
    "import matplotlib.pyplot as plt\n",
    "from pandas.plotting import scatter_matrix\n",
    "import numpy as np\n",
    "import matplotlib.pyplot as plt\n",
    "import scipy.stats as stats\n",
    "import seaborn as sns\n",
    "import math\n",
    "import statsmodels.api as sm\n",
    "import pylab as py\n",
    "import random\n",
    "import scipy.stats as stats"
   ]
  },
  {
   "cell_type": "code",
   "execution_count": 32,
   "metadata": {},
   "outputs": [],
   "source": [
    "df = pd.read_csv('./dataset.csv')"
   ]
  },
  {
   "cell_type": "markdown",
   "metadata": {},
   "source": [
    "# Análise Exploratória/Estatística dos Dados:"
   ]
  },
  {
   "cell_type": "code",
   "execution_count": 33,
   "metadata": {},
   "outputs": [
    {
     "data": {
      "text/html": [
       "<div>\n",
       "<style scoped>\n",
       "    .dataframe tbody tr th:only-of-type {\n",
       "        vertical-align: middle;\n",
       "    }\n",
       "\n",
       "    .dataframe tbody tr th {\n",
       "        vertical-align: top;\n",
       "    }\n",
       "\n",
       "    .dataframe thead th {\n",
       "        text-align: right;\n",
       "    }\n",
       "</style>\n",
       "<table border=\"1\" class=\"dataframe\">\n",
       "  <thead>\n",
       "    <tr style=\"text-align: right;\">\n",
       "      <th></th>\n",
       "      <th>Salario</th>\n",
       "      <th>Tamanho</th>\n",
       "      <th>Fundação</th>\n",
       "      <th>Valor_moeda</th>\n",
       "    </tr>\n",
       "  </thead>\n",
       "  <tbody>\n",
       "    <tr>\n",
       "      <th>count</th>\n",
       "      <td>389.000000</td>\n",
       "      <td>389.000000</td>\n",
       "      <td>281.000000</td>\n",
       "      <td>389.0</td>\n",
       "    </tr>\n",
       "    <tr>\n",
       "      <th>mean</th>\n",
       "      <td>7896.218509</td>\n",
       "      <td>3575.835476</td>\n",
       "      <td>1982.302491</td>\n",
       "      <td>1.0</td>\n",
       "    </tr>\n",
       "    <tr>\n",
       "      <th>std</th>\n",
       "      <td>4671.985135</td>\n",
       "      <td>4201.944921</td>\n",
       "      <td>46.368604</td>\n",
       "      <td>0.0</td>\n",
       "    </tr>\n",
       "    <tr>\n",
       "      <th>min</th>\n",
       "      <td>978.000000</td>\n",
       "      <td>25.000000</td>\n",
       "      <td>1665.000000</td>\n",
       "      <td>1.0</td>\n",
       "    </tr>\n",
       "    <tr>\n",
       "      <th>25%</th>\n",
       "      <td>4946.000000</td>\n",
       "      <td>125.000000</td>\n",
       "      <td>1976.000000</td>\n",
       "      <td>1.0</td>\n",
       "    </tr>\n",
       "    <tr>\n",
       "      <th>50%</th>\n",
       "      <td>7000.000000</td>\n",
       "      <td>750.000000</td>\n",
       "      <td>2001.000000</td>\n",
       "      <td>1.0</td>\n",
       "    </tr>\n",
       "    <tr>\n",
       "      <th>75%</th>\n",
       "      <td>10000.000000</td>\n",
       "      <td>10000.000000</td>\n",
       "      <td>2012.000000</td>\n",
       "      <td>1.0</td>\n",
       "    </tr>\n",
       "    <tr>\n",
       "      <th>max</th>\n",
       "      <td>51333.000000</td>\n",
       "      <td>10000.000000</td>\n",
       "      <td>2019.000000</td>\n",
       "      <td>1.0</td>\n",
       "    </tr>\n",
       "  </tbody>\n",
       "</table>\n",
       "</div>"
      ],
      "text/plain": [
       "            Salario       Tamanho     Fundação  Valor_moeda\n",
       "count    389.000000    389.000000   281.000000        389.0\n",
       "mean    7896.218509   3575.835476  1982.302491          1.0\n",
       "std     4671.985135   4201.944921    46.368604          0.0\n",
       "min      978.000000     25.000000  1665.000000          1.0\n",
       "25%     4946.000000    125.000000  1976.000000          1.0\n",
       "50%     7000.000000    750.000000  2001.000000          1.0\n",
       "75%    10000.000000  10000.000000  2012.000000          1.0\n",
       "max    51333.000000  10000.000000  2019.000000          1.0"
      ]
     },
     "execution_count": 33,
     "metadata": {},
     "output_type": "execute_result"
    }
   ],
   "source": [
    "df.describe()"
   ]
  },
  {
   "cell_type": "code",
   "execution_count": 59,
   "metadata": {},
   "outputs": [
    {
     "name": "stdout",
     "output_type": "stream",
     "text": [
      "Salario        7000.0\n",
      "Classe            2.0\n",
      "Tamanho         750.0\n",
      "Fundação       2001.0\n",
      "Valor_moeda       1.0\n",
      "dtype: float64\n"
     ]
    },
    {
     "name": "stderr",
     "output_type": "stream",
     "text": [
      "C:\\Users\\Azzy\\AppData\\Local\\Continuum\\anaconda3\\lib\\site-packages\\ipykernel_launcher.py:1: FutureWarning:\n",
      "\n",
      "Dropping of nuisance columns in DataFrame reductions (with 'numeric_only=None') is deprecated; in a future version this will raise TypeError.  Select only valid columns before calling the reduction.\n",
      "\n"
     ]
    }
   ],
   "source": [
    "print(df.median())"
   ]
  },
  {
   "cell_type": "code",
   "execution_count": 60,
   "metadata": {},
   "outputs": [
    {
     "name": "stdout",
     "output_type": "stream",
     "text": [
      "                           Empresa  Salario  Classe               Sede  \\\n",
      "0  Itaú Unibanco (Itaú BBA e Rede)     6500       1  São Paulo, Brasil   \n",
      "\n",
      "   Tamanho  Fundação              Tipo                       Setor Moeda  \\\n",
      "0    10000    2012.0  Empresa: privada  Desconhecido/Não se aplica  R$R$   \n",
      "\n",
      "   Valor_moeda  \n",
      "0            1  \n"
     ]
    }
   ],
   "source": [
    "print(df.mode())"
   ]
  },
  {
   "cell_type": "code",
   "execution_count": 61,
   "metadata": {},
   "outputs": [
    {
     "name": "stdout",
     "output_type": "stream",
     "text": [
      "Salario        2.182745e+07\n",
      "Classe         7.348607e-01\n",
      "Tamanho        1.765634e+07\n",
      "Fundação       2.150047e+03\n",
      "Valor_moeda    1.235772e-32\n",
      "dtype: float64\n"
     ]
    },
    {
     "name": "stderr",
     "output_type": "stream",
     "text": [
      "C:\\Users\\Azzy\\AppData\\Local\\Continuum\\anaconda3\\lib\\site-packages\\ipykernel_launcher.py:1: FutureWarning:\n",
      "\n",
      "Dropping of nuisance columns in DataFrame reductions (with 'numeric_only=None') is deprecated; in a future version this will raise TypeError.  Select only valid columns before calling the reduction.\n",
      "\n"
     ]
    }
   ],
   "source": [
    "print(df.var())"
   ]
  },
  {
   "cell_type": "code",
   "execution_count": 62,
   "metadata": {},
   "outputs": [
    {
     "name": "stdout",
     "output_type": "stream",
     "text": [
      "Salario        3321.397057\n",
      "Classe            0.751171\n",
      "Tamanho        3778.014948\n",
      "Fundação         33.759426\n",
      "Valor_moeda       0.000000\n",
      "dtype: float64\n"
     ]
    }
   ],
   "source": [
    "print(df.mad())"
   ]
  },
  {
   "cell_type": "code",
   "execution_count": 63,
   "metadata": {},
   "outputs": [
    {
     "name": "stdout",
     "output_type": "stream",
     "text": [
      "                  Salario       Classe       Tamanho       Fundação  \\\n",
      "Salario      2.182745e+07  2641.211082  1.269223e+06    3835.661045   \n",
      "Classe       2.641211e+03     0.734861  4.642978e+02      -4.477733   \n",
      "Tamanho      1.269223e+06   464.297829  1.765634e+07 -136664.913574   \n",
      "Fundação     3.835661e+03    -4.477733 -1.366649e+05    2150.047458   \n",
      "Valor_moeda  0.000000e+00     0.000000  0.000000e+00       0.000000   \n",
      "\n",
      "             Valor_moeda  \n",
      "Salario              0.0  \n",
      "Classe               0.0  \n",
      "Tamanho              0.0  \n",
      "Fundação             0.0  \n",
      "Valor_moeda          0.0  \n"
     ]
    }
   ],
   "source": [
    "print(df.cov())"
   ]
  },
  {
   "cell_type": "code",
   "execution_count": 64,
   "metadata": {},
   "outputs": [
    {
     "data": {
      "text/html": [
       "<div>\n",
       "<style scoped>\n",
       "    .dataframe tbody tr th:only-of-type {\n",
       "        vertical-align: middle;\n",
       "    }\n",
       "\n",
       "    .dataframe tbody tr th {\n",
       "        vertical-align: top;\n",
       "    }\n",
       "\n",
       "    .dataframe thead th {\n",
       "        text-align: right;\n",
       "    }\n",
       "</style>\n",
       "<table border=\"1\" class=\"dataframe\">\n",
       "  <thead>\n",
       "    <tr style=\"text-align: right;\">\n",
       "      <th></th>\n",
       "      <th>Salario</th>\n",
       "      <th>Classe</th>\n",
       "      <th>Tamanho</th>\n",
       "      <th>Fundação</th>\n",
       "      <th>Valor_moeda</th>\n",
       "    </tr>\n",
       "  </thead>\n",
       "  <tbody>\n",
       "    <tr>\n",
       "      <th>Salario</th>\n",
       "      <td>1.000000</td>\n",
       "      <td>0.659476</td>\n",
       "      <td>0.064653</td>\n",
       "      <td>0.016407</td>\n",
       "      <td>NaN</td>\n",
       "    </tr>\n",
       "    <tr>\n",
       "      <th>Classe</th>\n",
       "      <td>0.659476</td>\n",
       "      <td>1.000000</td>\n",
       "      <td>0.128897</td>\n",
       "      <td>-0.110126</td>\n",
       "      <td>NaN</td>\n",
       "    </tr>\n",
       "    <tr>\n",
       "      <th>Tamanho</th>\n",
       "      <td>0.064653</td>\n",
       "      <td>0.128897</td>\n",
       "      <td>1.000000</td>\n",
       "      <td>-0.678988</td>\n",
       "      <td>NaN</td>\n",
       "    </tr>\n",
       "    <tr>\n",
       "      <th>Fundação</th>\n",
       "      <td>0.016407</td>\n",
       "      <td>-0.110126</td>\n",
       "      <td>-0.678988</td>\n",
       "      <td>1.000000</td>\n",
       "      <td>NaN</td>\n",
       "    </tr>\n",
       "    <tr>\n",
       "      <th>Valor_moeda</th>\n",
       "      <td>NaN</td>\n",
       "      <td>NaN</td>\n",
       "      <td>NaN</td>\n",
       "      <td>NaN</td>\n",
       "      <td>NaN</td>\n",
       "    </tr>\n",
       "  </tbody>\n",
       "</table>\n",
       "</div>"
      ],
      "text/plain": [
       "              Salario    Classe   Tamanho  Fundação  Valor_moeda\n",
       "Salario      1.000000  0.659476  0.064653  0.016407          NaN\n",
       "Classe       0.659476  1.000000  0.128897 -0.110126          NaN\n",
       "Tamanho      0.064653  0.128897  1.000000 -0.678988          NaN\n",
       "Fundação     0.016407 -0.110126 -0.678988  1.000000          NaN\n",
       "Valor_moeda       NaN       NaN       NaN       NaN          NaN"
      ]
     },
     "execution_count": 64,
     "metadata": {},
     "output_type": "execute_result"
    }
   ],
   "source": [
    "df.corr()"
   ]
  },
  {
   "cell_type": "code",
   "execution_count": 34,
   "metadata": {},
   "outputs": [],
   "source": [
    "salario = df[\"Salario\"].values"
   ]
  },
  {
   "cell_type": "code",
   "execution_count": 35,
   "metadata": {},
   "outputs": [],
   "source": [
    "#aqui é so o import da Classe Fitter\n",
    "\n",
    "import logging\n",
    "import sys\n",
    "import threading\n",
    "from datetime import datetime\n",
    "\n",
    "import numpy as np\n",
    "import pandas as pd\n",
    "import pylab\n",
    "import scipy.stats\n",
    "#from easydev import Progress\n",
    "from joblib import Parallel, delayed\n",
    "from scipy.stats import entropy as kl_div\n",
    "\n",
    "logger = logging.getLogger(__name__)\n",
    "\n",
    "__all__ = ['get_common_distributions', 'get_distributions', 'Fitter']\n",
    "\n",
    "\n",
    "def get_distributions():\n",
    "    distributions = []\n",
    "    for this in dir(scipy.stats):\n",
    "        if \"fit\" in eval(\"dir(scipy.stats.\" + this + \")\"):\n",
    "            distributions.append(this)\n",
    "    return distributions\n",
    "\n",
    "\n",
    "def get_common_distributions():\n",
    "    distributions = get_distributions()\n",
    "    # to avoid error due to changes in scipy\n",
    "    common = ['cauchy', 'chi2', 'expon', 'exponpow', 'gamma',\n",
    "              'lognorm', 'norm', 'powerlaw', 'rayleigh', 'uniform']\n",
    "    common = [x for x in common if x in distributions]\n",
    "    return common\n",
    "\n",
    "\n",
    "class Fitter(object):\n",
    "    \n",
    "    \n",
    "    def __init__(self, data, xmin=None, xmax=None, bins=100,distributions=None, timeout=30,density=True):    \n",
    "    \n",
    "        self.timeout = timeout\n",
    "        # USER input\n",
    "        self._data = None\n",
    "\n",
    "        # Issue https://github.com/cokelaer/fitter/issues/22 asked for setting\n",
    "        # the density to False in the fitting and plotting. I first tought it\n",
    "        # would be possible, but the fitting is performed using the PDF of scipy\n",
    "        # so one would still need to normalise the data so that it is\n",
    "        # comparable. Therefore I do not see anyway to do it without using\n",
    "        # density set to True for now.\n",
    "        self._density = True\n",
    "\n",
    "        #: list of distributions to test\n",
    "        self.distributions = distributions\n",
    "        if self.distributions == None:\n",
    "            self._load_all_distributions()\n",
    "        elif self.distributions == \"common\":\n",
    "            self.distributions = get_common_distributions()\n",
    "        elif isinstance(distributions, str):\n",
    "            self.distributions = [distributions]\n",
    "\n",
    "        self.bins = bins\n",
    "\n",
    "        self._alldata = np.array(data)\n",
    "        if xmin == None:\n",
    "            self._xmin = self._alldata.min()\n",
    "        else:\n",
    "            self._xmin = xmin\n",
    "        if xmax == None:\n",
    "            self._xmax = self._alldata.max()\n",
    "        else:\n",
    "            self._xmax = xmax\n",
    "\n",
    "        self._trim_data()\n",
    "        self._update_data_pdf()\n",
    "\n",
    "        # Other attributes\n",
    "        self._init()\n",
    "\n",
    "    def _init(self):\n",
    "        self.fitted_param = {}\n",
    "        self.fitted_pdf = {}\n",
    "        self._fitted_errors = {}\n",
    "        self._aic = {}\n",
    "        self._bic = {}\n",
    "        self._kldiv = {}\n",
    "        self._fit_i = 0  # fit progress\n",
    "        self.pb = None\n",
    "\n",
    "    def _update_data_pdf(self):\n",
    "        # histogram retuns X with N+1 values. So, we rearrange the X output into only N\n",
    "        self.y, self.x = np.histogram(\n",
    "            self._data, bins=self.bins, density=self._density)\n",
    "        self.x = [(this + self.x[i + 1]) / 2. for i,\n",
    "                                                  this in enumerate(self.x[0:-1])]\n",
    "\n",
    "    def _trim_data(self):\n",
    "        self._data = self._alldata[np.logical_and(\n",
    "            self._alldata >= self._xmin, self._alldata <= self._xmax)]\n",
    "\n",
    "    def _get_xmin(self):\n",
    "        return self._xmin\n",
    "\n",
    "    def _set_xmin(self, value):\n",
    "        if value == None:\n",
    "            value = self._alldata.min()\n",
    "        elif value < self._alldata.min():\n",
    "            value = self._alldata.min()\n",
    "        self._xmin = value\n",
    "        self._trim_data()\n",
    "        self._update_data_pdf()\n",
    "\n",
    "    xmin = property(_get_xmin, _set_xmin,\n",
    "                    doc=\"consider only data above xmin. reset if None\")\n",
    "\n",
    "    def _get_xmax(self):\n",
    "        return self._xmax\n",
    "\n",
    "    def _set_xmax(self, value):\n",
    "        if value == None:\n",
    "            value = self._alldata.max()\n",
    "        elif value > self._alldata.max():\n",
    "            value = self._alldata.max()\n",
    "        self._xmax = value\n",
    "        self._trim_data()\n",
    "        self._update_data_pdf()\n",
    "\n",
    "    xmax = property(_get_xmax, _set_xmax,\n",
    "                    doc=\"consider only data below xmax. reset if None \")\n",
    "\n",
    "    def _load_all_distributions(self):\n",
    "        \"\"\"Replace the :attr:`distributions` attribute with all scipy distributions\"\"\"\n",
    "        self.distributions = get_distributions()\n",
    "\n",
    "    def hist(self):\n",
    "        _ = pylab.hist(self._data, bins=self.bins, density=self._density)\n",
    "        pylab.grid(True)\n",
    "        \n",
    "    def _fit_single_distribution(self, distribution, progress: bool):\n",
    "        try:\n",
    "            # need a subprocess to check time it takes. If too long, skip it\n",
    "            dist = eval(\"scipy.stats.\" + distribution)\n",
    "\n",
    "            # TODO here, dist.fit may take a while or just hang forever\n",
    "            # with some distributions. So, I thought to use signal module\n",
    "            # to catch the error when signal takes too long. It did not work\n",
    "            # presumably because another try/exception is inside the\n",
    "            # fit function, so I used threading with a recipe from stackoverflow\n",
    "            # See timed_run function above\n",
    "            param = self._timed_run(dist.fit, distribution, args=self._data)\n",
    "\n",
    "            # with signal, does not work. maybe because another expection is caught\n",
    "            # hoping the order returned by fit is the same as in pdf\n",
    "            pdf_fitted = dist.pdf(self.x, *param)\n",
    "\n",
    "            self.fitted_param[distribution] = param[:]\n",
    "            self.fitted_pdf[distribution] = pdf_fitted\n",
    "\n",
    "            # calculate error\n",
    "            sq_error = pylab.sum(\n",
    "                (self.fitted_pdf[distribution] - self.y) ** 2)\n",
    "\n",
    "            # calcualte information criteria\n",
    "            logLik = np.sum(dist.logpdf(self.x, *param))\n",
    "            k = len(param[:])\n",
    "            n = len(self._data)\n",
    "            aic = 2 * k - 2 * logLik\n",
    "            bic = n * np.log(sq_error / n) + k * np.log(n)\n",
    "\n",
    "            # calcualte kullback leibler divergence\n",
    "            kullback_leibler = kl_div(\n",
    "                self.fitted_pdf[distribution], self.y)\n",
    "\n",
    "            logging.info(\"Fitted {} distribution with error={})\".format(\n",
    "                distribution, sq_error))\n",
    "\n",
    "            # compute some errors now\n",
    "            self._fitted_errors[distribution] = sq_error\n",
    "            self._aic[distribution] = aic\n",
    "            self._bic[distribution] = bic\n",
    "            self._kldiv[distribution] = kullback_leibler\n",
    "        except Exception:  # pragma: no cover\n",
    "            logging.warning(\"SKIPPED {} distribution (taking more than {} seconds)\".format(distribution,\n",
    "                                                                                           self.timeout))\n",
    "            # if we cannot compute the error, set it to large values\n",
    "            self._fitted_errors[distribution] = np.inf\n",
    "            self._aic[distribution] = np.inf\n",
    "            self._bic[distribution] = np.inf\n",
    "            self._kldiv[distribution] = np.inf\n",
    "        if progress:\n",
    "            self._fit_i += 1\n",
    "            self.pb.animate(self._fit_i)   \n",
    "        \n",
    "        \n",
    "    def fit(self, amp=1, progress=False, n_jobs=-1):\n",
    "        import warnings\n",
    "        warnings.filterwarnings(\"ignore\", category=RuntimeWarning)\n",
    "        \n",
    "        if progress:\n",
    "            self.pb = Progress(len(self.distributions))\n",
    "\n",
    "        jobs = (delayed(self._fit_single_distribution)(dist, progress) for dist in self.distributions)\n",
    "        pool = Parallel(n_jobs=n_jobs, backend='threading')\n",
    "        _ = pool(jobs)\n",
    "        self.df_errors = pd.DataFrame({'sumsquare_error': self._fitted_errors,\n",
    "                                       'aic': self._aic,\n",
    "                                       'bic': self._bic,\n",
    "                                       'kl_div': self._kldiv})\n",
    "    \n",
    "    \n",
    "    def plot_pdf(self, names=None, Nbest=5, lw=2, method=\"sumsquare_error\"):\n",
    "        \"\"\"Plots Probability density functions of the distributions\n",
    "\n",
    "        :param str,list names: names can be a single distribution name, or a list\n",
    "            of distribution names, or kept as None, in which case, the first Nbest\n",
    "            distribution will be taken (default to best 5)\n",
    "\n",
    "\n",
    "        \"\"\"\n",
    "        assert Nbest > 0\n",
    "        if Nbest > len(self.distributions):\n",
    "            Nbest = len(self.distributions)\n",
    "\n",
    "        if isinstance(names, list):\n",
    "            for name in names:\n",
    "                pylab.plot(self.x, self.fitted_pdf[name], lw=lw, label=name)\n",
    "        elif names:\n",
    "            pylab.plot(self.x, self.fitted_pdf[names], lw=lw, label=names)\n",
    "        else:\n",
    "            try:\n",
    "                names = self.df_errors.sort_values(\n",
    "                    by=method).index[0:Nbest]\n",
    "            except Exception:\n",
    "                names = self.df_errors.sort(method).index[0:Nbest]\n",
    "\n",
    "            for name in names:\n",
    "                if name in self.fitted_pdf.keys():\n",
    "                    pylab.plot(\n",
    "                        self.x, self.fitted_pdf[name], lw=lw, label=name)\n",
    "                else:  # pragma: no cover\n",
    "                    logger.warning(\"%s was not fitted. no parameters available\" % name)\n",
    "        pylab.grid(True)\n",
    "        pylab.legend()\n",
    "        \n",
    "        \n",
    "    def get_best(self, method='sumsquare_error'):\n",
    "        \"\"\"Return best fitted distribution and its parameters\n",
    "\n",
    "        a dictionary with one key (the distribution name) and its parameters\n",
    "\n",
    "        \"\"\"\n",
    "        # self.df should be sorted, so then us take the first one as the best\n",
    "        name = self.df_errors.sort_values(method).iloc[0].name\n",
    "        params = self.fitted_param[name]\n",
    "        return {name: params}\n",
    "    \n",
    "    \n",
    "    def summary(self, Nbest=5, lw=2, plot=True, method=\"sumsquare_error\"):\n",
    "        \"\"\"Plots the distribution of the data and Nbest distribution\n",
    "\n",
    "        \"\"\"\n",
    "        if plot:\n",
    "            pylab.clf()\n",
    "            self.hist()\n",
    "            self.plot_pdf(Nbest=Nbest, lw=lw, method=method)\n",
    "            pylab.grid(True)\n",
    "\n",
    "        Nbest = min(Nbest, len(self.distributions))\n",
    "        try:\n",
    "            names = self.df_errors.sort_values(\n",
    "                by=method).index[0:Nbest]\n",
    "        except:  # pragma: no cover\n",
    "            names = self.df_errors.sort(method).index[0:Nbest]\n",
    "        return self.df_errors.loc[names]\n",
    "    \n",
    "    def _timed_run(self, func, distribution, args=(), kwargs={}, default=None):\n",
    "        \"\"\"This function will spawn a thread and run the given function\n",
    "        using the args, kwargs and return the given default value if the\n",
    "        timeout is exceeded.\n",
    "\n",
    "        http://stackoverflow.com/questions/492519/timeout-on-a-python-function-call\n",
    "        \"\"\"\n",
    "\n",
    "        class InterruptableThread(threading.Thread):\n",
    "            def __init__(self):\n",
    "                threading.Thread.__init__(self)\n",
    "                self.result = default\n",
    "                self.exc_info = (None, None, None)\n",
    "\n",
    "            def run(self):\n",
    "                try:\n",
    "                    self.result = func(args, **kwargs)\n",
    "                except Exception as err:  # pragma: no cover\n",
    "                    self.exc_info = sys.exc_info()\n",
    "\n",
    "            def suicide(self):  # pragma: no cover\n",
    "                raise RuntimeError('Stop has been called')\n",
    "\n",
    "        it = InterruptableThread()\n",
    "        it.start()\n",
    "        started_at = datetime.now()\n",
    "        it.join(self.timeout)\n",
    "        ended_at = datetime.now()\n",
    "        diff = ended_at - started_at\n",
    "\n",
    "        if it.exc_info[0] is not None:  # pragma: no cover ;  if there were any exceptions\n",
    "            a, b, c = it.exc_info\n",
    "            raise Exception(a, b, c)  # communicate that to caller\n",
    "\n",
    "        if it.isAlive():  # pragma: no cover\n",
    "            it.suicide()\n",
    "            raise RuntimeError\n",
    "        else:\n",
    "            return it.result\n"
   ]
  },
  {
   "cell_type": "code",
   "execution_count": 36,
   "metadata": {},
   "outputs": [
    {
     "data": {
      "text/html": [
       "<div>\n",
       "<style scoped>\n",
       "    .dataframe tbody tr th:only-of-type {\n",
       "        vertical-align: middle;\n",
       "    }\n",
       "\n",
       "    .dataframe tbody tr th {\n",
       "        vertical-align: top;\n",
       "    }\n",
       "\n",
       "    .dataframe thead th {\n",
       "        text-align: right;\n",
       "    }\n",
       "</style>\n",
       "<table border=\"1\" class=\"dataframe\">\n",
       "  <thead>\n",
       "    <tr style=\"text-align: right;\">\n",
       "      <th></th>\n",
       "      <th>sumsquare_error</th>\n",
       "      <th>aic</th>\n",
       "      <th>bic</th>\n",
       "      <th>kl_div</th>\n",
       "    </tr>\n",
       "  </thead>\n",
       "  <tbody>\n",
       "    <tr>\n",
       "      <th>beta</th>\n",
       "      <td>3.014674e-08</td>\n",
       "      <td>2.957984e+03</td>\n",
       "      <td>-9032.364604</td>\n",
       "      <td>inf</td>\n",
       "    </tr>\n",
       "    <tr>\n",
       "      <th>burr</th>\n",
       "      <td>3.258336e-08</td>\n",
       "      <td>2.646140e+03</td>\n",
       "      <td>-9002.129575</td>\n",
       "      <td>inf</td>\n",
       "    </tr>\n",
       "    <tr>\n",
       "      <th>norm</th>\n",
       "      <td>4.808826e-08</td>\n",
       "      <td>4.379231e+03</td>\n",
       "      <td>-8862.643804</td>\n",
       "      <td>inf</td>\n",
       "    </tr>\n",
       "    <tr>\n",
       "      <th>lognorm</th>\n",
       "      <td>1.910262e-07</td>\n",
       "      <td>2.904958e+03</td>\n",
       "      <td>-8320.104224</td>\n",
       "      <td>inf</td>\n",
       "    </tr>\n",
       "    <tr>\n",
       "      <th>gamma</th>\n",
       "      <td>1.912725e-07</td>\n",
       "      <td>1.533202e+06</td>\n",
       "      <td>-8319.603127</td>\n",
       "      <td>4.354141</td>\n",
       "    </tr>\n",
       "  </tbody>\n",
       "</table>\n",
       "</div>"
      ],
      "text/plain": [
       "         sumsquare_error           aic          bic    kl_div\n",
       "beta        3.014674e-08  2.957984e+03 -9032.364604       inf\n",
       "burr        3.258336e-08  2.646140e+03 -9002.129575       inf\n",
       "norm        4.808826e-08  4.379231e+03 -8862.643804       inf\n",
       "lognorm     1.910262e-07  2.904958e+03 -8320.104224       inf\n",
       "gamma       1.912725e-07  1.533202e+06 -8319.603127  4.354141"
      ]
     },
     "execution_count": 36,
     "metadata": {},
     "output_type": "execute_result"
    },
    {
     "data": {
      "image/png": "[encoded data removed]",
      "text/plain": [
       "<Figure size 432x288 with 1 Axes>"
      ]
     },
     "metadata": {
      "needs_background": "light"
     },
     "output_type": "display_data"
    }
   ],
   "source": [
    "#from Fitter import fitter\n",
    "f = Fitter(salario,\n",
    "           distributions=['gamma',\n",
    "                          'lognorm',\n",
    "                          \"beta\",\n",
    "                          \"burr\",\n",
    "                          \"norm\"])\n",
    "f.fit()\n",
    "f.summary()"
   ]
  },
  {
   "cell_type": "code",
   "execution_count": 66,
   "metadata": {},
   "outputs": [
    {
     "data": {
      "text/plain": [
       "{'beta': (3.0970695201871736,\n",
       "  108021734137.9241,\n",
       "  309.90879658484994,\n",
       "  264525778749264.88)}"
      ]
     },
     "execution_count": 66,
     "metadata": {},
     "output_type": "execute_result"
    }
   ],
   "source": [
    "f.get_best(method = 'sumsquare_error')"
   ]
  },
  {
   "cell_type": "code",
   "execution_count": 67,
   "metadata": {},
   "outputs": [
    {
     "data": {
      "text/plain": [
       "(3.854517242496353, 0.6229135099789088, -35.46867539819641, 8596.093626653574)"
      ]
     },
     "execution_count": 67,
     "metadata": {},
     "output_type": "execute_result"
    }
   ],
   "source": [
    "f.fitted_param[\"burr\"]\n"
   ]
  },
  {
   "cell_type": "code",
   "execution_count": 68,
   "metadata": {},
   "outputs": [
    {
     "data": {
      "text/plain": [
       "['cauchy',\n",
       " 'chi2',\n",
       " 'expon',\n",
       " 'exponpow',\n",
       " 'gamma',\n",
       " 'lognorm',\n",
       " 'norm',\n",
       " 'powerlaw',\n",
       " 'rayleigh',\n",
       " 'uniform']"
      ]
     },
     "execution_count": 68,
     "metadata": {},
     "output_type": "execute_result"
    }
   ],
   "source": [
    "get_common_distributions()"
   ]
  },
  {
   "cell_type": "code",
   "execution_count": 69,
   "metadata": {},
   "outputs": [
    {
     "data": {
      "text/html": [
       "<div>\n",
       "<style scoped>\n",
       "    .dataframe tbody tr th:only-of-type {\n",
       "        vertical-align: middle;\n",
       "    }\n",
       "\n",
       "    .dataframe tbody tr th {\n",
       "        vertical-align: top;\n",
       "    }\n",
       "\n",
       "    .dataframe thead th {\n",
       "        text-align: right;\n",
       "    }\n",
       "</style>\n",
       "<table border=\"1\" class=\"dataframe\">\n",
       "  <thead>\n",
       "    <tr style=\"text-align: right;\">\n",
       "      <th></th>\n",
       "      <th>sumsquare_error</th>\n",
       "      <th>aic</th>\n",
       "      <th>bic</th>\n",
       "      <th>kl_div</th>\n",
       "    </tr>\n",
       "  </thead>\n",
       "  <tbody>\n",
       "    <tr>\n",
       "      <th>chi2</th>\n",
       "      <td>3.160704e-08</td>\n",
       "      <td>3142.424456</td>\n",
       "      <td>-9019.927249</td>\n",
       "      <td>inf</td>\n",
       "    </tr>\n",
       "    <tr>\n",
       "      <th>rayleigh</th>\n",
       "      <td>3.697904e-08</td>\n",
       "      <td>3723.876818</td>\n",
       "      <td>-8964.829000</td>\n",
       "      <td>inf</td>\n",
       "    </tr>\n",
       "    <tr>\n",
       "      <th>norm</th>\n",
       "      <td>4.808826e-08</td>\n",
       "      <td>4379.231153</td>\n",
       "      <td>-8862.643804</td>\n",
       "      <td>inf</td>\n",
       "    </tr>\n",
       "    <tr>\n",
       "      <th>cauchy</th>\n",
       "      <td>5.083753e-08</td>\n",
       "      <td>2525.244953</td>\n",
       "      <td>-8841.016660</td>\n",
       "      <td>inf</td>\n",
       "    </tr>\n",
       "    <tr>\n",
       "      <th>expon</th>\n",
       "      <td>8.497814e-08</td>\n",
       "      <td>2500.243506</td>\n",
       "      <td>-8641.164348</td>\n",
       "      <td>inf</td>\n",
       "    </tr>\n",
       "  </tbody>\n",
       "</table>\n",
       "</div>"
      ],
      "text/plain": [
       "          sumsquare_error          aic          bic  kl_div\n",
       "chi2         3.160704e-08  3142.424456 -9019.927249     inf\n",
       "rayleigh     3.697904e-08  3723.876818 -8964.829000     inf\n",
       "norm         4.808826e-08  4379.231153 -8862.643804     inf\n",
       "cauchy       5.083753e-08  2525.244953 -8841.016660     inf\n",
       "expon        8.497814e-08  2500.243506 -8641.164348     inf"
      ]
     },
     "execution_count": 69,
     "metadata": {},
     "output_type": "execute_result"
    },
    {
     "data": {
      "image/png": "[encoded data removed]",
      "text/plain": [
       "<Figure size 432x288 with 1 Axes>"
      ]
     },
     "metadata": {
      "needs_background": "light"
     },
     "output_type": "display_data"
    }
   ],
   "source": [
    "f = Fitter(salario, distributions= get_common_distributions())\n",
    "f.fit()\n",
    "f.summary()"
   ]
  },
  {
   "cell_type": "code",
   "execution_count": 70,
   "metadata": {},
   "outputs": [
    {
     "data": {
      "text/plain": [
       "{'chi2': (9.610031179126544, -1107.511104946272, 928.4489478780638)}"
      ]
     },
     "execution_count": 70,
     "metadata": {},
     "output_type": "execute_result"
    }
   ],
   "source": [
    "f.get_best(method = 'sumsquare_error')\n"
   ]
  },
  {
   "cell_type": "code",
   "execution_count": 37,
   "metadata": {},
   "outputs": [
    {
     "name": "stdout",
     "output_type": "stream",
     "text": [
      "Statistics=0.829, p=0.000\n",
      "Sample does not look Gaussian (reject H0)\n"
     ]
    }
   ],
   "source": [
    "# Shapiro-Wilk Test\n",
    "\n",
    "#nenhum dos dados é parecido com gaussiana\n",
    "from numpy.random import seed\n",
    "from numpy.random import randn\n",
    "from scipy.stats import shapiro\n",
    "# seed the random number generator\n",
    "seed(1)\n",
    "# generate univariate observations\n",
    "data = 5 * randn(100) + 50\n",
    "# normality test\n",
    "stat, p = shapiro(df['Salario'])\n",
    "print('Statistics=%.3f, p=%.3f' % (stat, p))\n",
    "# interpret\n",
    "alpha = 0.05\n",
    "if p > alpha:\n",
    "    print('Sample looks Gaussian (fail to reject H0)')\n",
    "else:\n",
    "    print('Sample does not look Gaussian (reject H0)')\n",
    "    \n",
    " # Shapiro-Wilk Test"
   ]
  },
  {
   "cell_type": "code",
   "execution_count": 38,
   "metadata": {},
   "outputs": [
    {
     "data": {
      "text/plain": [
       "0      0.146546\n",
       "1     -0.219079\n",
       "2     -0.409822\n",
       "3      0.828933\n",
       "4     -0.883678\n",
       "         ...   \n",
       "384    0.352505\n",
       "385    0.227558\n",
       "386    9.309259\n",
       "387    0.459664\n",
       "388   -1.452262\n",
       "Name: Salario, Length: 389, dtype: float64"
      ]
     },
     "execution_count": 38,
     "metadata": {},
     "output_type": "execute_result"
    }
   ],
   "source": [
    "stats.zscore(df['Salario'])"
   ]
  },
  {
   "cell_type": "code",
   "execution_count": 39,
   "metadata": {},
   "outputs": [
    {
     "data": {
      "text/plain": [
       "array([[<matplotlib.axes._subplots.AxesSubplot object at 0x0000023AD95DB448>]],\n",
       "      dtype=object)"
      ]
     },
     "execution_count": 39,
     "metadata": {},
     "output_type": "execute_result"
    },
    {
     "data": {
      "image/png": "[encoded data removed]",
      "text/plain": [
       "<Figure size 432x288 with 1 Axes>"
      ]
     },
     "metadata": {
      "needs_background": "light"
     },
     "output_type": "display_data"
    }
   ],
   "source": [
    "df.hist('Salario')"
   ]
  },
  {
   "cell_type": "code",
   "execution_count": 40,
   "metadata": {
    "scrolled": true
   },
   "outputs": [
    {
     "data": {
      "text/plain": [
       "<matplotlib.axes._subplots.AxesSubplot at 0x23adc6a2cc8>"
      ]
     },
     "execution_count": 40,
     "metadata": {},
     "output_type": "execute_result"
    },
    {
     "data": {
      "image/png": "[encoded data removed]",
      "text/plain": [
       "<Figure size 432x288 with 1 Axes>"
      ]
     },
     "metadata": {
      "needs_background": "light"
     },
     "output_type": "display_data"
    }
   ],
   "source": [
    "sns.distplot(df['Salario'])"
   ]
  },
  {
   "cell_type": "code",
   "execution_count": 41,
   "metadata": {
    "scrolled": true
   },
   "outputs": [
    {
     "data": {
      "image/png": "[encoded data removed]",
      "text/plain": [
       "<Figure size 432x288 with 1 Axes>"
      ]
     },
     "metadata": {
      "needs_background": "light"
     },
     "output_type": "display_data"
    }
   ],
   "source": [
    "boxplot = df.boxplot(column=['Salario']) # tem q usar a remoção outlier, mas antes tem q ajeitar os valores ( /12)"
   ]
  },
  {
   "cell_type": "markdown",
   "metadata": {},
   "source": [
    "# Divisão Em classes"
   ]
  },
  {
   "cell_type": "code",
   "execution_count": 42,
   "metadata": {},
   "outputs": [],
   "source": [
    "dfj = df[df['Classe'] == 'Junior']\n",
    "dfp = df[df['Classe'] == 'Pleno']\n",
    "dfs = df[df['Classe'] == 'Senior']\n"
   ]
  },
  {
   "cell_type": "code",
   "execution_count": 43,
   "metadata": {},
   "outputs": [
    {
     "data": {
      "text/plain": [
       "<matplotlib.axes._subplots.AxesSubplot at 0x23add40acc8>"
      ]
     },
     "execution_count": 43,
     "metadata": {},
     "output_type": "execute_result"
    },
    {
     "data": {
      "image/png": "[encoded data removed]",
      "text/plain": [
       "<Figure size 432x288 with 1 Axes>"
      ]
     },
     "metadata": {
      "needs_background": "light"
     },
     "output_type": "display_data"
    }
   ],
   "source": [
    "dfj['Salario'].hist()"
   ]
  },
  {
   "cell_type": "code",
   "execution_count": 44,
   "metadata": {},
   "outputs": [
    {
     "data": {
      "text/plain": [
       "<matplotlib.axes._subplots.AxesSubplot at 0x23add4a8c88>"
      ]
     },
     "execution_count": 44,
     "metadata": {},
     "output_type": "execute_result"
    },
    {
     "data": {
      "image/png": "[encoded data removed]",
      "text/plain": [
       "<Figure size 432x288 with 1 Axes>"
      ]
     },
     "metadata": {
      "needs_background": "light"
     },
     "output_type": "display_data"
    }
   ],
   "source": [
    "dfp['Salario'].hist()"
   ]
  },
  {
   "cell_type": "code",
   "execution_count": 45,
   "metadata": {},
   "outputs": [
    {
     "data": {
      "text/plain": [
       "<matplotlib.axes._subplots.AxesSubplot at 0x23acd824c48>"
      ]
     },
     "execution_count": 45,
     "metadata": {},
     "output_type": "execute_result"
    },
    {
     "data": {
      "image/png": "[encoded data removed]",
      "text/plain": [
       "<Figure size 432x288 with 1 Axes>"
      ]
     },
     "metadata": {
      "needs_background": "light"
     },
     "output_type": "display_data"
    }
   ],
   "source": [
    "dfs['Salario'].hist()"
   ]
  },
  {
   "cell_type": "code",
   "execution_count": 46,
   "metadata": {},
   "outputs": [
    {
     "data": {
      "text/plain": [
       "<matplotlib.axes._subplots.AxesSubplot at 0x23add51e848>"
      ]
     },
     "execution_count": 46,
     "metadata": {},
     "output_type": "execute_result"
    },
    {
     "data": {
      "image/png": "[encoded data removed]",
      "text/plain": [
       "<Figure size 432x288 with 1 Axes>"
      ]
     },
     "metadata": {
      "needs_background": "light"
     },
     "output_type": "display_data"
    }
   ],
   "source": [
    "#junior\n",
    "sns.distplot(dfj['Salario'])\n"
   ]
  },
  {
   "cell_type": "code",
   "execution_count": 47,
   "metadata": {},
   "outputs": [
    {
     "data": {
      "image/png": "[encoded data removed]",
      "text/plain": [
       "<Figure size 432x288 with 1 Axes>"
      ]
     },
     "metadata": {
      "needs_background": "light"
     },
     "output_type": "display_data"
    }
   ],
   "source": [
    "boxplot = dfj.boxplot(column=['Salario']) "
   ]
  },
  {
   "cell_type": "code",
   "execution_count": 48,
   "metadata": {},
   "outputs": [
    {
     "data": {
      "text/plain": [
       "<matplotlib.axes._subplots.AxesSubplot at 0x23add701a88>"
      ]
     },
     "execution_count": 48,
     "metadata": {},
     "output_type": "execute_result"
    },
    {
     "data": {
      "image/png": "[encoded data removed]",
      "text/plain": [
       "<Figure size 432x288 with 1 Axes>"
      ]
     },
     "metadata": {
      "needs_background": "light"
     },
     "output_type": "display_data"
    }
   ],
   "source": [
    "#Pleno\n",
    "sns.distplot(dfp['Salario'])"
   ]
  },
  {
   "cell_type": "code",
   "execution_count": 49,
   "metadata": {},
   "outputs": [
    {
     "data": {
      "image/png": "[encoded data removed]",
      "text/plain": [
       "<Figure size 432x288 with 1 Axes>"
      ]
     },
     "metadata": {
      "needs_background": "light"
     },
     "output_type": "display_data"
    }
   ],
   "source": [
    "boxplot = dfp.boxplot(column=['Salario'])"
   ]
  },
  {
   "cell_type": "code",
   "execution_count": 50,
   "metadata": {},
   "outputs": [
    {
     "data": {
      "text/plain": [
       "<matplotlib.axes._subplots.AxesSubplot at 0x23add803508>"
      ]
     },
     "execution_count": 50,
     "metadata": {},
     "output_type": "execute_result"
    },
    {
     "data": {
      "image/png": "[encoded data removed]",
      "text/plain": [
       "<Figure size 432x288 with 1 Axes>"
      ]
     },
     "metadata": {
      "needs_background": "light"
     },
     "output_type": "display_data"
    }
   ],
   "source": [
    "#Senior\n",
    "sns.distplot(dfs['Salario'])"
   ]
  },
  {
   "cell_type": "code",
   "execution_count": 51,
   "metadata": {
    "scrolled": true
   },
   "outputs": [
    {
     "data": {
      "image/png": "[encoded data removed]",
      "text/plain": [
       "<Figure size 432x288 with 1 Axes>"
      ]
     },
     "metadata": {
      "needs_background": "light"
     },
     "output_type": "display_data"
    }
   ],
   "source": [
    "boxplot = dfs.boxplot(column=['Salario'])"
   ]
  },
  {
   "cell_type": "markdown",
   "metadata": {},
   "source": [
    "# Técnicas de Visualização de Dados\n"
   ]
  },
  {
   "cell_type": "code",
   "execution_count": 52,
   "metadata": {},
   "outputs": [
    {
     "data": {
      "text/plain": [
       "<matplotlib.axes._subplots.AxesSubplot at 0x23ade8fb648>"
      ]
     },
     "execution_count": 52,
     "metadata": {},
     "output_type": "execute_result"
    },
    {
     "data": {
      "image/png": "[encoded data removed]",
      "text/plain": [
       "<Figure size 432x288 with 2 Axes>"
      ]
     },
     "metadata": {
      "needs_background": "light"
     },
     "output_type": "display_data"
    }
   ],
   "source": [
    "correlation = df.corr()\n",
    "plot = sns.heatmap(correlation, annot = True, fmt=\".1f\", linewidths=.6)\n",
    "plot"
   ]
  },
  {
   "cell_type": "code",
   "execution_count": 53,
   "metadata": {},
   "outputs": [
    {
     "data": {
      "image/png": "[encoded data removed]",
      "text/plain": [
       "<Figure size 640x480 with 1 Axes>"
      ]
     },
     "metadata": {},
     "output_type": "display_data"
    },
    {
     "data": {
      "text/plain": [
       "<ggplot: (-9223371883613139596)>"
      ]
     },
     "execution_count": 53,
     "metadata": {},
     "output_type": "execute_result"
    }
   ],
   "source": [
    "from plotnine.data import economics\n",
    "from plotnine import *\n",
    "(ggplot(df,aes('Tamanho','Salario'))#tamanho, setor,empresa,\n",
    " + geom_point()\n",
    " + theme_light()\n",
    ")"
   ]
  },
  {
   "cell_type": "code",
   "execution_count": null,
   "metadata": {},
   "outputs": [],
   "source": []
  },
  {
   "cell_type": "code",
   "execution_count": 54,
   "metadata": {},
   "outputs": [
    {
     "name": "stderr",
     "output_type": "stream",
     "text": [
      "C:\\Users\\Azzy\\AppData\\Local\\Continuum\\anaconda3\\lib\\site-packages\\plotnine\\layer.py:401: PlotnineWarning:\n",
      "\n",
      "geom_point : Removed 108 rows containing missing values.\n",
      "\n"
     ]
    },
    {
     "data": {
      "image/png": "[encoded data removed]",
      "text/plain": [
       "<Figure size 640x480 with 1 Axes>"
      ]
     },
     "metadata": {},
     "output_type": "display_data"
    },
    {
     "data": {
      "text/plain": [
       "<ggplot: (-9223371883613096380)>"
      ]
     },
     "execution_count": 54,
     "metadata": {},
     "output_type": "execute_result"
    }
   ],
   "source": [
    "from plotnine import *\n",
    "\n",
    "(ggplot(df,aes('Fundação','Salario'))\n",
    " + geom_point()\n",
    " + theme_light()\n",
    ")"
   ]
  },
  {
   "cell_type": "code",
   "execution_count": 55,
   "metadata": {},
   "outputs": [
    {
     "data": {
      "text/plain": [
       "<matplotlib.axes._subplots.AxesSubplot at 0x23adea52dc8>"
      ]
     },
     "execution_count": 55,
     "metadata": {},
     "output_type": "execute_result"
    },
    {
     "data": {
      "image/png": "[encoded data removed]",
      "text/plain": [
       "<Figure size 432x288 with 1 Axes>"
      ]
     },
     "metadata": {
      "needs_background": "light"
     },
     "output_type": "display_data"
    }
   ],
   "source": [
    "sns.stripplot(x='Classe', y='Salario', data=df)"
   ]
  },
  {
   "cell_type": "code",
   "execution_count": null,
   "metadata": {},
   "outputs": [],
   "source": []
  },
  {
   "cell_type": "code",
   "execution_count": 56,
   "metadata": {},
   "outputs": [],
   "source": [
    "df['Classe'] = [w.replace('Senior', '3') for w in df['Classe']]\n",
    "df['Classe'] = [w.replace('Pleno', '2') for w in df['Classe']]\n",
    "df['Classe'] = [w.replace('Junior', '1') for w in df['Classe']]\n",
    "df['Classe'] = df['Classe'].astype(int)"
   ]
  },
  {
   "cell_type": "code",
   "execution_count": 57,
   "metadata": {
    "scrolled": false
   },
   "outputs": [
    {
     "data": {
      "application/vnd.plotly.v1+json": {
       "config": {
        "plotlyServerURL": "https://plot.ly"
       },
       "data": [
        {
         "dimensions": [
          {
           "label": "Salario",
           "values": [
            8580,
            6874,
            5984,
            11764,
            3773,
            15000,
            3966,
            8176,
            8921,
            3999,
            5966,
            7205,
            12127,
            7106,
            6261,
            8324,
            11984,
            10987,
            13148,
            17533,
            8743,
            5930,
            4946,
            11676,
            24976,
            13000,
            13000,
            10119,
            4668,
            4450,
            10086,
            8186,
            8300,
            6600,
            8000,
            15159,
            11500,
            9500,
            13500,
            11500,
            9000,
            5000,
            6500,
            9000,
            5500,
            3500,
            3000,
            3500,
            5500,
            6500,
            4000,
            1500,
            6000,
            3500,
            4500,
            2500,
            5000,
            8000,
            3500,
            7000,
            4000,
            5000,
            5500,
            6000,
            7000,
            5500,
            4332,
            8000,
            10500,
            10500,
            6000,
            7500,
            4500,
            8500,
            6500,
            9500,
            7500,
            6500,
            12500,
            10000,
            8500,
            13500,
            8500,
            6500,
            9000,
            11500,
            9000,
            13500,
            12500,
            7000,
            4000,
            6500,
            6500,
            11500,
            19500,
            16500,
            12500,
            9500,
            7500,
            14000,
            13500,
            7000,
            7500,
            12500,
            13500,
            12500,
            15500,
            10000,
            7500,
            18500,
            9500,
            17000,
            13500,
            25000,
            13500,
            13500,
            13500,
            9500,
            14000,
            13500,
            19500,
            10500,
            13500,
            13500,
            20000,
            7500,
            11000,
            9500,
            13000,
            6000,
            10000,
            21500,
            3000,
            3000,
            5000,
            6500,
            3000,
            7000,
            3000,
            3500,
            11500,
            4500,
            3000,
            9500,
            6500,
            5000,
            5000,
            2500,
            3000,
            5000,
            2500,
            5500,
            978,
            3000,
            6000,
            4500,
            4000,
            4000,
            5500,
            3500,
            7500,
            5000,
            5000,
            5000,
            3000,
            5000,
            9000,
            3000,
            7000,
            8000,
            4500,
            3500,
            3000,
            12500,
            5500,
            3000,
            6500,
            4500,
            6500,
            7500,
            4000,
            2000,
            4000,
            2000,
            5000,
            5000,
            4000,
            6500,
            7500,
            3000,
            2500,
            4500,
            6000,
            2000,
            4000,
            4000,
            5000,
            5500,
            4000,
            8500,
            7000,
            5000,
            3000,
            3500,
            4500,
            5500,
            6000,
            3500,
            3500,
            6000,
            4500,
            4500,
            5000,
            4500,
            2000,
            4000,
            5500,
            3000,
            4000,
            6000,
            3500,
            10500,
            2000,
            5000,
            1000,
            3000,
            3000,
            983,
            5000,
            7500,
            3000,
            4000,
            3000,
            3000,
            4000,
            1000,
            4000,
            5000,
            1500,
            4000,
            4000,
            9500,
            6500,
            14500,
            5000,
            6500,
            6500,
            9500,
            3500,
            10000,
            10000,
            5000,
            10500,
            8500,
            7000,
            5000,
            5500,
            8000,
            4500,
            8000,
            7500,
            4500,
            8500,
            6000,
            7500,
            7500,
            6500,
            7500,
            13500,
            7500,
            6500,
            6500,
            6500,
            9000,
            8000,
            7500,
            6000,
            6500,
            5500,
            3500,
            7000,
            4500,
            9000,
            6500,
            8000,
            6000,
            8000,
            6500,
            13500,
            8500,
            8000,
            10500,
            6500,
            9500,
            22000,
            7500,
            7500,
            6500,
            8500,
            8500,
            7500,
            5500,
            6500,
            7500,
            7000,
            4000,
            9000,
            7500,
            5500,
            10500,
            13500,
            7000,
            5000,
            5000,
            3500,
            2500,
            5500,
            11500,
            11500,
            8500,
            14000,
            7000,
            10500,
            7000,
            12500,
            9000,
            9000,
            10500,
            12500,
            12500,
            9500,
            6000,
            10500,
            9500,
            10500,
            16000,
            11500,
            12500,
            9500,
            10500,
            10000,
            12500,
            12500,
            14500,
            13500,
            10500,
            13500,
            6500,
            12500,
            10000,
            2000,
            5500,
            8500,
            12500,
            8500,
            9000,
            8500,
            14500,
            12500,
            11500,
            9000,
            10000,
            8500,
            12500,
            10500,
            10375,
            16083,
            25708,
            7166,
            16791,
            9833,
            5916,
            4458,
            6833,
            3041,
            3458,
            6250,
            3000,
            4416,
            4166,
            9000,
            8166,
            10000,
            10166,
            9541,
            8958,
            51333,
            10041,
            1120
           ]
          },
          {
           "label": "Classe",
           "values": [
            2,
            1,
            1,
            3,
            1,
            3,
            1,
            2,
            3,
            1,
            2,
            1,
            3,
            1,
            2,
            3,
            3,
            3,
            3,
            3,
            1,
            2,
            2,
            3,
            3,
            3,
            3,
            3,
            1,
            1,
            2,
            2,
            2,
            3,
            3,
            3,
            3,
            3,
            3,
            3,
            3,
            1,
            1,
            2,
            1,
            1,
            1,
            1,
            1,
            1,
            1,
            1,
            1,
            1,
            1,
            1,
            1,
            1,
            1,
            1,
            1,
            1,
            2,
            2,
            2,
            2,
            2,
            2,
            2,
            2,
            2,
            2,
            2,
            2,
            2,
            2,
            2,
            2,
            3,
            3,
            3,
            3,
            3,
            3,
            3,
            3,
            3,
            3,
            3,
            1,
            1,
            1,
            1,
            1,
            3,
            3,
            3,
            3,
            3,
            3,
            3,
            3,
            3,
            3,
            3,
            3,
            3,
            3,
            3,
            3,
            3,
            3,
            3,
            3,
            3,
            3,
            3,
            3,
            3,
            3,
            3,
            3,
            3,
            3,
            3,
            3,
            3,
            3,
            3,
            3,
            3,
            3,
            1,
            1,
            1,
            1,
            1,
            1,
            1,
            1,
            1,
            1,
            1,
            2,
            1,
            1,
            1,
            1,
            1,
            1,
            1,
            1,
            1,
            1,
            1,
            1,
            1,
            1,
            1,
            1,
            1,
            1,
            1,
            1,
            1,
            1,
            1,
            1,
            1,
            1,
            1,
            1,
            1,
            1,
            1,
            1,
            1,
            1,
            1,
            1,
            1,
            1,
            1,
            1,
            1,
            1,
            1,
            1,
            1,
            1,
            1,
            1,
            1,
            1,
            1,
            1,
            1,
            1,
            1,
            1,
            1,
            1,
            1,
            1,
            1,
            1,
            1,
            1,
            1,
            1,
            1,
            1,
            1,
            1,
            1,
            1,
            1,
            1,
            1,
            1,
            1,
            1,
            1,
            1,
            1,
            1,
            1,
            1,
            1,
            1,
            1,
            1,
            1,
            1,
            1,
            1,
            1,
            1,
            1,
            1,
            1,
            2,
            2,
            2,
            2,
            2,
            2,
            2,
            2,
            2,
            2,
            2,
            2,
            2,
            2,
            2,
            2,
            2,
            2,
            2,
            2,
            2,
            2,
            2,
            2,
            2,
            2,
            2,
            2,
            2,
            2,
            2,
            2,
            2,
            2,
            2,
            2,
            2,
            2,
            2,
            2,
            2,
            2,
            2,
            2,
            2,
            2,
            2,
            2,
            2,
            2,
            2,
            2,
            2,
            2,
            2,
            2,
            2,
            2,
            2,
            2,
            2,
            2,
            2,
            2,
            2,
            2,
            2,
            2,
            2,
            2,
            2,
            2,
            1,
            1,
            1,
            1,
            3,
            3,
            3,
            3,
            3,
            3,
            3,
            3,
            3,
            3,
            3,
            3,
            3,
            3,
            3,
            3,
            3,
            3,
            3,
            3,
            3,
            3,
            3,
            3,
            3,
            3,
            3,
            3,
            3,
            3,
            3,
            3,
            3,
            3,
            3,
            3,
            3,
            3,
            3,
            3,
            3,
            3,
            3,
            3,
            3,
            3,
            3,
            3,
            3,
            3,
            3,
            3,
            3,
            3,
            3,
            1,
            1,
            1,
            1,
            1,
            1,
            1,
            1,
            1,
            2,
            2,
            2,
            3,
            3,
            3,
            3,
            1
           ]
          },
          {
           "label": "Tamanho",
           "values": [
            25,
            125,
            25,
            10000,
            350,
            10000,
            2500,
            25,
            25,
            350,
            125,
            125,
            125,
            2500,
            750,
            25,
            10000,
            10000,
            10000,
            10000,
            350,
            350,
            125,
            2500,
            125,
            10000,
            10000,
            10000,
            10000,
            10000,
            750,
            350,
            10000,
            10000,
            2500,
            10000,
            10000,
            350,
            7500,
            25,
            125,
            125,
            125,
            10000,
            350,
            125,
            350,
            25,
            125,
            125,
            2500,
            25,
            2500,
            750,
            125,
            10000,
            25,
            10000,
            10000,
            350,
            125,
            25,
            125,
            10000,
            350,
            10000,
            10000,
            10000,
            10000,
            10000,
            125,
            350,
            10000,
            2500,
            2500,
            350,
            125,
            25,
            10000,
            125,
            10000,
            10000,
            125,
            25,
            350,
            10000,
            350,
            10000,
            125,
            125,
            2500,
            10000,
            2500,
            125,
            350,
            125,
            25,
            350,
            25,
            2500,
            125,
            25,
            350,
            350,
            350,
            7500,
            10000,
            10000,
            10000,
            2500,
            350,
            350,
            10000,
            10000,
            25,
            350,
            10000,
            2500,
            125,
            2500,
            125,
            7500,
            750,
            125,
            25,
            125,
            25,
            10000,
            10000,
            750,
            10000,
            2500,
            2500,
            125,
            125,
            10000,
            125,
            125,
            350,
            10000,
            2500,
            350,
            2500,
            125,
            10000,
            125,
            350,
            2500,
            10000,
            2500,
            10000,
            2500,
            10000,
            10000,
            2500,
            10000,
            2500,
            10000,
            10000,
            350,
            350,
            2500,
            25,
            2500,
            2500,
            2500,
            750,
            750,
            2500,
            350,
            7500,
            2500,
            2500,
            350,
            10000,
            125,
            2500,
            750,
            125,
            125,
            10000,
            2500,
            25,
            10000,
            350,
            2500,
            125,
            10000,
            350,
            2500,
            10000,
            10000,
            2500,
            125,
            125,
            750,
            10000,
            350,
            10000,
            2500,
            125,
            350,
            25,
            350,
            2500,
            2500,
            7500,
            7500,
            125,
            10000,
            2500,
            10000,
            350,
            350,
            2500,
            2500,
            125,
            125,
            2500,
            125,
            10000,
            125,
            125,
            25,
            125,
            350,
            125,
            10000,
            2500,
            125,
            25,
            25,
            10000,
            25,
            25,
            25,
            750,
            125,
            10000,
            25,
            750,
            25,
            750,
            25,
            125,
            25,
            125,
            25,
            750,
            350,
            125,
            350,
            7500,
            2500,
            25,
            125,
            2500,
            125,
            2500,
            125,
            10000,
            7500,
            10000,
            10000,
            125,
            10000,
            10000,
            10000,
            10000,
            125,
            125,
            10000,
            10000,
            350,
            25,
            25,
            350,
            10000,
            350,
            25,
            750,
            2500,
            350,
            125,
            350,
            25,
            10000,
            750,
            25,
            125,
            25,
            2500,
            10000,
            10000,
            7500,
            2500,
            2500,
            2500,
            2500,
            750,
            125,
            125,
            125,
            10000,
            2500,
            750,
            750,
            10000,
            350,
            2500,
            125,
            750,
            25,
            10000,
            10000,
            10000,
            25,
            125,
            10000,
            10000,
            25,
            25,
            125,
            10000,
            10000,
            350,
            2500,
            2500,
            10000,
            10000,
            10000,
            2500,
            2500,
            10000,
            350,
            125,
            350,
            10000,
            10000,
            10000,
            125,
            7500,
            2500,
            10000,
            2500,
            10000,
            25,
            350,
            7500,
            2500,
            2500,
            10000,
            2500,
            125,
            125,
            10000,
            7500,
            10000,
            2500,
            10000,
            125,
            2500,
            7500,
            10000,
            10000,
            350,
            25,
            7500,
            125,
            2500,
            7500,
            2500,
            10000,
            125,
            7500,
            2500,
            2500,
            2500,
            10000,
            7500,
            25,
            2500,
            25,
            25,
            350,
            350,
            350,
            2500,
            125
           ]
          },
          {
           "label": "Fundação",
           "values": [
            null,
            2016,
            null,
            1958,
            2017,
            1923,
            1990,
            null,
            null,
            null,
            2015,
            null,
            2014,
            null,
            null,
            null,
            1989,
            1943,
            1903,
            1989,
            2010,
            null,
            2014,
            1990,
            2013,
            1903,
            1903,
            1903,
            1965,
            1999,
            2010,
            2001,
            1987,
            1903,
            1991,
            1965,
            null,
            2014,
            null,
            null,
            2012,
            2017,
            2016,
            1977,
            2002,
            2012,
            null,
            1957,
            null,
            2015,
            null,
            2013,
            2011,
            null,
            2016,
            1903,
            2013,
            1949,
            1989,
            null,
            2015,
            2013,
            2016,
            1949,
            null,
            2011,
            1987,
            1903,
            2011,
            1903,
            null,
            1989,
            1965,
            2000,
            1996,
            2017,
            2010,
            2000,
            null,
            2002,
            1987,
            null,
            2012,
            2007,
            null,
            1957,
            2008,
            1999,
            2000,
            2012,
            null,
            1856,
            2000,
            null,
            2001,
            2006,
            null,
            2014,
            null,
            2000,
            2006,
            null,
            2000,
            null,
            null,
            1863,
            1903,
            1905,
            1890,
            2012,
            null,
            2019,
            1987,
            1973,
            null,
            null,
            1903,
            2012,
            2016,
            1999,
            2014,
            2015,
            null,
            2012,
            null,
            2002,
            null,
            1911,
            1980,
            2010,
            1929,
            1999,
            2016,
            2012,
            2002,
            1980,
            2016,
            2016,
            null,
            null,
            1995,
            1996,
            2012,
            2016,
            1911,
            2004,
            2001,
            1988,
            1911,
            2013,
            1903,
            1995,
            1856,
            1989,
            1988,
            1903,
            2013,
            2010,
            1958,
            2014,
            2015,
            1996,
            2013,
            null,
            2013,
            2012,
            1999,
            2012,
            2013,
            2014,
            null,
            2013,
            2012,
            2001,
            1865,
            null,
            null,
            2010,
            null,
            null,
            null,
            2010,
            2014,
            1965,
            2001,
            null,
            null,
            1999,
            2017,
            1990,
            1977,
            1901,
            null,
            2009,
            2006,
            2010,
            1999,
            2017,
            1901,
            null,
            2006,
            2016,
            null,
            null,
            2001,
            2002,
            null,
            1967,
            2015,
            1923,
            2002,
            1998,
            2016,
            null,
            2002,
            2002,
            2006,
            2013,
            1987,
            null,
            1858,
            2015,
            2007,
            2016,
            null,
            null,
            null,
            1665,
            1987,
            2015,
            2016,
            null,
            1905,
            null,
            null,
            null,
            2018,
            2004,
            1989,
            2013,
            null,
            null,
            2018,
            2013,
            null,
            null,
            2014,
            2013,
            1999,
            2012,
            null,
            2018,
            1960,
            2000,
            null,
            null,
            1990,
            null,
            null,
            null,
            1987,
            null,
            1943,
            1903,
            2007,
            1973,
            null,
            2000,
            2010,
            2017,
            null,
            1987,
            1903,
            null,
            null,
            null,
            1996,
            1923,
            null,
            null,
            1979,
            1978,
            null,
            2016,
            null,
            null,
            1923,
            1979,
            null,
            null,
            null,
            2012,
            null,
            1993,
            2012,
            null,
            2014,
            2000,
            1995,
            2010,
            2015,
            2008,
            null,
            null,
            2014,
            2010,
            2010,
            1949,
            null,
            1999,
            null,
            null,
            2013,
            null,
            null,
            1872,
            2007,
            null,
            null,
            1872,
            null,
            2008,
            2011,
            1958,
            1981,
            null,
            2011,
            2008,
            1943,
            1929,
            1987,
            1990,
            2011,
            1924,
            1995,
            2011,
            null,
            1943,
            1987,
            1924,
            2014,
            null,
            1989,
            1855,
            1996,
            1850,
            null,
            2004,
            1863,
            2013,
            2014,
            1967,
            null,
            2000,
            2014,
            1850,
            1863,
            1967,
            2012,
            1989,
            2007,
            null,
            null,
            1971,
            1980,
            2002,
            2011,
            1976,
            2016,
            2016,
            1984,
            1895,
            1911,
            2004,
            null,
            null,
            2010,
            1987,
            1973,
            1967,
            null,
            1990,
            null,
            2007,
            2001,
            2014,
            2009,
            2012,
            2015
           ]
          },
          {
           "label": "Valor_moeda",
           "values": [
            1,
            1,
            1,
            1,
            1,
            1,
            1,
            1,
            1,
            1,
            1,
            1,
            1,
            1,
            1,
            1,
            1,
            1,
            1,
            1,
            1,
            1,
            1,
            1,
            1,
            1,
            1,
            1,
            1,
            1,
            1,
            1,
            1,
            1,
            1,
            1,
            1,
            1,
            1,
            1,
            1,
            1,
            1,
            1,
            1,
            1,
            1,
            1,
            1,
            1,
            1,
            1,
            1,
            1,
            1,
            1,
            1,
            1,
            1,
            1,
            1,
            1,
            1,
            1,
            1,
            1,
            1,
            1,
            1,
            1,
            1,
            1,
            1,
            1,
            1,
            1,
            1,
            1,
            1,
            1,
            1,
            1,
            1,
            1,
            1,
            1,
            1,
            1,
            1,
            1,
            1,
            1,
            1,
            1,
            1,
            1,
            1,
            1,
            1,
            1,
            1,
            1,
            1,
            1,
            1,
            1,
            1,
            1,
            1,
            1,
            1,
            1,
            1,
            1,
            1,
            1,
            1,
            1,
            1,
            1,
            1,
            1,
            1,
            1,
            1,
            1,
            1,
            1,
            1,
            1,
            1,
            1,
            1,
            1,
            1,
            1,
            1,
            1,
            1,
            1,
            1,
            1,
            1,
            1,
            1,
            1,
            1,
            1,
            1,
            1,
            1,
            1,
            1,
            1,
            1,
            1,
            1,
            1,
            1,
            1,
            1,
            1,
            1,
            1,
            1,
            1,
            1,
            1,
            1,
            1,
            1,
            1,
            1,
            1,
            1,
            1,
            1,
            1,
            1,
            1,
            1,
            1,
            1,
            1,
            1,
            1,
            1,
            1,
            1,
            1,
            1,
            1,
            1,
            1,
            1,
            1,
            1,
            1,
            1,
            1,
            1,
            1,
            1,
            1,
            1,
            1,
            1,
            1,
            1,
            1,
            1,
            1,
            1,
            1,
            1,
            1,
            1,
            1,
            1,
            1,
            1,
            1,
            1,
            1,
            1,
            1,
            1,
            1,
            1,
            1,
            1,
            1,
            1,
            1,
            1,
            1,
            1,
            1,
            1,
            1,
            1,
            1,
            1,
            1,
            1,
            1,
            1,
            1,
            1,
            1,
            1,
            1,
            1,
            1,
            1,
            1,
            1,
            1,
            1,
            1,
            1,
            1,
            1,
            1,
            1,
            1,
            1,
            1,
            1,
            1,
            1,
            1,
            1,
            1,
            1,
            1,
            1,
            1,
            1,
            1,
            1,
            1,
            1,
            1,
            1,
            1,
            1,
            1,
            1,
            1,
            1,
            1,
            1,
            1,
            1,
            1,
            1,
            1,
            1,
            1,
            1,
            1,
            1,
            1,
            1,
            1,
            1,
            1,
            1,
            1,
            1,
            1,
            1,
            1,
            1,
            1,
            1,
            1,
            1,
            1,
            1,
            1,
            1,
            1,
            1,
            1,
            1,
            1,
            1,
            1,
            1,
            1,
            1,
            1,
            1,
            1,
            1,
            1,
            1,
            1,
            1,
            1,
            1,
            1,
            1,
            1,
            1,
            1,
            1,
            1,
            1,
            1,
            1,
            1,
            1,
            1,
            1,
            1,
            1,
            1,
            1,
            1,
            1,
            1,
            1,
            1,
            1,
            1,
            1,
            1,
            1,
            1,
            1,
            1,
            1,
            1,
            1,
            1,
            1,
            1,
            1,
            1,
            1,
            1,
            1,
            1,
            1,
            1,
            1
           ]
          }
         ],
         "domain": {
          "x": [
           0,
           1
          ],
          "y": [
           0,
           1
          ]
         },
         "line": {
          "color": [
           2,
           1,
           1,
           3,
           1,
           3,
           1,
           2,
           3,
           1,
           2,
           1,
           3,
           1,
           2,
           3,
           3,
           3,
           3,
           3,
           1,
           2,
           2,
           3,
           3,
           3,
           3,
           3,
           1,
           1,
           2,
           2,
           2,
           3,
           3,
           3,
           3,
           3,
           3,
           3,
           3,
           1,
           1,
           2,
           1,
           1,
           1,
           1,
           1,
           1,
           1,
           1,
           1,
           1,
           1,
           1,
           1,
           1,
           1,
           1,
           1,
           1,
           2,
           2,
           2,
           2,
           2,
           2,
           2,
           2,
           2,
           2,
           2,
           2,
           2,
           2,
           2,
           2,
           3,
           3,
           3,
           3,
           3,
           3,
           3,
           3,
           3,
           3,
           3,
           1,
           1,
           1,
           1,
           1,
           3,
           3,
           3,
           3,
           3,
           3,
           3,
           3,
           3,
           3,
           3,
           3,
           3,
           3,
           3,
           3,
           3,
           3,
           3,
           3,
           3,
           3,
           3,
           3,
           3,
           3,
           3,
           3,
           3,
           3,
           3,
           3,
           3,
           3,
           3,
           3,
           3,
           3,
           1,
           1,
           1,
           1,
           1,
           1,
           1,
           1,
           1,
           1,
           1,
           2,
           1,
           1,
           1,
           1,
           1,
           1,
           1,
           1,
           1,
           1,
           1,
           1,
           1,
           1,
           1,
           1,
           1,
           1,
           1,
           1,
           1,
           1,
           1,
           1,
           1,
           1,
           1,
           1,
           1,
           1,
           1,
           1,
           1,
           1,
           1,
           1,
           1,
           1,
           1,
           1,
           1,
           1,
           1,
           1,
           1,
           1,
           1,
           1,
           1,
           1,
           1,
           1,
           1,
           1,
           1,
           1,
           1,
           1,
           1,
           1,
           1,
           1,
           1,
           1,
           1,
           1,
           1,
           1,
           1,
           1,
           1,
           1,
           1,
           1,
           1,
           1,
           1,
           1,
           1,
           1,
           1,
           1,
           1,
           1,
           1,
           1,
           1,
           1,
           1,
           1,
           1,
           1,
           1,
           1,
           1,
           1,
           1,
           2,
           2,
           2,
           2,
           2,
           2,
           2,
           2,
           2,
           2,
           2,
           2,
           2,
           2,
           2,
           2,
           2,
           2,
           2,
           2,
           2,
           2,
           2,
           2,
           2,
           2,
           2,
           2,
           2,
           2,
           2,
           2,
           2,
           2,
           2,
           2,
           2,
           2,
           2,
           2,
           2,
           2,
           2,
           2,
           2,
           2,
           2,
           2,
           2,
           2,
           2,
           2,
           2,
           2,
           2,
           2,
           2,
           2,
           2,
           2,
           2,
           2,
           2,
           2,
           2,
           2,
           2,
           2,
           2,
           2,
           2,
           2,
           1,
           1,
           1,
           1,
           3,
           3,
           3,
           3,
           3,
           3,
           3,
           3,
           3,
           3,
           3,
           3,
           3,
           3,
           3,
           3,
           3,
           3,
           3,
           3,
           3,
           3,
           3,
           3,
           3,
           3,
           3,
           3,
           3,
           3,
           3,
           3,
           3,
           3,
           3,
           3,
           3,
           3,
           3,
           3,
           3,
           3,
           3,
           3,
           3,
           3,
           3,
           3,
           3,
           3,
           3,
           3,
           3,
           3,
           3,
           1,
           1,
           1,
           1,
           1,
           1,
           1,
           1,
           1,
           2,
           2,
           2,
           3,
           3,
           3,
           3,
           1
          ],
          "coloraxis": "coloraxis"
         },
         "name": "",
         "type": "parcoords"
        }
       ],
       "layout": {
        "coloraxis": {
         "colorbar": {
          "title": {
           "text": "Classe"
          }
         },
         "colorscale": [
          [
           0,
           "#0d0887"
          ],
          [
           0.1111111111111111,
           "#46039f"
          ],
          [
           0.2222222222222222,
           "#7201a8"
          ],
          [
           0.3333333333333333,
           "#9c179e"
          ],
          [
           0.4444444444444444,
           "#bd3786"
          ],
          [
           0.5555555555555556,
           "#d8576b"
          ],
          [
           0.6666666666666666,
           "#ed7953"
          ],
          [
           0.7777777777777778,
           "#fb9f3a"
          ],
          [
           0.8888888888888888,
           "#fdca26"
          ],
          [
           1,
           "#f0f921"
          ]
         ]
        },
        "legend": {
         "tracegroupgap": 0
        },
        "margin": {
         "t": 60
        },
        "template": {
         "data": {
          "bar": [
           {
            "error_x": {
             "color": "#2a3f5f"
            },
            "error_y": {
             "color": "#2a3f5f"
            },
            "marker": {
             "line": {
              "color": "#E5ECF6",
              "width": 0.5
             },
             "pattern": {
              "fillmode": "overlay",
              "size": 10,
              "solidity": 0.2
             }
            },
            "type": "bar"
           }
          ],
          "barpolar": [
           {
            "marker": {
             "line": {
              "color": "#E5ECF6",
              "width": 0.5
             },
             "pattern": {
              "fillmode": "overlay",
              "size": 10,
              "solidity": 0.2
             }
            },
            "type": "barpolar"
           }
          ],
          "carpet": [
           {
            "aaxis": {
             "endlinecolor": "#2a3f5f",
             "gridcolor": "white",
             "linecolor": "white",
             "minorgridcolor": "white",
             "startlinecolor": "#2a3f5f"
            },
            "baxis": {
             "endlinecolor": "#2a3f5f",
             "gridcolor": "white",
             "linecolor": "white",
             "minorgridcolor": "white",
             "startlinecolor": "#2a3f5f"
            },
            "type": "carpet"
           }
          ],
          "choropleth": [
           {
            "colorbar": {
             "outlinewidth": 0,
             "ticks": ""
            },
            "type": "choropleth"
           }
          ],
          "contour": [
           {
            "colorbar": {
             "outlinewidth": 0,
             "ticks": ""
            },
            "colorscale": [
             [
              0,
              "#0d0887"
             ],
             [
              0.1111111111111111,
              "#46039f"
             ],
             [
              0.2222222222222222,
              "#7201a8"
             ],
             [
              0.3333333333333333,
              "#9c179e"
             ],
             [
              0.4444444444444444,
              "#bd3786"
             ],
             [
              0.5555555555555556,
              "#d8576b"
             ],
             [
              0.6666666666666666,
              "#ed7953"
             ],
             [
              0.7777777777777778,
              "#fb9f3a"
             ],
             [
              0.8888888888888888,
              "#fdca26"
             ],
             [
              1,
              "#f0f921"
             ]
            ],
            "type": "contour"
           }
          ],
          "contourcarpet": [
           {
            "colorbar": {
             "outlinewidth": 0,
             "ticks": ""
            },
            "type": "contourcarpet"
           }
          ],
          "heatmap": [
           {
            "colorbar": {
             "outlinewidth": 0,
             "ticks": ""
            },
            "colorscale": [
             [
              0,
              "#0d0887"
             ],
             [
              0.1111111111111111,
              "#46039f"
             ],
             [
              0.2222222222222222,
              "#7201a8"
             ],
             [
              0.3333333333333333,
              "#9c179e"
             ],
             [
              0.4444444444444444,
              "#bd3786"
             ],
             [
              0.5555555555555556,
              "#d8576b"
             ],
             [
              0.6666666666666666,
              "#ed7953"
             ],
             [
              0.7777777777777778,
              "#fb9f3a"
             ],
             [
              0.8888888888888888,
              "#fdca26"
             ],
             [
              1,
              "#f0f921"
             ]
            ],
            "type": "heatmap"
           }
          ],
          "heatmapgl": [
           {
            "colorbar": {
             "outlinewidth": 0,
             "ticks": ""
            },
            "colorscale": [
             [
              0,
              "#0d0887"
             ],
             [
              0.1111111111111111,
              "#46039f"
             ],
             [
              0.2222222222222222,
              "#7201a8"
             ],
             [
              0.3333333333333333,
              "#9c179e"
             ],
             [
              0.4444444444444444,
              "#bd3786"
             ],
             [
              0.5555555555555556,
              "#d8576b"
             ],
             [
              0.6666666666666666,
              "#ed7953"
             ],
             [
              0.7777777777777778,
              "#fb9f3a"
             ],
             [
              0.8888888888888888,
              "#fdca26"
             ],
             [
              1,
              "#f0f921"
             ]
            ],
            "type": "heatmapgl"
           }
          ],
          "histogram": [
           {
            "marker": {
             "pattern": {
              "fillmode": "overlay",
              "size": 10,
              "solidity": 0.2
             }
            },
            "type": "histogram"
           }
          ],
          "histogram2d": [
           {
            "colorbar": {
             "outlinewidth": 0,
             "ticks": ""
            },
            "colorscale": [
             [
              0,
              "#0d0887"
             ],
             [
              0.1111111111111111,
              "#46039f"
             ],
             [
              0.2222222222222222,
              "#7201a8"
             ],
             [
              0.3333333333333333,
              "#9c179e"
             ],
             [
              0.4444444444444444,
              "#bd3786"
             ],
             [
              0.5555555555555556,
              "#d8576b"
             ],
             [
              0.6666666666666666,
              "#ed7953"
             ],
             [
              0.7777777777777778,
              "#fb9f3a"
             ],
             [
              0.8888888888888888,
              "#fdca26"
             ],
             [
              1,
              "#f0f921"
             ]
            ],
            "type": "histogram2d"
           }
          ],
          "histogram2dcontour": [
           {
            "colorbar": {
             "outlinewidth": 0,
             "ticks": ""
            },
            "colorscale": [
             [
              0,
              "#0d0887"
             ],
             [
              0.1111111111111111,
              "#46039f"
             ],
             [
              0.2222222222222222,
              "#7201a8"
             ],
             [
              0.3333333333333333,
              "#9c179e"
             ],
             [
              0.4444444444444444,
              "#bd3786"
             ],
             [
              0.5555555555555556,
              "#d8576b"
             ],
             [
              0.6666666666666666,
              "#ed7953"
             ],
             [
              0.7777777777777778,
              "#fb9f3a"
             ],
             [
              0.8888888888888888,
              "#fdca26"
             ],
             [
              1,
              "#f0f921"
             ]
            ],
            "type": "histogram2dcontour"
           }
          ],
          "mesh3d": [
           {
            "colorbar": {
             "outlinewidth": 0,
             "ticks": ""
            },
            "type": "mesh3d"
           }
          ],
          "parcoords": [
           {
            "line": {
             "colorbar": {
              "outlinewidth": 0,
              "ticks": ""
             }
            },
            "type": "parcoords"
           }
          ],
          "pie": [
           {
            "automargin": true,
            "type": "pie"
           }
          ],
          "scatter": [
           {
            "marker": {
             "colorbar": {
              "outlinewidth": 0,
              "ticks": ""
             }
            },
            "type": "scatter"
           }
          ],
          "scatter3d": [
           {
            "line": {
             "colorbar": {
              "outlinewidth": 0,
              "ticks": ""
             }
            },
            "marker": {
             "colorbar": {
              "outlinewidth": 0,
              "ticks": ""
             }
            },
            "type": "scatter3d"
           }
          ],
          "scattercarpet": [
           {
            "marker": {
             "colorbar": {
              "outlinewidth": 0,
              "ticks": ""
             }
            },
            "type": "scattercarpet"
           }
          ],
          "scattergeo": [
           {
            "marker": {
             "colorbar": {
              "outlinewidth": 0,
              "ticks": ""
             }
            },
            "type": "scattergeo"
           }
          ],
          "scattergl": [
           {
            "marker": {
             "colorbar": {
              "outlinewidth": 0,
              "ticks": ""
             }
            },
            "type": "scattergl"
           }
          ],
          "scattermapbox": [
           {
            "marker": {
             "colorbar": {
              "outlinewidth": 0,
              "ticks": ""
             }
            },
            "type": "scattermapbox"
           }
          ],
          "scatterpolar": [
           {
            "marker": {
             "colorbar": {
              "outlinewidth": 0,
              "ticks": ""
             }
            },
            "type": "scatterpolar"
           }
          ],
          "scatterpolargl": [
           {
            "marker": {
             "colorbar": {
              "outlinewidth": 0,
              "ticks": ""
             }
            },
            "type": "scatterpolargl"
           }
          ],
          "scatterternary": [
           {
            "marker": {
             "colorbar": {
              "outlinewidth": 0,
              "ticks": ""
             }
            },
            "type": "scatterternary"
           }
          ],
          "surface": [
           {
            "colorbar": {
             "outlinewidth": 0,
             "ticks": ""
            },
            "colorscale": [
             [
              0,
              "#0d0887"
             ],
             [
              0.1111111111111111,
              "#46039f"
             ],
             [
              0.2222222222222222,
              "#7201a8"
             ],
             [
              0.3333333333333333,
              "#9c179e"
             ],
             [
              0.4444444444444444,
              "#bd3786"
             ],
             [
              0.5555555555555556,
              "#d8576b"
             ],
             [
              0.6666666666666666,
              "#ed7953"
             ],
             [
              0.7777777777777778,
              "#fb9f3a"
             ],
             [
              0.8888888888888888,
              "#fdca26"
             ],
             [
              1,
              "#f0f921"
             ]
            ],
            "type": "surface"
           }
          ],
          "table": [
           {
            "cells": {
             "fill": {
              "color": "#EBF0F8"
             },
             "line": {
              "color": "white"
             }
            },
            "header": {
             "fill": {
              "color": "#C8D4E3"
             },
             "line": {
              "color": "white"
             }
            },
            "type": "table"
           }
          ]
         },
         "layout": {
          "annotationdefaults": {
           "arrowcolor": "#2a3f5f",
           "arrowhead": 0,
           "arrowwidth": 1
          },
          "autotypenumbers": "strict",
          "coloraxis": {
           "colorbar": {
            "outlinewidth": 0,
            "ticks": ""
           }
          },
          "colorscale": {
           "diverging": [
            [
             0,
             "#8e0152"
            ],
            [
             0.1,
             "#c51b7d"
            ],
            [
             0.2,
             "#de77ae"
            ],
            [
             0.3,
             "#f1b6da"
            ],
            [
             0.4,
             "#fde0ef"
            ],
            [
             0.5,
             "#f7f7f7"
            ],
            [
             0.6,
             "#e6f5d0"
            ],
            [
             0.7,
             "#b8e186"
            ],
            [
             0.8,
             "#7fbc41"
            ],
            [
             0.9,
             "#4d9221"
            ],
            [
             1,
             "#276419"
            ]
           ],
           "sequential": [
            [
             0,
             "#0d0887"
            ],
            [
             0.1111111111111111,
             "#46039f"
            ],
            [
             0.2222222222222222,
             "#7201a8"
            ],
            [
             0.3333333333333333,
             "#9c179e"
            ],
            [
             0.4444444444444444,
             "#bd3786"
            ],
            [
             0.5555555555555556,
             "#d8576b"
            ],
            [
             0.6666666666666666,
             "#ed7953"
            ],
            [
             0.7777777777777778,
             "#fb9f3a"
            ],
            [
             0.8888888888888888,
             "#fdca26"
            ],
            [
             1,
             "#f0f921"
            ]
           ],
           "sequentialminus": [
            [
             0,
             "#0d0887"
            ],
            [
             0.1111111111111111,
             "#46039f"
            ],
            [
             0.2222222222222222,
             "#7201a8"
            ],
            [
             0.3333333333333333,
             "#9c179e"
            ],
            [
             0.4444444444444444,
             "#bd3786"
            ],
            [
             0.5555555555555556,
             "#d8576b"
            ],
            [
             0.6666666666666666,
             "#ed7953"
            ],
            [
             0.7777777777777778,
             "#fb9f3a"
            ],
            [
             0.8888888888888888,
             "#fdca26"
            ],
            [
             1,
             "#f0f921"
            ]
           ]
          },
          "colorway": [
           "#636efa",
           "#EF553B",
           "#00cc96",
           "#ab63fa",
           "#FFA15A",
           "#19d3f3",
           "#FF6692",
           "#B6E880",
           "#FF97FF",
           "#FECB52"
          ],
          "font": {
           "color": "#2a3f5f"
          },
          "geo": {
           "bgcolor": "white",
           "lakecolor": "white",
           "landcolor": "#E5ECF6",
           "showlakes": true,
           "showland": true,
           "subunitcolor": "white"
          },
          "hoverlabel": {
           "align": "left"
          },
          "hovermode": "closest",
          "mapbox": {
           "style": "light"
          },
          "paper_bgcolor": "white",
          "plot_bgcolor": "#E5ECF6",
          "polar": {
           "angularaxis": {
            "gridcolor": "white",
            "linecolor": "white",
            "ticks": ""
           },
           "bgcolor": "#E5ECF6",
           "radialaxis": {
            "gridcolor": "white",
            "linecolor": "white",
            "ticks": ""
           }
          },
          "scene": {
           "xaxis": {
            "backgroundcolor": "#E5ECF6",
            "gridcolor": "white",
            "gridwidth": 2,
            "linecolor": "white",
            "showbackground": true,
            "ticks": "",
            "zerolinecolor": "white"
           },
           "yaxis": {
            "backgroundcolor": "#E5ECF6",
            "gridcolor": "white",
            "gridwidth": 2,
            "linecolor": "white",
            "showbackground": true,
            "ticks": "",
            "zerolinecolor": "white"
           },
           "zaxis": {
            "backgroundcolor": "#E5ECF6",
            "gridcolor": "white",
            "gridwidth": 2,
            "linecolor": "white",
            "showbackground": true,
            "ticks": "",
            "zerolinecolor": "white"
           }
          },
          "shapedefaults": {
           "line": {
            "color": "#2a3f5f"
           }
          },
          "ternary": {
           "aaxis": {
            "gridcolor": "white",
            "linecolor": "white",
            "ticks": ""
           },
           "baxis": {
            "gridcolor": "white",
            "linecolor": "white",
            "ticks": ""
           },
           "bgcolor": "#E5ECF6",
           "caxis": {
            "gridcolor": "white",
            "linecolor": "white",
            "ticks": ""
           }
          },
          "title": {
           "x": 0.05
          },
          "xaxis": {
           "automargin": true,
           "gridcolor": "white",
           "linecolor": "white",
           "ticks": "",
           "title": {
            "standoff": 15
           },
           "zerolinecolor": "white",
           "zerolinewidth": 2
          },
          "yaxis": {
           "automargin": true,
           "gridcolor": "white",
           "linecolor": "white",
           "ticks": "",
           "title": {
            "standoff": 15
           },
           "zerolinecolor": "white",
           "zerolinewidth": 2
          }
         }
        }
       }
      },
      "text/html": [
       "<div>                            <div id=\"52caabfa-bbd5-4e28-9407-87a532e847d1\" class=\"plotly-graph-div\" style=\"height:525px; width:100%;\"></div>            <script type=\"text/javascript\">                require([\"plotly\"], function(Plotly) {                    window.PLOTLYENV=window.PLOTLYENV || {};                                    if (document.getElementById(\"52caabfa-bbd5-4e28-9407-87a532e847d1\")) {                    Plotly.newPlot(                        \"52caabfa-bbd5-4e28-9407-87a532e847d1\",                        [{\"dimensions\":[{\"label\":\"Salario\",\"values\":[8580,6874,5984,11764,3773,15000,3966,8176,8921,3999,5966,7205,12127,7106,6261,8324,11984,10987,13148,17533,8743,5930,4946,11676,24976,13000,13000,10119,4668,4450,10086,8186,8300,6600,8000,15159,11500,9500,13500,11500,9000,5000,6500,9000,5500,3500,3000,3500,5500,6500,4000,1500,6000,3500,4500,2500,5000,8000,3500,7000,4000,5000,5500,6000,7000,5500,4332,8000,10500,10500,6000,7500,4500,8500,6500,9500,7500,6500,12500,10000,8500,13500,8500,6500,9000,11500,9000,13500,12500,7000,4000,6500,6500,11500,19500,16500,12500,9500,7500,14000,13500,7000,7500,12500,13500,12500,15500,10000,7500,18500,9500,17000,13500,25000,13500,13500,13500,9500,14000,13500,19500,10500,13500,13500,20000,7500,11000,9500,13000,6000,10000,21500,3000,3000,5000,6500,3000,7000,3000,3500,11500,4500,3000,9500,6500,5000,5000,2500,3000,5000,2500,5500,978,3000,6000,4500,4000,4000,5500,3500,7500,5000,5000,5000,3000,5000,9000,3000,7000,8000,4500,3500,3000,12500,5500,3000,6500,4500,6500,7500,4000,2000,4000,2000,5000,5000,4000,6500,7500,3000,2500,4500,6000,2000,4000,4000,5000,5500,4000,8500,7000,5000,3000,3500,4500,5500,6000,3500,3500,6000,4500,4500,5000,4500,2000,4000,5500,3000,4000,6000,3500,10500,2000,5000,1000,3000,3000,983,5000,7500,3000,4000,3000,3000,4000,1000,4000,5000,1500,4000,4000,9500,6500,14500,5000,6500,6500,9500,3500,10000,10000,5000,10500,8500,7000,5000,5500,8000,4500,8000,7500,4500,8500,6000,7500,7500,6500,7500,13500,7500,6500,6500,6500,9000,8000,7500,6000,6500,5500,3500,7000,4500,9000,6500,8000,6000,8000,6500,13500,8500,8000,10500,6500,9500,22000,7500,7500,6500,8500,8500,7500,5500,6500,7500,7000,4000,9000,7500,5500,10500,13500,7000,5000,5000,3500,2500,5500,11500,11500,8500,14000,7000,10500,7000,12500,9000,9000,10500,12500,12500,9500,6000,10500,9500,10500,16000,11500,12500,9500,10500,10000,12500,12500,14500,13500,10500,13500,6500,12500,10000,2000,5500,8500,12500,8500,9000,8500,14500,12500,11500,9000,10000,8500,12500,10500,10375,16083,25708,7166,16791,9833,5916,4458,6833,3041,3458,6250,3000,4416,4166,9000,8166,10000,10166,9541,8958,51333,10041,1120]},{\"label\":\"Classe\",\"values\":[2,1,1,3,1,3,1,2,3,1,2,1,3,1,2,3,3,3,3,3,1,2,2,3,3,3,3,3,1,1,2,2,2,3,3,3,3,3,3,3,3,1,1,2,1,1,1,1,1,1,1,1,1,1,1,1,1,1,1,1,1,1,2,2,2,2,2,2,2,2,2,2,2,2,2,2,2,2,3,3,3,3,3,3,3,3,3,3,3,1,1,1,1,1,3,3,3,3,3,3,3,3,3,3,3,3,3,3,3,3,3,3,3,3,3,3,3,3,3,3,3,3,3,3,3,3,3,3,3,3,3,3,1,1,1,1,1,1,1,1,1,1,1,2,1,1,1,1,1,1,1,1,1,1,1,1,1,1,1,1,1,1,1,1,1,1,1,1,1,1,1,1,1,1,1,1,1,1,1,1,1,1,1,1,1,1,1,1,1,1,1,1,1,1,1,1,1,1,1,1,1,1,1,1,1,1,1,1,1,1,1,1,1,1,1,1,1,1,1,1,1,1,1,1,1,1,1,1,1,1,1,1,1,1,1,1,1,1,1,1,1,2,2,2,2,2,2,2,2,2,2,2,2,2,2,2,2,2,2,2,2,2,2,2,2,2,2,2,2,2,2,2,2,2,2,2,2,2,2,2,2,2,2,2,2,2,2,2,2,2,2,2,2,2,2,2,2,2,2,2,2,2,2,2,2,2,2,2,2,2,2,2,2,1,1,1,1,3,3,3,3,3,3,3,3,3,3,3,3,3,3,3,3,3,3,3,3,3,3,3,3,3,3,3,3,3,3,3,3,3,3,3,3,3,3,3,3,3,3,3,3,3,3,3,3,3,3,3,3,3,3,3,1,1,1,1,1,1,1,1,1,2,2,2,3,3,3,3,1]},{\"label\":\"Tamanho\",\"values\":[25,125,25,10000,350,10000,2500,25,25,350,125,125,125,2500,750,25,10000,10000,10000,10000,350,350,125,2500,125,10000,10000,10000,10000,10000,750,350,10000,10000,2500,10000,10000,350,7500,25,125,125,125,10000,350,125,350,25,125,125,2500,25,2500,750,125,10000,25,10000,10000,350,125,25,125,10000,350,10000,10000,10000,10000,10000,125,350,10000,2500,2500,350,125,25,10000,125,10000,10000,125,25,350,10000,350,10000,125,125,2500,10000,2500,125,350,125,25,350,25,2500,125,25,350,350,350,7500,10000,10000,10000,2500,350,350,10000,10000,25,350,10000,2500,125,2500,125,7500,750,125,25,125,25,10000,10000,750,10000,2500,2500,125,125,10000,125,125,350,10000,2500,350,2500,125,10000,125,350,2500,10000,2500,10000,2500,10000,10000,2500,10000,2500,10000,10000,350,350,2500,25,2500,2500,2500,750,750,2500,350,7500,2500,2500,350,10000,125,2500,750,125,125,10000,2500,25,10000,350,2500,125,10000,350,2500,10000,10000,2500,125,125,750,10000,350,10000,2500,125,350,25,350,2500,2500,7500,7500,125,10000,2500,10000,350,350,2500,2500,125,125,2500,125,10000,125,125,25,125,350,125,10000,2500,125,25,25,10000,25,25,25,750,125,10000,25,750,25,750,25,125,25,125,25,750,350,125,350,7500,2500,25,125,2500,125,2500,125,10000,7500,10000,10000,125,10000,10000,10000,10000,125,125,10000,10000,350,25,25,350,10000,350,25,750,2500,350,125,350,25,10000,750,25,125,25,2500,10000,10000,7500,2500,2500,2500,2500,750,125,125,125,10000,2500,750,750,10000,350,2500,125,750,25,10000,10000,10000,25,125,10000,10000,25,25,125,10000,10000,350,2500,2500,10000,10000,10000,2500,2500,10000,350,125,350,10000,10000,10000,125,7500,2500,10000,2500,10000,25,350,7500,2500,2500,10000,2500,125,125,10000,7500,10000,2500,10000,125,2500,7500,10000,10000,350,25,7500,125,2500,7500,2500,10000,125,7500,2500,2500,2500,10000,7500,25,2500,25,25,350,350,350,2500,125]},{\"label\":\"Funda\\u00e7\\u00e3o\",\"values\":[null,2016.0,null,1958.0,2017.0,1923.0,1990.0,null,null,null,2015.0,null,2014.0,null,null,null,1989.0,1943.0,1903.0,1989.0,2010.0,null,2014.0,1990.0,2013.0,1903.0,1903.0,1903.0,1965.0,1999.0,2010.0,2001.0,1987.0,1903.0,1991.0,1965.0,null,2014.0,null,null,2012.0,2017.0,2016.0,1977.0,2002.0,2012.0,null,1957.0,null,2015.0,null,2013.0,2011.0,null,2016.0,1903.0,2013.0,1949.0,1989.0,null,2015.0,2013.0,2016.0,1949.0,null,2011.0,1987.0,1903.0,2011.0,1903.0,null,1989.0,1965.0,2000.0,1996.0,2017.0,2010.0,2000.0,null,2002.0,1987.0,null,2012.0,2007.0,null,1957.0,2008.0,1999.0,2000.0,2012.0,null,1856.0,2000.0,null,2001.0,2006.0,null,2014.0,null,2000.0,2006.0,null,2000.0,null,null,1863.0,1903.0,1905.0,1890.0,2012.0,null,2019.0,1987.0,1973.0,null,null,1903.0,2012.0,2016.0,1999.0,2014.0,2015.0,null,2012.0,null,2002.0,null,1911.0,1980.0,2010.0,1929.0,1999.0,2016.0,2012.0,2002.0,1980.0,2016.0,2016.0,null,null,1995.0,1996.0,2012.0,2016.0,1911.0,2004.0,2001.0,1988.0,1911.0,2013.0,1903.0,1995.0,1856.0,1989.0,1988.0,1903.0,2013.0,2010.0,1958.0,2014.0,2015.0,1996.0,2013.0,null,2013.0,2012.0,1999.0,2012.0,2013.0,2014.0,null,2013.0,2012.0,2001.0,1865.0,null,null,2010.0,null,null,null,2010.0,2014.0,1965.0,2001.0,null,null,1999.0,2017.0,1990.0,1977.0,1901.0,null,2009.0,2006.0,2010.0,1999.0,2017.0,1901.0,null,2006.0,2016.0,null,null,2001.0,2002.0,null,1967.0,2015.0,1923.0,2002.0,1998.0,2016.0,null,2002.0,2002.0,2006.0,2013.0,1987.0,null,1858.0,2015.0,2007.0,2016.0,null,null,null,1665.0,1987.0,2015.0,2016.0,null,1905.0,null,null,null,2018.0,2004.0,1989.0,2013.0,null,null,2018.0,2013.0,null,null,2014.0,2013.0,1999.0,2012.0,null,2018.0,1960.0,2000.0,null,null,1990.0,null,null,null,1987.0,null,1943.0,1903.0,2007.0,1973.0,null,2000.0,2010.0,2017.0,null,1987.0,1903.0,null,null,null,1996.0,1923.0,null,null,1979.0,1978.0,null,2016.0,null,null,1923.0,1979.0,null,null,null,2012.0,null,1993.0,2012.0,null,2014.0,2000.0,1995.0,2010.0,2015.0,2008.0,null,null,2014.0,2010.0,2010.0,1949.0,null,1999.0,null,null,2013.0,null,null,1872.0,2007.0,null,null,1872.0,null,2008.0,2011.0,1958.0,1981.0,null,2011.0,2008.0,1943.0,1929.0,1987.0,1990.0,2011.0,1924.0,1995.0,2011.0,null,1943.0,1987.0,1924.0,2014.0,null,1989.0,1855.0,1996.0,1850.0,null,2004.0,1863.0,2013.0,2014.0,1967.0,null,2000.0,2014.0,1850.0,1863.0,1967.0,2012.0,1989.0,2007.0,null,null,1971.0,1980.0,2002.0,2011.0,1976.0,2016.0,2016.0,1984.0,1895.0,1911.0,2004.0,null,null,2010.0,1987.0,1973.0,1967.0,null,1990.0,null,2007.0,2001.0,2014.0,2009.0,2012.0,2015.0]},{\"label\":\"Valor_moeda\",\"values\":[1,1,1,1,1,1,1,1,1,1,1,1,1,1,1,1,1,1,1,1,1,1,1,1,1,1,1,1,1,1,1,1,1,1,1,1,1,1,1,1,1,1,1,1,1,1,1,1,1,1,1,1,1,1,1,1,1,1,1,1,1,1,1,1,1,1,1,1,1,1,1,1,1,1,1,1,1,1,1,1,1,1,1,1,1,1,1,1,1,1,1,1,1,1,1,1,1,1,1,1,1,1,1,1,1,1,1,1,1,1,1,1,1,1,1,1,1,1,1,1,1,1,1,1,1,1,1,1,1,1,1,1,1,1,1,1,1,1,1,1,1,1,1,1,1,1,1,1,1,1,1,1,1,1,1,1,1,1,1,1,1,1,1,1,1,1,1,1,1,1,1,1,1,1,1,1,1,1,1,1,1,1,1,1,1,1,1,1,1,1,1,1,1,1,1,1,1,1,1,1,1,1,1,1,1,1,1,1,1,1,1,1,1,1,1,1,1,1,1,1,1,1,1,1,1,1,1,1,1,1,1,1,1,1,1,1,1,1,1,1,1,1,1,1,1,1,1,1,1,1,1,1,1,1,1,1,1,1,1,1,1,1,1,1,1,1,1,1,1,1,1,1,1,1,1,1,1,1,1,1,1,1,1,1,1,1,1,1,1,1,1,1,1,1,1,1,1,1,1,1,1,1,1,1,1,1,1,1,1,1,1,1,1,1,1,1,1,1,1,1,1,1,1,1,1,1,1,1,1,1,1,1,1,1,1,1,1,1,1,1,1,1,1,1,1,1,1,1,1,1,1,1,1,1,1,1,1,1,1,1,1,1,1,1,1,1,1,1,1,1,1,1,1,1,1,1,1,1,1,1,1,1,1,1,1,1,1,1,1]}],\"domain\":{\"x\":[0.0,1.0],\"y\":[0.0,1.0]},\"line\":{\"color\":[2,1,1,3,1,3,1,2,3,1,2,1,3,1,2,3,3,3,3,3,1,2,2,3,3,3,3,3,1,1,2,2,2,3,3,3,3,3,3,3,3,1,1,2,1,1,1,1,1,1,1,1,1,1,1,1,1,1,1,1,1,1,2,2,2,2,2,2,2,2,2,2,2,2,2,2,2,2,3,3,3,3,3,3,3,3,3,3,3,1,1,1,1,1,3,3,3,3,3,3,3,3,3,3,3,3,3,3,3,3,3,3,3,3,3,3,3,3,3,3,3,3,3,3,3,3,3,3,3,3,3,3,1,1,1,1,1,1,1,1,1,1,1,2,1,1,1,1,1,1,1,1,1,1,1,1,1,1,1,1,1,1,1,1,1,1,1,1,1,1,1,1,1,1,1,1,1,1,1,1,1,1,1,1,1,1,1,1,1,1,1,1,1,1,1,1,1,1,1,1,1,1,1,1,1,1,1,1,1,1,1,1,1,1,1,1,1,1,1,1,1,1,1,1,1,1,1,1,1,1,1,1,1,1,1,1,1,1,1,1,1,2,2,2,2,2,2,2,2,2,2,2,2,2,2,2,2,2,2,2,2,2,2,2,2,2,2,2,2,2,2,2,2,2,2,2,2,2,2,2,2,2,2,2,2,2,2,2,2,2,2,2,2,2,2,2,2,2,2,2,2,2,2,2,2,2,2,2,2,2,2,2,2,1,1,1,1,3,3,3,3,3,3,3,3,3,3,3,3,3,3,3,3,3,3,3,3,3,3,3,3,3,3,3,3,3,3,3,3,3,3,3,3,3,3,3,3,3,3,3,3,3,3,3,3,3,3,3,3,3,3,3,1,1,1,1,1,1,1,1,1,2,2,2,3,3,3,3,1],\"coloraxis\":\"coloraxis\"},\"name\":\"\",\"type\":\"parcoords\"}],                        {\"coloraxis\":{\"colorbar\":{\"title\":{\"text\":\"Classe\"}},\"colorscale\":[[0.0,\"#0d0887\"],[0.1111111111111111,\"#46039f\"],[0.2222222222222222,\"#7201a8\"],[0.3333333333333333,\"#9c179e\"],[0.4444444444444444,\"#bd3786\"],[0.5555555555555556,\"#d8576b\"],[0.6666666666666666,\"#ed7953\"],[0.7777777777777778,\"#fb9f3a\"],[0.8888888888888888,\"#fdca26\"],[1.0,\"#f0f921\"]]},\"legend\":{\"tracegroupgap\":0},\"margin\":{\"t\":60},\"template\":{\"data\":{\"bar\":[{\"error_x\":{\"color\":\"#2a3f5f\"},\"error_y\":{\"color\":\"#2a3f5f\"},\"marker\":{\"line\":{\"color\":\"#E5ECF6\",\"width\":0.5},\"pattern\":{\"fillmode\":\"overlay\",\"size\":10,\"solidity\":0.2}},\"type\":\"bar\"}],\"barpolar\":[{\"marker\":{\"line\":{\"color\":\"#E5ECF6\",\"width\":0.5},\"pattern\":{\"fillmode\":\"overlay\",\"size\":10,\"solidity\":0.2}},\"type\":\"barpolar\"}],\"carpet\":[{\"aaxis\":{\"endlinecolor\":\"#2a3f5f\",\"gridcolor\":\"white\",\"linecolor\":\"white\",\"minorgridcolor\":\"white\",\"startlinecolor\":\"#2a3f5f\"},\"baxis\":{\"endlinecolor\":\"#2a3f5f\",\"gridcolor\":\"white\",\"linecolor\":\"white\",\"minorgridcolor\":\"white\",\"startlinecolor\":\"#2a3f5f\"},\"type\":\"carpet\"}],\"choropleth\":[{\"colorbar\":{\"outlinewidth\":0,\"ticks\":\"\"},\"type\":\"choropleth\"}],\"contour\":[{\"colorbar\":{\"outlinewidth\":0,\"ticks\":\"\"},\"colorscale\":[[0.0,\"#0d0887\"],[0.1111111111111111,\"#46039f\"],[0.2222222222222222,\"#7201a8\"],[0.3333333333333333,\"#9c179e\"],[0.4444444444444444,\"#bd3786\"],[0.5555555555555556,\"#d8576b\"],[0.6666666666666666,\"#ed7953\"],[0.7777777777777778,\"#fb9f3a\"],[0.8888888888888888,\"#fdca26\"],[1.0,\"#f0f921\"]],\"type\":\"contour\"}],\"contourcarpet\":[{\"colorbar\":{\"outlinewidth\":0,\"ticks\":\"\"},\"type\":\"contourcarpet\"}],\"heatmap\":[{\"colorbar\":{\"outlinewidth\":0,\"ticks\":\"\"},\"colorscale\":[[0.0,\"#0d0887\"],[0.1111111111111111,\"#46039f\"],[0.2222222222222222,\"#7201a8\"],[0.3333333333333333,\"#9c179e\"],[0.4444444444444444,\"#bd3786\"],[0.5555555555555556,\"#d8576b\"],[0.6666666666666666,\"#ed7953\"],[0.7777777777777778,\"#fb9f3a\"],[0.8888888888888888,\"#fdca26\"],[1.0,\"#f0f921\"]],\"type\":\"heatmap\"}],\"heatmapgl\":[{\"colorbar\":{\"outlinewidth\":0,\"ticks\":\"\"},\"colorscale\":[[0.0,\"#0d0887\"],[0.1111111111111111,\"#46039f\"],[0.2222222222222222,\"#7201a8\"],[0.3333333333333333,\"#9c179e\"],[0.4444444444444444,\"#bd3786\"],[0.5555555555555556,\"#d8576b\"],[0.6666666666666666,\"#ed7953\"],[0.7777777777777778,\"#fb9f3a\"],[0.8888888888888888,\"#fdca26\"],[1.0,\"#f0f921\"]],\"type\":\"heatmapgl\"}],\"histogram\":[{\"marker\":{\"pattern\":{\"fillmode\":\"overlay\",\"size\":10,\"solidity\":0.2}},\"type\":\"histogram\"}],\"histogram2d\":[{\"colorbar\":{\"outlinewidth\":0,\"ticks\":\"\"},\"colorscale\":[[0.0,\"#0d0887\"],[0.1111111111111111,\"#46039f\"],[0.2222222222222222,\"#7201a8\"],[0.3333333333333333,\"#9c179e\"],[0.4444444444444444,\"#bd3786\"],[0.5555555555555556,\"#d8576b\"],[0.6666666666666666,\"#ed7953\"],[0.7777777777777778,\"#fb9f3a\"],[0.8888888888888888,\"#fdca26\"],[1.0,\"#f0f921\"]],\"type\":\"histogram2d\"}],\"histogram2dcontour\":[{\"colorbar\":{\"outlinewidth\":0,\"ticks\":\"\"},\"colorscale\":[[0.0,\"#0d0887\"],[0.1111111111111111,\"#46039f\"],[0.2222222222222222,\"#7201a8\"],[0.3333333333333333,\"#9c179e\"],[0.4444444444444444,\"#bd3786\"],[0.5555555555555556,\"#d8576b\"],[0.6666666666666666,\"#ed7953\"],[0.7777777777777778,\"#fb9f3a\"],[0.8888888888888888,\"#fdca26\"],[1.0,\"#f0f921\"]],\"type\":\"histogram2dcontour\"}],\"mesh3d\":[{\"colorbar\":{\"outlinewidth\":0,\"ticks\":\"\"},\"type\":\"mesh3d\"}],\"parcoords\":[{\"line\":{\"colorbar\":{\"outlinewidth\":0,\"ticks\":\"\"}},\"type\":\"parcoords\"}],\"pie\":[{\"automargin\":true,\"type\":\"pie\"}],\"scatter\":[{\"marker\":{\"colorbar\":{\"outlinewidth\":0,\"ticks\":\"\"}},\"type\":\"scatter\"}],\"scatter3d\":[{\"line\":{\"colorbar\":{\"outlinewidth\":0,\"ticks\":\"\"}},\"marker\":{\"colorbar\":{\"outlinewidth\":0,\"ticks\":\"\"}},\"type\":\"scatter3d\"}],\"scattercarpet\":[{\"marker\":{\"colorbar\":{\"outlinewidth\":0,\"ticks\":\"\"}},\"type\":\"scattercarpet\"}],\"scattergeo\":[{\"marker\":{\"colorbar\":{\"outlinewidth\":0,\"ticks\":\"\"}},\"type\":\"scattergeo\"}],\"scattergl\":[{\"marker\":{\"colorbar\":{\"outlinewidth\":0,\"ticks\":\"\"}},\"type\":\"scattergl\"}],\"scattermapbox\":[{\"marker\":{\"colorbar\":{\"outlinewidth\":0,\"ticks\":\"\"}},\"type\":\"scattermapbox\"}],\"scatterpolar\":[{\"marker\":{\"colorbar\":{\"outlinewidth\":0,\"ticks\":\"\"}},\"type\":\"scatterpolar\"}],\"scatterpolargl\":[{\"marker\":{\"colorbar\":{\"outlinewidth\":0,\"ticks\":\"\"}},\"type\":\"scatterpolargl\"}],\"scatterternary\":[{\"marker\":{\"colorbar\":{\"outlinewidth\":0,\"ticks\":\"\"}},\"type\":\"scatterternary\"}],\"surface\":[{\"colorbar\":{\"outlinewidth\":0,\"ticks\":\"\"},\"colorscale\":[[0.0,\"#0d0887\"],[0.1111111111111111,\"#46039f\"],[0.2222222222222222,\"#7201a8\"],[0.3333333333333333,\"#9c179e\"],[0.4444444444444444,\"#bd3786\"],[0.5555555555555556,\"#d8576b\"],[0.6666666666666666,\"#ed7953\"],[0.7777777777777778,\"#fb9f3a\"],[0.8888888888888888,\"#fdca26\"],[1.0,\"#f0f921\"]],\"type\":\"surface\"}],\"table\":[{\"cells\":{\"fill\":{\"color\":\"#EBF0F8\"},\"line\":{\"color\":\"white\"}},\"header\":{\"fill\":{\"color\":\"#C8D4E3\"},\"line\":{\"color\":\"white\"}},\"type\":\"table\"}]},\"layout\":{\"annotationdefaults\":{\"arrowcolor\":\"#2a3f5f\",\"arrowhead\":0,\"arrowwidth\":1},\"autotypenumbers\":\"strict\",\"coloraxis\":{\"colorbar\":{\"outlinewidth\":0,\"ticks\":\"\"}},\"colorscale\":{\"diverging\":[[0,\"#8e0152\"],[0.1,\"#c51b7d\"],[0.2,\"#de77ae\"],[0.3,\"#f1b6da\"],[0.4,\"#fde0ef\"],[0.5,\"#f7f7f7\"],[0.6,\"#e6f5d0\"],[0.7,\"#b8e186\"],[0.8,\"#7fbc41\"],[0.9,\"#4d9221\"],[1,\"#276419\"]],\"sequential\":[[0.0,\"#0d0887\"],[0.1111111111111111,\"#46039f\"],[0.2222222222222222,\"#7201a8\"],[0.3333333333333333,\"#9c179e\"],[0.4444444444444444,\"#bd3786\"],[0.5555555555555556,\"#d8576b\"],[0.6666666666666666,\"#ed7953\"],[0.7777777777777778,\"#fb9f3a\"],[0.8888888888888888,\"#fdca26\"],[1.0,\"#f0f921\"]],\"sequentialminus\":[[0.0,\"#0d0887\"],[0.1111111111111111,\"#46039f\"],[0.2222222222222222,\"#7201a8\"],[0.3333333333333333,\"#9c179e\"],[0.4444444444444444,\"#bd3786\"],[0.5555555555555556,\"#d8576b\"],[0.6666666666666666,\"#ed7953\"],[0.7777777777777778,\"#fb9f3a\"],[0.8888888888888888,\"#fdca26\"],[1.0,\"#f0f921\"]]},\"colorway\":[\"#636efa\",\"#EF553B\",\"#00cc96\",\"#ab63fa\",\"#FFA15A\",\"#19d3f3\",\"#FF6692\",\"#B6E880\",\"#FF97FF\",\"#FECB52\"],\"font\":{\"color\":\"#2a3f5f\"},\"geo\":{\"bgcolor\":\"white\",\"lakecolor\":\"white\",\"landcolor\":\"#E5ECF6\",\"showlakes\":true,\"showland\":true,\"subunitcolor\":\"white\"},\"hoverlabel\":{\"align\":\"left\"},\"hovermode\":\"closest\",\"mapbox\":{\"style\":\"light\"},\"paper_bgcolor\":\"white\",\"plot_bgcolor\":\"#E5ECF6\",\"polar\":{\"angularaxis\":{\"gridcolor\":\"white\",\"linecolor\":\"white\",\"ticks\":\"\"},\"bgcolor\":\"#E5ECF6\",\"radialaxis\":{\"gridcolor\":\"white\",\"linecolor\":\"white\",\"ticks\":\"\"}},\"scene\":{\"xaxis\":{\"backgroundcolor\":\"#E5ECF6\",\"gridcolor\":\"white\",\"gridwidth\":2,\"linecolor\":\"white\",\"showbackground\":true,\"ticks\":\"\",\"zerolinecolor\":\"white\"},\"yaxis\":{\"backgroundcolor\":\"#E5ECF6\",\"gridcolor\":\"white\",\"gridwidth\":2,\"linecolor\":\"white\",\"showbackground\":true,\"ticks\":\"\",\"zerolinecolor\":\"white\"},\"zaxis\":{\"backgroundcolor\":\"#E5ECF6\",\"gridcolor\":\"white\",\"gridwidth\":2,\"linecolor\":\"white\",\"showbackground\":true,\"ticks\":\"\",\"zerolinecolor\":\"white\"}},\"shapedefaults\":{\"line\":{\"color\":\"#2a3f5f\"}},\"ternary\":{\"aaxis\":{\"gridcolor\":\"white\",\"linecolor\":\"white\",\"ticks\":\"\"},\"baxis\":{\"gridcolor\":\"white\",\"linecolor\":\"white\",\"ticks\":\"\"},\"bgcolor\":\"#E5ECF6\",\"caxis\":{\"gridcolor\":\"white\",\"linecolor\":\"white\",\"ticks\":\"\"}},\"title\":{\"x\":0.05},\"xaxis\":{\"automargin\":true,\"gridcolor\":\"white\",\"linecolor\":\"white\",\"ticks\":\"\",\"title\":{\"standoff\":15},\"zerolinecolor\":\"white\",\"zerolinewidth\":2},\"yaxis\":{\"automargin\":true,\"gridcolor\":\"white\",\"linecolor\":\"white\",\"ticks\":\"\",\"title\":{\"standoff\":15},\"zerolinecolor\":\"white\",\"zerolinewidth\":2}}}},                        {\"responsive\": true}                    ).then(function(){\n",
       "                            \n",
       "var gd = document.getElementById('52caabfa-bbd5-4e28-9407-87a532e847d1');\n",
       "var x = new MutationObserver(function (mutations, observer) {{\n",
       "        var display = window.getComputedStyle(gd).display;\n",
       "        if (!display || display === 'none') {{\n",
       "            console.log([gd, 'removed!']);\n",
       "            Plotly.purge(gd);\n",
       "            observer.disconnect();\n",
       "        }}\n",
       "}});\n",
       "\n",
       "// Listen for the removal of the full notebook cells\n",
       "var notebookContainer = gd.closest('#notebook-container');\n",
       "if (notebookContainer) {{\n",
       "    x.observe(notebookContainer, {childList: true});\n",
       "}}\n",
       "\n",
       "// Listen for the clearing of the current output cell\n",
       "var outputEl = gd.closest('.output');\n",
       "if (outputEl) {{\n",
       "    x.observe(outputEl, {childList: true});\n",
       "}}\n",
       "\n",
       "                        })                };                });            </script>        </div>"
      ]
     },
     "metadata": {},
     "output_type": "display_data"
    }
   ],
   "source": [
    "import plotly.express as px\n",
    "\n",
    "fig = px.parallel_coordinates(df, color=\"Classe\")\n",
    "fig.show()"
   ]
  },
  {
   "cell_type": "code",
   "execution_count": 58,
   "metadata": {},
   "outputs": [
    {
     "data": {
      "application/vnd.plotly.v1+json": {
       "config": {
        "plotlyServerURL": "https://plot.ly"
       },
       "data": [
        {
         "hovertemplate": "Salario=%{x}<br>Tamanho=%{y}<br>Classe=%{marker.color}<extra></extra>",
         "legendgroup": "",
         "marker": {
          "color": [
           2,
           1,
           1,
           3,
           1,
           3,
           1,
           2,
           3,
           1,
           2,
           1,
           3,
           1,
           2,
           3,
           3,
           3,
           3,
           3,
           1,
           2,
           2,
           3,
           3,
           3,
           3,
           3,
           1,
           1,
           2,
           2,
           2,
           3,
           3,
           3,
           3,
           3,
           3,
           3,
           3,
           1,
           1,
           2,
           1,
           1,
           1,
           1,
           1,
           1,
           1,
           1,
           1,
           1,
           1,
           1,
           1,
           1,
           1,
           1,
           1,
           1,
           2,
           2,
           2,
           2,
           2,
           2,
           2,
           2,
           2,
           2,
           2,
           2,
           2,
           2,
           2,
           2,
           3,
           3,
           3,
           3,
           3,
           3,
           3,
           3,
           3,
           3,
           3,
           1,
           1,
           1,
           1,
           1,
           3,
           3,
           3,
           3,
           3,
           3,
           3,
           3,
           3,
           3,
           3,
           3,
           3,
           3,
           3,
           3,
           3,
           3,
           3,
           3,
           3,
           3,
           3,
           3,
           3,
           3,
           3,
           3,
           3,
           3,
           3,
           3,
           3,
           3,
           3,
           3,
           3,
           3,
           1,
           1,
           1,
           1,
           1,
           1,
           1,
           1,
           1,
           1,
           1,
           2,
           1,
           1,
           1,
           1,
           1,
           1,
           1,
           1,
           1,
           1,
           1,
           1,
           1,
           1,
           1,
           1,
           1,
           1,
           1,
           1,
           1,
           1,
           1,
           1,
           1,
           1,
           1,
           1,
           1,
           1,
           1,
           1,
           1,
           1,
           1,
           1,
           1,
           1,
           1,
           1,
           1,
           1,
           1,
           1,
           1,
           1,
           1,
           1,
           1,
           1,
           1,
           1,
           1,
           1,
           1,
           1,
           1,
           1,
           1,
           1,
           1,
           1,
           1,
           1,
           1,
           1,
           1,
           1,
           1,
           1,
           1,
           1,
           1,
           1,
           1,
           1,
           1,
           1,
           1,
           1,
           1,
           1,
           1,
           1,
           1,
           1,
           1,
           1,
           1,
           1,
           1,
           1,
           1,
           1,
           1,
           1,
           1,
           2,
           2,
           2,
           2,
           2,
           2,
           2,
           2,
           2,
           2,
           2,
           2,
           2,
           2,
           2,
           2,
           2,
           2,
           2,
           2,
           2,
           2,
           2,
           2,
           2,
           2,
           2,
           2,
           2,
           2,
           2,
           2,
           2,
           2,
           2,
           2,
           2,
           2,
           2,
           2,
           2,
           2,
           2,
           2,
           2,
           2,
           2,
           2,
           2,
           2,
           2,
           2,
           2,
           2,
           2,
           2,
           2,
           2,
           2,
           2,
           2,
           2,
           2,
           2,
           2,
           2,
           2,
           2,
           2,
           2,
           2,
           2,
           1,
           1,
           1,
           1,
           3,
           3,
           3,
           3,
           3,
           3,
           3,
           3,
           3,
           3,
           3,
           3,
           3,
           3,
           3,
           3,
           3,
           3,
           3,
           3,
           3,
           3,
           3,
           3,
           3,
           3,
           3,
           3,
           3,
           3,
           3,
           3,
           3,
           3,
           3,
           3,
           3,
           3,
           3,
           3,
           3,
           3,
           3,
           3,
           3,
           3,
           3,
           3,
           3,
           3,
           3,
           3,
           3,
           3,
           3,
           1,
           1,
           1,
           1,
           1,
           1,
           1,
           1,
           1,
           2,
           2,
           2,
           3,
           3,
           3,
           3,
           1
          ],
          "coloraxis": "coloraxis",
          "symbol": "circle"
         },
         "mode": "markers",
         "name": "",
         "orientation": "v",
         "showlegend": false,
         "type": "scatter",
         "x": [
          8580,
          6874,
          5984,
          11764,
          3773,
          15000,
          3966,
          8176,
          8921,
          3999,
          5966,
          7205,
          12127,
          7106,
          6261,
          8324,
          11984,
          10987,
          13148,
          17533,
          8743,
          5930,
          4946,
          11676,
          24976,
          13000,
          13000,
          10119,
          4668,
          4450,
          10086,
          8186,
          8300,
          6600,
          8000,
          15159,
          11500,
          9500,
          13500,
          11500,
          9000,
          5000,
          6500,
          9000,
          5500,
          3500,
          3000,
          3500,
          5500,
          6500,
          4000,
          1500,
          6000,
          3500,
          4500,
          2500,
          5000,
          8000,
          3500,
          7000,
          4000,
          5000,
          5500,
          6000,
          7000,
          5500,
          4332,
          8000,
          10500,
          10500,
          6000,
          7500,
          4500,
          8500,
          6500,
          9500,
          7500,
          6500,
          12500,
          10000,
          8500,
          13500,
          8500,
          6500,
          9000,
          11500,
          9000,
          13500,
          12500,
          7000,
          4000,
          6500,
          6500,
          11500,
          19500,
          16500,
          12500,
          9500,
          7500,
          14000,
          13500,
          7000,
          7500,
          12500,
          13500,
          12500,
          15500,
          10000,
          7500,
          18500,
          9500,
          17000,
          13500,
          25000,
          13500,
          13500,
          13500,
          9500,
          14000,
          13500,
          19500,
          10500,
          13500,
          13500,
          20000,
          7500,
          11000,
          9500,
          13000,
          6000,
          10000,
          21500,
          3000,
          3000,
          5000,
          6500,
          3000,
          7000,
          3000,
          3500,
          11500,
          4500,
          3000,
          9500,
          6500,
          5000,
          5000,
          2500,
          3000,
          5000,
          2500,
          5500,
          978,
          3000,
          6000,
          4500,
          4000,
          4000,
          5500,
          3500,
          7500,
          5000,
          5000,
          5000,
          3000,
          5000,
          9000,
          3000,
          7000,
          8000,
          4500,
          3500,
          3000,
          12500,
          5500,
          3000,
          6500,
          4500,
          6500,
          7500,
          4000,
          2000,
          4000,
          2000,
          5000,
          5000,
          4000,
          6500,
          7500,
          3000,
          2500,
          4500,
          6000,
          2000,
          4000,
          4000,
          5000,
          5500,
          4000,
          8500,
          7000,
          5000,
          3000,
          3500,
          4500,
          5500,
          6000,
          3500,
          3500,
          6000,
          4500,
          4500,
          5000,
          4500,
          2000,
          4000,
          5500,
          3000,
          4000,
          6000,
          3500,
          10500,
          2000,
          5000,
          1000,
          3000,
          3000,
          983,
          5000,
          7500,
          3000,
          4000,
          3000,
          3000,
          4000,
          1000,
          4000,
          5000,
          1500,
          4000,
          4000,
          9500,
          6500,
          14500,
          5000,
          6500,
          6500,
          9500,
          3500,
          10000,
          10000,
          5000,
          10500,
          8500,
          7000,
          5000,
          5500,
          8000,
          4500,
          8000,
          7500,
          4500,
          8500,
          6000,
          7500,
          7500,
          6500,
          7500,
          13500,
          7500,
          6500,
          6500,
          6500,
          9000,
          8000,
          7500,
          6000,
          6500,
          5500,
          3500,
          7000,
          4500,
          9000,
          6500,
          8000,
          6000,
          8000,
          6500,
          13500,
          8500,
          8000,
          10500,
          6500,
          9500,
          22000,
          7500,
          7500,
          6500,
          8500,
          8500,
          7500,
          5500,
          6500,
          7500,
          7000,
          4000,
          9000,
          7500,
          5500,
          10500,
          13500,
          7000,
          5000,
          5000,
          3500,
          2500,
          5500,
          11500,
          11500,
          8500,
          14000,
          7000,
          10500,
          7000,
          12500,
          9000,
          9000,
          10500,
          12500,
          12500,
          9500,
          6000,
          10500,
          9500,
          10500,
          16000,
          11500,
          12500,
          9500,
          10500,
          10000,
          12500,
          12500,
          14500,
          13500,
          10500,
          13500,
          6500,
          12500,
          10000,
          2000,
          5500,
          8500,
          12500,
          8500,
          9000,
          8500,
          14500,
          12500,
          11500,
          9000,
          10000,
          8500,
          12500,
          10500,
          10375,
          16083,
          25708,
          7166,
          16791,
          9833,
          5916,
          4458,
          6833,
          3041,
          3458,
          6250,
          3000,
          4416,
          4166,
          9000,
          8166,
          10000,
          10166,
          9541,
          8958,
          51333,
          10041,
          1120
         ],
         "xaxis": "x",
         "y": [
          25,
          125,
          25,
          10000,
          350,
          10000,
          2500,
          25,
          25,
          350,
          125,
          125,
          125,
          2500,
          750,
          25,
          10000,
          10000,
          10000,
          10000,
          350,
          350,
          125,
          2500,
          125,
          10000,
          10000,
          10000,
          10000,
          10000,
          750,
          350,
          10000,
          10000,
          2500,
          10000,
          10000,
          350,
          7500,
          25,
          125,
          125,
          125,
          10000,
          350,
          125,
          350,
          25,
          125,
          125,
          2500,
          25,
          2500,
          750,
          125,
          10000,
          25,
          10000,
          10000,
          350,
          125,
          25,
          125,
          10000,
          350,
          10000,
          10000,
          10000,
          10000,
          10000,
          125,
          350,
          10000,
          2500,
          2500,
          350,
          125,
          25,
          10000,
          125,
          10000,
          10000,
          125,
          25,
          350,
          10000,
          350,
          10000,
          125,
          125,
          2500,
          10000,
          2500,
          125,
          350,
          125,
          25,
          350,
          25,
          2500,
          125,
          25,
          350,
          350,
          350,
          7500,
          10000,
          10000,
          10000,
          2500,
          350,
          350,
          10000,
          10000,
          25,
          350,
          10000,
          2500,
          125,
          2500,
          125,
          7500,
          750,
          125,
          25,
          125,
          25,
          10000,
          10000,
          750,
          10000,
          2500,
          2500,
          125,
          125,
          10000,
          125,
          125,
          350,
          10000,
          2500,
          350,
          2500,
          125,
          10000,
          125,
          350,
          2500,
          10000,
          2500,
          10000,
          2500,
          10000,
          10000,
          2500,
          10000,
          2500,
          10000,
          10000,
          350,
          350,
          2500,
          25,
          2500,
          2500,
          2500,
          750,
          750,
          2500,
          350,
          7500,
          2500,
          2500,
          350,
          10000,
          125,
          2500,
          750,
          125,
          125,
          10000,
          2500,
          25,
          10000,
          350,
          2500,
          125,
          10000,
          350,
          2500,
          10000,
          10000,
          2500,
          125,
          125,
          750,
          10000,
          350,
          10000,
          2500,
          125,
          350,
          25,
          350,
          2500,
          2500,
          7500,
          7500,
          125,
          10000,
          2500,
          10000,
          350,
          350,
          2500,
          2500,
          125,
          125,
          2500,
          125,
          10000,
          125,
          125,
          25,
          125,
          350,
          125,
          10000,
          2500,
          125,
          25,
          25,
          10000,
          25,
          25,
          25,
          750,
          125,
          10000,
          25,
          750,
          25,
          750,
          25,
          125,
          25,
          125,
          25,
          750,
          350,
          125,
          350,
          7500,
          2500,
          25,
          125,
          2500,
          125,
          2500,
          125,
          10000,
          7500,
          10000,
          10000,
          125,
          10000,
          10000,
          10000,
          10000,
          125,
          125,
          10000,
          10000,
          350,
          25,
          25,
          350,
          10000,
          350,
          25,
          750,
          2500,
          350,
          125,
          350,
          25,
          10000,
          750,
          25,
          125,
          25,
          2500,
          10000,
          10000,
          7500,
          2500,
          2500,
          2500,
          2500,
          750,
          125,
          125,
          125,
          10000,
          2500,
          750,
          750,
          10000,
          350,
          2500,
          125,
          750,
          25,
          10000,
          10000,
          10000,
          25,
          125,
          10000,
          10000,
          25,
          25,
          125,
          10000,
          10000,
          350,
          2500,
          2500,
          10000,
          10000,
          10000,
          2500,
          2500,
          10000,
          350,
          125,
          350,
          10000,
          10000,
          10000,
          125,
          7500,
          2500,
          10000,
          2500,
          10000,
          25,
          350,
          7500,
          2500,
          2500,
          10000,
          2500,
          125,
          125,
          10000,
          7500,
          10000,
          2500,
          10000,
          125,
          2500,
          7500,
          10000,
          10000,
          350,
          25,
          7500,
          125,
          2500,
          7500,
          2500,
          10000,
          125,
          7500,
          2500,
          2500,
          2500,
          10000,
          7500,
          25,
          2500,
          25,
          25,
          350,
          350,
          350,
          2500,
          125
         ],
         "yaxis": "y"
        }
       ],
       "layout": {
        "coloraxis": {
         "colorbar": {
          "title": {
           "text": "Classe"
          }
         },
         "colorscale": [
          [
           0,
           "#0d0887"
          ],
          [
           0.1111111111111111,
           "#46039f"
          ],
          [
           0.2222222222222222,
           "#7201a8"
          ],
          [
           0.3333333333333333,
           "#9c179e"
          ],
          [
           0.4444444444444444,
           "#bd3786"
          ],
          [
           0.5555555555555556,
           "#d8576b"
          ],
          [
           0.6666666666666666,
           "#ed7953"
          ],
          [
           0.7777777777777778,
           "#fb9f3a"
          ],
          [
           0.8888888888888888,
           "#fdca26"
          ],
          [
           1,
           "#f0f921"
          ]
         ]
        },
        "legend": {
         "tracegroupgap": 0
        },
        "template": {
         "data": {
          "bar": [
           {
            "error_x": {
             "color": "#2a3f5f"
            },
            "error_y": {
             "color": "#2a3f5f"
            },
            "marker": {
             "line": {
              "color": "#E5ECF6",
              "width": 0.5
             },
             "pattern": {
              "fillmode": "overlay",
              "size": 10,
              "solidity": 0.2
             }
            },
            "type": "bar"
           }
          ],
          "barpolar": [
           {
            "marker": {
             "line": {
              "color": "#E5ECF6",
              "width": 0.5
             },
             "pattern": {
              "fillmode": "overlay",
              "size": 10,
              "solidity": 0.2
             }
            },
            "type": "barpolar"
           }
          ],
          "carpet": [
           {
            "aaxis": {
             "endlinecolor": "#2a3f5f",
             "gridcolor": "white",
             "linecolor": "white",
             "minorgridcolor": "white",
             "startlinecolor": "#2a3f5f"
            },
            "baxis": {
             "endlinecolor": "#2a3f5f",
             "gridcolor": "white",
             "linecolor": "white",
             "minorgridcolor": "white",
             "startlinecolor": "#2a3f5f"
            },
            "type": "carpet"
           }
          ],
          "choropleth": [
           {
            "colorbar": {
             "outlinewidth": 0,
             "ticks": ""
            },
            "type": "choropleth"
           }
          ],
          "contour": [
           {
            "colorbar": {
             "outlinewidth": 0,
             "ticks": ""
            },
            "colorscale": [
             [
              0,
              "#0d0887"
             ],
             [
              0.1111111111111111,
              "#46039f"
             ],
             [
              0.2222222222222222,
              "#7201a8"
             ],
             [
              0.3333333333333333,
              "#9c179e"
             ],
             [
              0.4444444444444444,
              "#bd3786"
             ],
             [
              0.5555555555555556,
              "#d8576b"
             ],
             [
              0.6666666666666666,
              "#ed7953"
             ],
             [
              0.7777777777777778,
              "#fb9f3a"
             ],
             [
              0.8888888888888888,
              "#fdca26"
             ],
             [
              1,
              "#f0f921"
             ]
            ],
            "type": "contour"
           }
          ],
          "contourcarpet": [
           {
            "colorbar": {
             "outlinewidth": 0,
             "ticks": ""
            },
            "type": "contourcarpet"
           }
          ],
          "heatmap": [
           {
            "colorbar": {
             "outlinewidth": 0,
             "ticks": ""
            },
            "colorscale": [
             [
              0,
              "#0d0887"
             ],
             [
              0.1111111111111111,
              "#46039f"
             ],
             [
              0.2222222222222222,
              "#7201a8"
             ],
             [
              0.3333333333333333,
              "#9c179e"
             ],
             [
              0.4444444444444444,
              "#bd3786"
             ],
             [
              0.5555555555555556,
              "#d8576b"
             ],
             [
              0.6666666666666666,
              "#ed7953"
             ],
             [
              0.7777777777777778,
              "#fb9f3a"
             ],
             [
              0.8888888888888888,
              "#fdca26"
             ],
             [
              1,
              "#f0f921"
             ]
            ],
            "type": "heatmap"
           }
          ],
          "heatmapgl": [
           {
            "colorbar": {
             "outlinewidth": 0,
             "ticks": ""
            },
            "colorscale": [
             [
              0,
              "#0d0887"
             ],
             [
              0.1111111111111111,
              "#46039f"
             ],
             [
              0.2222222222222222,
              "#7201a8"
             ],
             [
              0.3333333333333333,
              "#9c179e"
             ],
             [
              0.4444444444444444,
              "#bd3786"
             ],
             [
              0.5555555555555556,
              "#d8576b"
             ],
             [
              0.6666666666666666,
              "#ed7953"
             ],
             [
              0.7777777777777778,
              "#fb9f3a"
             ],
             [
              0.8888888888888888,
              "#fdca26"
             ],
             [
              1,
              "#f0f921"
             ]
            ],
            "type": "heatmapgl"
           }
          ],
          "histogram": [
           {
            "marker": {
             "pattern": {
              "fillmode": "overlay",
              "size": 10,
              "solidity": 0.2
             }
            },
            "type": "histogram"
           }
          ],
          "histogram2d": [
           {
            "colorbar": {
             "outlinewidth": 0,
             "ticks": ""
            },
            "colorscale": [
             [
              0,
              "#0d0887"
             ],
             [
              0.1111111111111111,
              "#46039f"
             ],
             [
              0.2222222222222222,
              "#7201a8"
             ],
             [
              0.3333333333333333,
              "#9c179e"
             ],
             [
              0.4444444444444444,
              "#bd3786"
             ],
             [
              0.5555555555555556,
              "#d8576b"
             ],
             [
              0.6666666666666666,
              "#ed7953"
             ],
             [
              0.7777777777777778,
              "#fb9f3a"
             ],
             [
              0.8888888888888888,
              "#fdca26"
             ],
             [
              1,
              "#f0f921"
             ]
            ],
            "type": "histogram2d"
           }
          ],
          "histogram2dcontour": [
           {
            "colorbar": {
             "outlinewidth": 0,
             "ticks": ""
            },
            "colorscale": [
             [
              0,
              "#0d0887"
             ],
             [
              0.1111111111111111,
              "#46039f"
             ],
             [
              0.2222222222222222,
              "#7201a8"
             ],
             [
              0.3333333333333333,
              "#9c179e"
             ],
             [
              0.4444444444444444,
              "#bd3786"
             ],
             [
              0.5555555555555556,
              "#d8576b"
             ],
             [
              0.6666666666666666,
              "#ed7953"
             ],
             [
              0.7777777777777778,
              "#fb9f3a"
             ],
             [
              0.8888888888888888,
              "#fdca26"
             ],
             [
              1,
              "#f0f921"
             ]
            ],
            "type": "histogram2dcontour"
           }
          ],
          "mesh3d": [
           {
            "colorbar": {
             "outlinewidth": 0,
             "ticks": ""
            },
            "type": "mesh3d"
           }
          ],
          "parcoords": [
           {
            "line": {
             "colorbar": {
              "outlinewidth": 0,
              "ticks": ""
             }
            },
            "type": "parcoords"
           }
          ],
          "pie": [
           {
            "automargin": true,
            "type": "pie"
           }
          ],
          "scatter": [
           {
            "marker": {
             "colorbar": {
              "outlinewidth": 0,
              "ticks": ""
             }
            },
            "type": "scatter"
           }
          ],
          "scatter3d": [
           {
            "line": {
             "colorbar": {
              "outlinewidth": 0,
              "ticks": ""
             }
            },
            "marker": {
             "colorbar": {
              "outlinewidth": 0,
              "ticks": ""
             }
            },
            "type": "scatter3d"
           }
          ],
          "scattercarpet": [
           {
            "marker": {
             "colorbar": {
              "outlinewidth": 0,
              "ticks": ""
             }
            },
            "type": "scattercarpet"
           }
          ],
          "scattergeo": [
           {
            "marker": {
             "colorbar": {
              "outlinewidth": 0,
              "ticks": ""
             }
            },
            "type": "scattergeo"
           }
          ],
          "scattergl": [
           {
            "marker": {
             "colorbar": {
              "outlinewidth": 0,
              "ticks": ""
             }
            },
            "type": "scattergl"
           }
          ],
          "scattermapbox": [
           {
            "marker": {
             "colorbar": {
              "outlinewidth": 0,
              "ticks": ""
             }
            },
            "type": "scattermapbox"
           }
          ],
          "scatterpolar": [
           {
            "marker": {
             "colorbar": {
              "outlinewidth": 0,
              "ticks": ""
             }
            },
            "type": "scatterpolar"
           }
          ],
          "scatterpolargl": [
           {
            "marker": {
             "colorbar": {
              "outlinewidth": 0,
              "ticks": ""
             }
            },
            "type": "scatterpolargl"
           }
          ],
          "scatterternary": [
           {
            "marker": {
             "colorbar": {
              "outlinewidth": 0,
              "ticks": ""
             }
            },
            "type": "scatterternary"
           }
          ],
          "surface": [
           {
            "colorbar": {
             "outlinewidth": 0,
             "ticks": ""
            },
            "colorscale": [
             [
              0,
              "#0d0887"
             ],
             [
              0.1111111111111111,
              "#46039f"
             ],
             [
              0.2222222222222222,
              "#7201a8"
             ],
             [
              0.3333333333333333,
              "#9c179e"
             ],
             [
              0.4444444444444444,
              "#bd3786"
             ],
             [
              0.5555555555555556,
              "#d8576b"
             ],
             [
              0.6666666666666666,
              "#ed7953"
             ],
             [
              0.7777777777777778,
              "#fb9f3a"
             ],
             [
              0.8888888888888888,
              "#fdca26"
             ],
             [
              1,
              "#f0f921"
             ]
            ],
            "type": "surface"
           }
          ],
          "table": [
           {
            "cells": {
             "fill": {
              "color": "#EBF0F8"
             },
             "line": {
              "color": "white"
             }
            },
            "header": {
             "fill": {
              "color": "#C8D4E3"
             },
             "line": {
              "color": "white"
             }
            },
            "type": "table"
           }
          ]
         },
         "layout": {
          "annotationdefaults": {
           "arrowcolor": "#2a3f5f",
           "arrowhead": 0,
           "arrowwidth": 1
          },
          "autotypenumbers": "strict",
          "coloraxis": {
           "colorbar": {
            "outlinewidth": 0,
            "ticks": ""
           }
          },
          "colorscale": {
           "diverging": [
            [
             0,
             "#8e0152"
            ],
            [
             0.1,
             "#c51b7d"
            ],
            [
             0.2,
             "#de77ae"
            ],
            [
             0.3,
             "#f1b6da"
            ],
            [
             0.4,
             "#fde0ef"
            ],
            [
             0.5,
             "#f7f7f7"
            ],
            [
             0.6,
             "#e6f5d0"
            ],
            [
             0.7,
             "#b8e186"
            ],
            [
             0.8,
             "#7fbc41"
            ],
            [
             0.9,
             "#4d9221"
            ],
            [
             1,
             "#276419"
            ]
           ],
           "sequential": [
            [
             0,
             "#0d0887"
            ],
            [
             0.1111111111111111,
             "#46039f"
            ],
            [
             0.2222222222222222,
             "#7201a8"
            ],
            [
             0.3333333333333333,
             "#9c179e"
            ],
            [
             0.4444444444444444,
             "#bd3786"
            ],
            [
             0.5555555555555556,
             "#d8576b"
            ],
            [
             0.6666666666666666,
             "#ed7953"
            ],
            [
             0.7777777777777778,
             "#fb9f3a"
            ],
            [
             0.8888888888888888,
             "#fdca26"
            ],
            [
             1,
             "#f0f921"
            ]
           ],
           "sequentialminus": [
            [
             0,
             "#0d0887"
            ],
            [
             0.1111111111111111,
             "#46039f"
            ],
            [
             0.2222222222222222,
             "#7201a8"
            ],
            [
             0.3333333333333333,
             "#9c179e"
            ],
            [
             0.4444444444444444,
             "#bd3786"
            ],
            [
             0.5555555555555556,
             "#d8576b"
            ],
            [
             0.6666666666666666,
             "#ed7953"
            ],
            [
             0.7777777777777778,
             "#fb9f3a"
            ],
            [
             0.8888888888888888,
             "#fdca26"
            ],
            [
             1,
             "#f0f921"
            ]
           ]
          },
          "colorway": [
           "#636efa",
           "#EF553B",
           "#00cc96",
           "#ab63fa",
           "#FFA15A",
           "#19d3f3",
           "#FF6692",
           "#B6E880",
           "#FF97FF",
           "#FECB52"
          ],
          "font": {
           "color": "#2a3f5f"
          },
          "geo": {
           "bgcolor": "white",
           "lakecolor": "white",
           "landcolor": "#E5ECF6",
           "showlakes": true,
           "showland": true,
           "subunitcolor": "white"
          },
          "hoverlabel": {
           "align": "left"
          },
          "hovermode": "closest",
          "mapbox": {
           "style": "light"
          },
          "paper_bgcolor": "white",
          "plot_bgcolor": "#E5ECF6",
          "polar": {
           "angularaxis": {
            "gridcolor": "white",
            "linecolor": "white",
            "ticks": ""
           },
           "bgcolor": "#E5ECF6",
           "radialaxis": {
            "gridcolor": "white",
            "linecolor": "white",
            "ticks": ""
           }
          },
          "scene": {
           "xaxis": {
            "backgroundcolor": "#E5ECF6",
            "gridcolor": "white",
            "gridwidth": 2,
            "linecolor": "white",
            "showbackground": true,
            "ticks": "",
            "zerolinecolor": "white"
           },
           "yaxis": {
            "backgroundcolor": "#E5ECF6",
            "gridcolor": "white",
            "gridwidth": 2,
            "linecolor": "white",
            "showbackground": true,
            "ticks": "",
            "zerolinecolor": "white"
           },
           "zaxis": {
            "backgroundcolor": "#E5ECF6",
            "gridcolor": "white",
            "gridwidth": 2,
            "linecolor": "white",
            "showbackground": true,
            "ticks": "",
            "zerolinecolor": "white"
           }
          },
          "shapedefaults": {
           "line": {
            "color": "#2a3f5f"
           }
          },
          "ternary": {
           "aaxis": {
            "gridcolor": "white",
            "linecolor": "white",
            "ticks": ""
           },
           "baxis": {
            "gridcolor": "white",
            "linecolor": "white",
            "ticks": ""
           },
           "bgcolor": "#E5ECF6",
           "caxis": {
            "gridcolor": "white",
            "linecolor": "white",
            "ticks": ""
           }
          },
          "title": {
           "x": 0.05
          },
          "xaxis": {
           "automargin": true,
           "gridcolor": "white",
           "linecolor": "white",
           "ticks": "",
           "title": {
            "standoff": 15
           },
           "zerolinecolor": "white",
           "zerolinewidth": 2
          },
          "yaxis": {
           "automargin": true,
           "gridcolor": "white",
           "linecolor": "white",
           "ticks": "",
           "title": {
            "standoff": 15
           },
           "zerolinecolor": "white",
           "zerolinewidth": 2
          }
         }
        },
        "title": {
         "text": "Salario/Tamanho"
        },
        "xaxis": {
         "anchor": "y",
         "domain": [
          0,
          1
         ],
         "title": {
          "text": "Salario"
         }
        },
        "yaxis": {
         "anchor": "x",
         "domain": [
          0,
          1
         ],
         "title": {
          "text": "Tamanho"
         }
        }
       }
      },
      "text/html": [
       "<div>                            <div id=\"24b13f70-15e5-4626-bc88-b45fca792ec7\" class=\"plotly-graph-div\" style=\"height:525px; width:100%;\"></div>            <script type=\"text/javascript\">                require([\"plotly\"], function(Plotly) {                    window.PLOTLYENV=window.PLOTLYENV || {};                                    if (document.getElementById(\"24b13f70-15e5-4626-bc88-b45fca792ec7\")) {                    Plotly.newPlot(                        \"24b13f70-15e5-4626-bc88-b45fca792ec7\",                        [{\"hovertemplate\":\"Salario=%{x}<br>Tamanho=%{y}<br>Classe=%{marker.color}<extra></extra>\",\"legendgroup\":\"\",\"marker\":{\"color\":[2,1,1,3,1,3,1,2,3,1,2,1,3,1,2,3,3,3,3,3,1,2,2,3,3,3,3,3,1,1,2,2,2,3,3,3,3,3,3,3,3,1,1,2,1,1,1,1,1,1,1,1,1,1,1,1,1,1,1,1,1,1,2,2,2,2,2,2,2,2,2,2,2,2,2,2,2,2,3,3,3,3,3,3,3,3,3,3,3,1,1,1,1,1,3,3,3,3,3,3,3,3,3,3,3,3,3,3,3,3,3,3,3,3,3,3,3,3,3,3,3,3,3,3,3,3,3,3,3,3,3,3,1,1,1,1,1,1,1,1,1,1,1,2,1,1,1,1,1,1,1,1,1,1,1,1,1,1,1,1,1,1,1,1,1,1,1,1,1,1,1,1,1,1,1,1,1,1,1,1,1,1,1,1,1,1,1,1,1,1,1,1,1,1,1,1,1,1,1,1,1,1,1,1,1,1,1,1,1,1,1,1,1,1,1,1,1,1,1,1,1,1,1,1,1,1,1,1,1,1,1,1,1,1,1,1,1,1,1,1,1,2,2,2,2,2,2,2,2,2,2,2,2,2,2,2,2,2,2,2,2,2,2,2,2,2,2,2,2,2,2,2,2,2,2,2,2,2,2,2,2,2,2,2,2,2,2,2,2,2,2,2,2,2,2,2,2,2,2,2,2,2,2,2,2,2,2,2,2,2,2,2,2,1,1,1,1,3,3,3,3,3,3,3,3,3,3,3,3,3,3,3,3,3,3,3,3,3,3,3,3,3,3,3,3,3,3,3,3,3,3,3,3,3,3,3,3,3,3,3,3,3,3,3,3,3,3,3,3,3,3,3,1,1,1,1,1,1,1,1,1,2,2,2,3,3,3,3,1],\"coloraxis\":\"coloraxis\",\"symbol\":\"circle\"},\"mode\":\"markers\",\"name\":\"\",\"orientation\":\"v\",\"showlegend\":false,\"type\":\"scatter\",\"x\":[8580,6874,5984,11764,3773,15000,3966,8176,8921,3999,5966,7205,12127,7106,6261,8324,11984,10987,13148,17533,8743,5930,4946,11676,24976,13000,13000,10119,4668,4450,10086,8186,8300,6600,8000,15159,11500,9500,13500,11500,9000,5000,6500,9000,5500,3500,3000,3500,5500,6500,4000,1500,6000,3500,4500,2500,5000,8000,3500,7000,4000,5000,5500,6000,7000,5500,4332,8000,10500,10500,6000,7500,4500,8500,6500,9500,7500,6500,12500,10000,8500,13500,8500,6500,9000,11500,9000,13500,12500,7000,4000,6500,6500,11500,19500,16500,12500,9500,7500,14000,13500,7000,7500,12500,13500,12500,15500,10000,7500,18500,9500,17000,13500,25000,13500,13500,13500,9500,14000,13500,19500,10500,13500,13500,20000,7500,11000,9500,13000,6000,10000,21500,3000,3000,5000,6500,3000,7000,3000,3500,11500,4500,3000,9500,6500,5000,5000,2500,3000,5000,2500,5500,978,3000,6000,4500,4000,4000,5500,3500,7500,5000,5000,5000,3000,5000,9000,3000,7000,8000,4500,3500,3000,12500,5500,3000,6500,4500,6500,7500,4000,2000,4000,2000,5000,5000,4000,6500,7500,3000,2500,4500,6000,2000,4000,4000,5000,5500,4000,8500,7000,5000,3000,3500,4500,5500,6000,3500,3500,6000,4500,4500,5000,4500,2000,4000,5500,3000,4000,6000,3500,10500,2000,5000,1000,3000,3000,983,5000,7500,3000,4000,3000,3000,4000,1000,4000,5000,1500,4000,4000,9500,6500,14500,5000,6500,6500,9500,3500,10000,10000,5000,10500,8500,7000,5000,5500,8000,4500,8000,7500,4500,8500,6000,7500,7500,6500,7500,13500,7500,6500,6500,6500,9000,8000,7500,6000,6500,5500,3500,7000,4500,9000,6500,8000,6000,8000,6500,13500,8500,8000,10500,6500,9500,22000,7500,7500,6500,8500,8500,7500,5500,6500,7500,7000,4000,9000,7500,5500,10500,13500,7000,5000,5000,3500,2500,5500,11500,11500,8500,14000,7000,10500,7000,12500,9000,9000,10500,12500,12500,9500,6000,10500,9500,10500,16000,11500,12500,9500,10500,10000,12500,12500,14500,13500,10500,13500,6500,12500,10000,2000,5500,8500,12500,8500,9000,8500,14500,12500,11500,9000,10000,8500,12500,10500,10375,16083,25708,7166,16791,9833,5916,4458,6833,3041,3458,6250,3000,4416,4166,9000,8166,10000,10166,9541,8958,51333,10041,1120],\"xaxis\":\"x\",\"y\":[25,125,25,10000,350,10000,2500,25,25,350,125,125,125,2500,750,25,10000,10000,10000,10000,350,350,125,2500,125,10000,10000,10000,10000,10000,750,350,10000,10000,2500,10000,10000,350,7500,25,125,125,125,10000,350,125,350,25,125,125,2500,25,2500,750,125,10000,25,10000,10000,350,125,25,125,10000,350,10000,10000,10000,10000,10000,125,350,10000,2500,2500,350,125,25,10000,125,10000,10000,125,25,350,10000,350,10000,125,125,2500,10000,2500,125,350,125,25,350,25,2500,125,25,350,350,350,7500,10000,10000,10000,2500,350,350,10000,10000,25,350,10000,2500,125,2500,125,7500,750,125,25,125,25,10000,10000,750,10000,2500,2500,125,125,10000,125,125,350,10000,2500,350,2500,125,10000,125,350,2500,10000,2500,10000,2500,10000,10000,2500,10000,2500,10000,10000,350,350,2500,25,2500,2500,2500,750,750,2500,350,7500,2500,2500,350,10000,125,2500,750,125,125,10000,2500,25,10000,350,2500,125,10000,350,2500,10000,10000,2500,125,125,750,10000,350,10000,2500,125,350,25,350,2500,2500,7500,7500,125,10000,2500,10000,350,350,2500,2500,125,125,2500,125,10000,125,125,25,125,350,125,10000,2500,125,25,25,10000,25,25,25,750,125,10000,25,750,25,750,25,125,25,125,25,750,350,125,350,7500,2500,25,125,2500,125,2500,125,10000,7500,10000,10000,125,10000,10000,10000,10000,125,125,10000,10000,350,25,25,350,10000,350,25,750,2500,350,125,350,25,10000,750,25,125,25,2500,10000,10000,7500,2500,2500,2500,2500,750,125,125,125,10000,2500,750,750,10000,350,2500,125,750,25,10000,10000,10000,25,125,10000,10000,25,25,125,10000,10000,350,2500,2500,10000,10000,10000,2500,2500,10000,350,125,350,10000,10000,10000,125,7500,2500,10000,2500,10000,25,350,7500,2500,2500,10000,2500,125,125,10000,7500,10000,2500,10000,125,2500,7500,10000,10000,350,25,7500,125,2500,7500,2500,10000,125,7500,2500,2500,2500,10000,7500,25,2500,25,25,350,350,350,2500,125],\"yaxis\":\"y\"}],                        {\"coloraxis\":{\"colorbar\":{\"title\":{\"text\":\"Classe\"}},\"colorscale\":[[0.0,\"#0d0887\"],[0.1111111111111111,\"#46039f\"],[0.2222222222222222,\"#7201a8\"],[0.3333333333333333,\"#9c179e\"],[0.4444444444444444,\"#bd3786\"],[0.5555555555555556,\"#d8576b\"],[0.6666666666666666,\"#ed7953\"],[0.7777777777777778,\"#fb9f3a\"],[0.8888888888888888,\"#fdca26\"],[1.0,\"#f0f921\"]]},\"legend\":{\"tracegroupgap\":0},\"template\":{\"data\":{\"bar\":[{\"error_x\":{\"color\":\"#2a3f5f\"},\"error_y\":{\"color\":\"#2a3f5f\"},\"marker\":{\"line\":{\"color\":\"#E5ECF6\",\"width\":0.5},\"pattern\":{\"fillmode\":\"overlay\",\"size\":10,\"solidity\":0.2}},\"type\":\"bar\"}],\"barpolar\":[{\"marker\":{\"line\":{\"color\":\"#E5ECF6\",\"width\":0.5},\"pattern\":{\"fillmode\":\"overlay\",\"size\":10,\"solidity\":0.2}},\"type\":\"barpolar\"}],\"carpet\":[{\"aaxis\":{\"endlinecolor\":\"#2a3f5f\",\"gridcolor\":\"white\",\"linecolor\":\"white\",\"minorgridcolor\":\"white\",\"startlinecolor\":\"#2a3f5f\"},\"baxis\":{\"endlinecolor\":\"#2a3f5f\",\"gridcolor\":\"white\",\"linecolor\":\"white\",\"minorgridcolor\":\"white\",\"startlinecolor\":\"#2a3f5f\"},\"type\":\"carpet\"}],\"choropleth\":[{\"colorbar\":{\"outlinewidth\":0,\"ticks\":\"\"},\"type\":\"choropleth\"}],\"contour\":[{\"colorbar\":{\"outlinewidth\":0,\"ticks\":\"\"},\"colorscale\":[[0.0,\"#0d0887\"],[0.1111111111111111,\"#46039f\"],[0.2222222222222222,\"#7201a8\"],[0.3333333333333333,\"#9c179e\"],[0.4444444444444444,\"#bd3786\"],[0.5555555555555556,\"#d8576b\"],[0.6666666666666666,\"#ed7953\"],[0.7777777777777778,\"#fb9f3a\"],[0.8888888888888888,\"#fdca26\"],[1.0,\"#f0f921\"]],\"type\":\"contour\"}],\"contourcarpet\":[{\"colorbar\":{\"outlinewidth\":0,\"ticks\":\"\"},\"type\":\"contourcarpet\"}],\"heatmap\":[{\"colorbar\":{\"outlinewidth\":0,\"ticks\":\"\"},\"colorscale\":[[0.0,\"#0d0887\"],[0.1111111111111111,\"#46039f\"],[0.2222222222222222,\"#7201a8\"],[0.3333333333333333,\"#9c179e\"],[0.4444444444444444,\"#bd3786\"],[0.5555555555555556,\"#d8576b\"],[0.6666666666666666,\"#ed7953\"],[0.7777777777777778,\"#fb9f3a\"],[0.8888888888888888,\"#fdca26\"],[1.0,\"#f0f921\"]],\"type\":\"heatmap\"}],\"heatmapgl\":[{\"colorbar\":{\"outlinewidth\":0,\"ticks\":\"\"},\"colorscale\":[[0.0,\"#0d0887\"],[0.1111111111111111,\"#46039f\"],[0.2222222222222222,\"#7201a8\"],[0.3333333333333333,\"#9c179e\"],[0.4444444444444444,\"#bd3786\"],[0.5555555555555556,\"#d8576b\"],[0.6666666666666666,\"#ed7953\"],[0.7777777777777778,\"#fb9f3a\"],[0.8888888888888888,\"#fdca26\"],[1.0,\"#f0f921\"]],\"type\":\"heatmapgl\"}],\"histogram\":[{\"marker\":{\"pattern\":{\"fillmode\":\"overlay\",\"size\":10,\"solidity\":0.2}},\"type\":\"histogram\"}],\"histogram2d\":[{\"colorbar\":{\"outlinewidth\":0,\"ticks\":\"\"},\"colorscale\":[[0.0,\"#0d0887\"],[0.1111111111111111,\"#46039f\"],[0.2222222222222222,\"#7201a8\"],[0.3333333333333333,\"#9c179e\"],[0.4444444444444444,\"#bd3786\"],[0.5555555555555556,\"#d8576b\"],[0.6666666666666666,\"#ed7953\"],[0.7777777777777778,\"#fb9f3a\"],[0.8888888888888888,\"#fdca26\"],[1.0,\"#f0f921\"]],\"type\":\"histogram2d\"}],\"histogram2dcontour\":[{\"colorbar\":{\"outlinewidth\":0,\"ticks\":\"\"},\"colorscale\":[[0.0,\"#0d0887\"],[0.1111111111111111,\"#46039f\"],[0.2222222222222222,\"#7201a8\"],[0.3333333333333333,\"#9c179e\"],[0.4444444444444444,\"#bd3786\"],[0.5555555555555556,\"#d8576b\"],[0.6666666666666666,\"#ed7953\"],[0.7777777777777778,\"#fb9f3a\"],[0.8888888888888888,\"#fdca26\"],[1.0,\"#f0f921\"]],\"type\":\"histogram2dcontour\"}],\"mesh3d\":[{\"colorbar\":{\"outlinewidth\":0,\"ticks\":\"\"},\"type\":\"mesh3d\"}],\"parcoords\":[{\"line\":{\"colorbar\":{\"outlinewidth\":0,\"ticks\":\"\"}},\"type\":\"parcoords\"}],\"pie\":[{\"automargin\":true,\"type\":\"pie\"}],\"scatter\":[{\"marker\":{\"colorbar\":{\"outlinewidth\":0,\"ticks\":\"\"}},\"type\":\"scatter\"}],\"scatter3d\":[{\"line\":{\"colorbar\":{\"outlinewidth\":0,\"ticks\":\"\"}},\"marker\":{\"colorbar\":{\"outlinewidth\":0,\"ticks\":\"\"}},\"type\":\"scatter3d\"}],\"scattercarpet\":[{\"marker\":{\"colorbar\":{\"outlinewidth\":0,\"ticks\":\"\"}},\"type\":\"scattercarpet\"}],\"scattergeo\":[{\"marker\":{\"colorbar\":{\"outlinewidth\":0,\"ticks\":\"\"}},\"type\":\"scattergeo\"}],\"scattergl\":[{\"marker\":{\"colorbar\":{\"outlinewidth\":0,\"ticks\":\"\"}},\"type\":\"scattergl\"}],\"scattermapbox\":[{\"marker\":{\"colorbar\":{\"outlinewidth\":0,\"ticks\":\"\"}},\"type\":\"scattermapbox\"}],\"scatterpolar\":[{\"marker\":{\"colorbar\":{\"outlinewidth\":0,\"ticks\":\"\"}},\"type\":\"scatterpolar\"}],\"scatterpolargl\":[{\"marker\":{\"colorbar\":{\"outlinewidth\":0,\"ticks\":\"\"}},\"type\":\"scatterpolargl\"}],\"scatterternary\":[{\"marker\":{\"colorbar\":{\"outlinewidth\":0,\"ticks\":\"\"}},\"type\":\"scatterternary\"}],\"surface\":[{\"colorbar\":{\"outlinewidth\":0,\"ticks\":\"\"},\"colorscale\":[[0.0,\"#0d0887\"],[0.1111111111111111,\"#46039f\"],[0.2222222222222222,\"#7201a8\"],[0.3333333333333333,\"#9c179e\"],[0.4444444444444444,\"#bd3786\"],[0.5555555555555556,\"#d8576b\"],[0.6666666666666666,\"#ed7953\"],[0.7777777777777778,\"#fb9f3a\"],[0.8888888888888888,\"#fdca26\"],[1.0,\"#f0f921\"]],\"type\":\"surface\"}],\"table\":[{\"cells\":{\"fill\":{\"color\":\"#EBF0F8\"},\"line\":{\"color\":\"white\"}},\"header\":{\"fill\":{\"color\":\"#C8D4E3\"},\"line\":{\"color\":\"white\"}},\"type\":\"table\"}]},\"layout\":{\"annotationdefaults\":{\"arrowcolor\":\"#2a3f5f\",\"arrowhead\":0,\"arrowwidth\":1},\"autotypenumbers\":\"strict\",\"coloraxis\":{\"colorbar\":{\"outlinewidth\":0,\"ticks\":\"\"}},\"colorscale\":{\"diverging\":[[0,\"#8e0152\"],[0.1,\"#c51b7d\"],[0.2,\"#de77ae\"],[0.3,\"#f1b6da\"],[0.4,\"#fde0ef\"],[0.5,\"#f7f7f7\"],[0.6,\"#e6f5d0\"],[0.7,\"#b8e186\"],[0.8,\"#7fbc41\"],[0.9,\"#4d9221\"],[1,\"#276419\"]],\"sequential\":[[0.0,\"#0d0887\"],[0.1111111111111111,\"#46039f\"],[0.2222222222222222,\"#7201a8\"],[0.3333333333333333,\"#9c179e\"],[0.4444444444444444,\"#bd3786\"],[0.5555555555555556,\"#d8576b\"],[0.6666666666666666,\"#ed7953\"],[0.7777777777777778,\"#fb9f3a\"],[0.8888888888888888,\"#fdca26\"],[1.0,\"#f0f921\"]],\"sequentialminus\":[[0.0,\"#0d0887\"],[0.1111111111111111,\"#46039f\"],[0.2222222222222222,\"#7201a8\"],[0.3333333333333333,\"#9c179e\"],[0.4444444444444444,\"#bd3786\"],[0.5555555555555556,\"#d8576b\"],[0.6666666666666666,\"#ed7953\"],[0.7777777777777778,\"#fb9f3a\"],[0.8888888888888888,\"#fdca26\"],[1.0,\"#f0f921\"]]},\"colorway\":[\"#636efa\",\"#EF553B\",\"#00cc96\",\"#ab63fa\",\"#FFA15A\",\"#19d3f3\",\"#FF6692\",\"#B6E880\",\"#FF97FF\",\"#FECB52\"],\"font\":{\"color\":\"#2a3f5f\"},\"geo\":{\"bgcolor\":\"white\",\"lakecolor\":\"white\",\"landcolor\":\"#E5ECF6\",\"showlakes\":true,\"showland\":true,\"subunitcolor\":\"white\"},\"hoverlabel\":{\"align\":\"left\"},\"hovermode\":\"closest\",\"mapbox\":{\"style\":\"light\"},\"paper_bgcolor\":\"white\",\"plot_bgcolor\":\"#E5ECF6\",\"polar\":{\"angularaxis\":{\"gridcolor\":\"white\",\"linecolor\":\"white\",\"ticks\":\"\"},\"bgcolor\":\"#E5ECF6\",\"radialaxis\":{\"gridcolor\":\"white\",\"linecolor\":\"white\",\"ticks\":\"\"}},\"scene\":{\"xaxis\":{\"backgroundcolor\":\"#E5ECF6\",\"gridcolor\":\"white\",\"gridwidth\":2,\"linecolor\":\"white\",\"showbackground\":true,\"ticks\":\"\",\"zerolinecolor\":\"white\"},\"yaxis\":{\"backgroundcolor\":\"#E5ECF6\",\"gridcolor\":\"white\",\"gridwidth\":2,\"linecolor\":\"white\",\"showbackground\":true,\"ticks\":\"\",\"zerolinecolor\":\"white\"},\"zaxis\":{\"backgroundcolor\":\"#E5ECF6\",\"gridcolor\":\"white\",\"gridwidth\":2,\"linecolor\":\"white\",\"showbackground\":true,\"ticks\":\"\",\"zerolinecolor\":\"white\"}},\"shapedefaults\":{\"line\":{\"color\":\"#2a3f5f\"}},\"ternary\":{\"aaxis\":{\"gridcolor\":\"white\",\"linecolor\":\"white\",\"ticks\":\"\"},\"baxis\":{\"gridcolor\":\"white\",\"linecolor\":\"white\",\"ticks\":\"\"},\"bgcolor\":\"#E5ECF6\",\"caxis\":{\"gridcolor\":\"white\",\"linecolor\":\"white\",\"ticks\":\"\"}},\"title\":{\"x\":0.05},\"xaxis\":{\"automargin\":true,\"gridcolor\":\"white\",\"linecolor\":\"white\",\"ticks\":\"\",\"title\":{\"standoff\":15},\"zerolinecolor\":\"white\",\"zerolinewidth\":2},\"yaxis\":{\"automargin\":true,\"gridcolor\":\"white\",\"linecolor\":\"white\",\"ticks\":\"\",\"title\":{\"standoff\":15},\"zerolinecolor\":\"white\",\"zerolinewidth\":2}}},\"title\":{\"text\":\"Salario/Tamanho\"},\"xaxis\":{\"anchor\":\"y\",\"domain\":[0.0,1.0],\"title\":{\"text\":\"Salario\"}},\"yaxis\":{\"anchor\":\"x\",\"domain\":[0.0,1.0],\"title\":{\"text\":\"Tamanho\"}}},                        {\"responsive\": true}                    ).then(function(){\n",
       "                            \n",
       "var gd = document.getElementById('24b13f70-15e5-4626-bc88-b45fca792ec7');\n",
       "var x = new MutationObserver(function (mutations, observer) {{\n",
       "        var display = window.getComputedStyle(gd).display;\n",
       "        if (!display || display === 'none') {{\n",
       "            console.log([gd, 'removed!']);\n",
       "            Plotly.purge(gd);\n",
       "            observer.disconnect();\n",
       "        }}\n",
       "}});\n",
       "\n",
       "// Listen for the removal of the full notebook cells\n",
       "var notebookContainer = gd.closest('#notebook-container');\n",
       "if (notebookContainer) {{\n",
       "    x.observe(notebookContainer, {childList: true});\n",
       "}}\n",
       "\n",
       "// Listen for the clearing of the current output cell\n",
       "var outputEl = gd.closest('.output');\n",
       "if (outputEl) {{\n",
       "    x.observe(outputEl, {childList: true});\n",
       "}}\n",
       "\n",
       "                        })                };                });            </script>        </div>"
      ]
     },
     "metadata": {},
     "output_type": "display_data"
    }
   ],
   "source": [
    "import plotly.express as px\n",
    "\n",
    "fig = px.scatter(df, x=\"Salario\", y=\"Tamanho\", color=\"Classe\",\n",
    "                 title=\"Salario/Tamanho\")\n",
    "\n",
    "fig.show()"
   ]
  },
  {
   "cell_type": "code",
   "execution_count": null,
   "metadata": {},
   "outputs": [],
   "source": []
  }
 ],
 "metadata": {
  "kernelspec": {
   "display_name": "Python 3",
   "language": "python",
   "name": "python3"
  },
  "language_info": {
   "codemirror_mode": {
    "name": "ipython",
    "version": 3
   },
   "file_extension": ".py",
   "mimetype": "text/x-python",
   "name": "python",
   "nbconvert_exporter": "python",
   "pygments_lexer": "ipython3",
   "version": "3.7.4"
  }
 },
 "nbformat": 4,
 "nbformat_minor": 2
}
